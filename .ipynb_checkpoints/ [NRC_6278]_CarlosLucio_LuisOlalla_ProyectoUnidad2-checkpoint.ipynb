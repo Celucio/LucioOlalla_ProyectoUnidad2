{
 "cells": [
  {
   "cell_type": "markdown",
   "id": "7e36035e",
   "metadata": {},
   "source": [
    "# Importación de librerias necesarias"
   ]
  },
  {
   "cell_type": "code",
   "execution_count": 1,
   "id": "4dad5080",
   "metadata": {},
   "outputs": [],
   "source": [
    "#Inporatamos la libreria pandas\n",
    "import pandas as pd \n",
    "#Inporatamos la libreria seaborn\n",
    "import seaborn as sns\n",
    "#Inporatamos la libreria numpy\n",
    "import numpy as np\n",
    "#Importamos LabelEncoder desde la libreria sklearn\n",
    "from sklearn.preprocessing import LabelEncoder\n",
    "#Importamos train_test_split desde la libreria sklearn\n",
    "from sklearn.model_selection import train_test_split\n",
    "#Importamos MinMaxScaler desde la libreria sklearn\n",
    "from sklearn.preprocessing import MinMaxScaler\n",
    "#Importamos la libreria matplotlib\n",
    "import matplotlib.pyplot as plt\n",
    "#Importamos GaussianNB desde la libreria sklearn\n",
    "from sklearn.naive_bayes import GaussianNB\n",
    "#Importamos Metric desde la libreria sklearn\n",
    "from sklearn import metrics\n",
    "#Importamos la libreria collections\n",
    "import collections\n",
    "#Importamos confusion_matrix desde la libreria sklearn\n",
    "from sklearn.metrics import confusion_matrix\n",
    "# Importamos acurracy_score desde la libreria sklearn\n",
    "from sklearn.metrics import accuracy_score\n",
    "#Importamos recall_score desde la libreria sklearn\n",
    "from sklearn.metrics import recall_score\n",
    "#Importamos precision_score desde la libreria sklearn\n",
    "from sklearn.metrics import precision_score\n",
    "#Importamos f1_score desde la libreria sklearn\n",
    "from sklearn.metrics import f1_score\n",
    "# the scaler - for standardisation\n",
    "from sklearn.preprocessing import StandardScaler\n",
    "#Importamos hiden markov model desde la libreria hmmlearn\n",
    "from hmmlearn import hmm"
   ]
  },
  {
   "cell_type": "code",
   "execution_count": 2,
   "id": "75c7423c",
   "metadata": {},
   "outputs": [],
   "source": [
    "#Carga del dataset\n",
    "df = pd.read_csv(\"mantenimiento.csv\")"
   ]
  },
  {
   "cell_type": "code",
   "execution_count": 3,
   "id": "013b20b1",
   "metadata": {},
   "outputs": [
    {
     "data": {
      "text/html": [
       "<div>\n",
       "<style scoped>\n",
       "    .dataframe tbody tr th:only-of-type {\n",
       "        vertical-align: middle;\n",
       "    }\n",
       "\n",
       "    .dataframe tbody tr th {\n",
       "        vertical-align: top;\n",
       "    }\n",
       "\n",
       "    .dataframe thead th {\n",
       "        text-align: right;\n",
       "    }\n",
       "</style>\n",
       "<table border=\"1\" class=\"dataframe\">\n",
       "  <thead>\n",
       "    <tr style=\"text-align: right;\">\n",
       "      <th></th>\n",
       "      <th>UDI</th>\n",
       "      <th>Product ID</th>\n",
       "      <th>Type</th>\n",
       "      <th>Air temperature [K]</th>\n",
       "      <th>Process temperature [K]</th>\n",
       "      <th>Rotational speed [rpm]</th>\n",
       "      <th>Torque [Nm]</th>\n",
       "      <th>Tool wear [min]</th>\n",
       "      <th>Target</th>\n",
       "      <th>Failure Type</th>\n",
       "    </tr>\n",
       "  </thead>\n",
       "  <tbody>\n",
       "    <tr>\n",
       "      <th>0</th>\n",
       "      <td>1</td>\n",
       "      <td>M14860</td>\n",
       "      <td>M</td>\n",
       "      <td>298.1</td>\n",
       "      <td>308.6</td>\n",
       "      <td>1551</td>\n",
       "      <td>42.8</td>\n",
       "      <td>0</td>\n",
       "      <td>0</td>\n",
       "      <td>No Failure</td>\n",
       "    </tr>\n",
       "    <tr>\n",
       "      <th>1</th>\n",
       "      <td>2</td>\n",
       "      <td>L47181</td>\n",
       "      <td>L</td>\n",
       "      <td>298.2</td>\n",
       "      <td>308.7</td>\n",
       "      <td>1408</td>\n",
       "      <td>46.3</td>\n",
       "      <td>3</td>\n",
       "      <td>0</td>\n",
       "      <td>No Failure</td>\n",
       "    </tr>\n",
       "    <tr>\n",
       "      <th>2</th>\n",
       "      <td>3</td>\n",
       "      <td>L47182</td>\n",
       "      <td>L</td>\n",
       "      <td>298.1</td>\n",
       "      <td>308.5</td>\n",
       "      <td>1498</td>\n",
       "      <td>49.4</td>\n",
       "      <td>5</td>\n",
       "      <td>0</td>\n",
       "      <td>No Failure</td>\n",
       "    </tr>\n",
       "    <tr>\n",
       "      <th>3</th>\n",
       "      <td>4</td>\n",
       "      <td>L47183</td>\n",
       "      <td>L</td>\n",
       "      <td>298.2</td>\n",
       "      <td>308.6</td>\n",
       "      <td>1433</td>\n",
       "      <td>39.5</td>\n",
       "      <td>7</td>\n",
       "      <td>0</td>\n",
       "      <td>No Failure</td>\n",
       "    </tr>\n",
       "    <tr>\n",
       "      <th>4</th>\n",
       "      <td>5</td>\n",
       "      <td>L47184</td>\n",
       "      <td>L</td>\n",
       "      <td>298.2</td>\n",
       "      <td>308.7</td>\n",
       "      <td>1408</td>\n",
       "      <td>40.0</td>\n",
       "      <td>9</td>\n",
       "      <td>0</td>\n",
       "      <td>No Failure</td>\n",
       "    </tr>\n",
       "    <tr>\n",
       "      <th>...</th>\n",
       "      <td>...</td>\n",
       "      <td>...</td>\n",
       "      <td>...</td>\n",
       "      <td>...</td>\n",
       "      <td>...</td>\n",
       "      <td>...</td>\n",
       "      <td>...</td>\n",
       "      <td>...</td>\n",
       "      <td>...</td>\n",
       "      <td>...</td>\n",
       "    </tr>\n",
       "    <tr>\n",
       "      <th>995</th>\n",
       "      <td>996</td>\n",
       "      <td>L48175</td>\n",
       "      <td>L</td>\n",
       "      <td>296.3</td>\n",
       "      <td>307.3</td>\n",
       "      <td>1566</td>\n",
       "      <td>35.8</td>\n",
       "      <td>175</td>\n",
       "      <td>0</td>\n",
       "      <td>No Failure</td>\n",
       "    </tr>\n",
       "    <tr>\n",
       "      <th>996</th>\n",
       "      <td>997</td>\n",
       "      <td>M15856</td>\n",
       "      <td>M</td>\n",
       "      <td>296.3</td>\n",
       "      <td>307.2</td>\n",
       "      <td>1286</td>\n",
       "      <td>51.1</td>\n",
       "      <td>177</td>\n",
       "      <td>0</td>\n",
       "      <td>No Failure</td>\n",
       "    </tr>\n",
       "    <tr>\n",
       "      <th>997</th>\n",
       "      <td>998</td>\n",
       "      <td>M15857</td>\n",
       "      <td>M</td>\n",
       "      <td>296.3</td>\n",
       "      <td>307.2</td>\n",
       "      <td>1446</td>\n",
       "      <td>45.9</td>\n",
       "      <td>180</td>\n",
       "      <td>0</td>\n",
       "      <td>No Failure</td>\n",
       "    </tr>\n",
       "    <tr>\n",
       "      <th>998</th>\n",
       "      <td>999</td>\n",
       "      <td>M15858</td>\n",
       "      <td>M</td>\n",
       "      <td>296.4</td>\n",
       "      <td>307.2</td>\n",
       "      <td>2071</td>\n",
       "      <td>19.4</td>\n",
       "      <td>183</td>\n",
       "      <td>0</td>\n",
       "      <td>No Failure</td>\n",
       "    </tr>\n",
       "    <tr>\n",
       "      <th>999</th>\n",
       "      <td>1000</td>\n",
       "      <td>L48179</td>\n",
       "      <td>L</td>\n",
       "      <td>296.3</td>\n",
       "      <td>307.1</td>\n",
       "      <td>1560</td>\n",
       "      <td>33.2</td>\n",
       "      <td>186</td>\n",
       "      <td>0</td>\n",
       "      <td>No Failure</td>\n",
       "    </tr>\n",
       "  </tbody>\n",
       "</table>\n",
       "<p>1000 rows × 10 columns</p>\n",
       "</div>"
      ],
      "text/plain": [
       "      UDI Product ID Type  Air temperature [K]  Process temperature [K]  \\\n",
       "0       1     M14860    M                298.1                    308.6   \n",
       "1       2     L47181    L                298.2                    308.7   \n",
       "2       3     L47182    L                298.1                    308.5   \n",
       "3       4     L47183    L                298.2                    308.6   \n",
       "4       5     L47184    L                298.2                    308.7   \n",
       "..    ...        ...  ...                  ...                      ...   \n",
       "995   996     L48175    L                296.3                    307.3   \n",
       "996   997     M15856    M                296.3                    307.2   \n",
       "997   998     M15857    M                296.3                    307.2   \n",
       "998   999     M15858    M                296.4                    307.2   \n",
       "999  1000     L48179    L                296.3                    307.1   \n",
       "\n",
       "     Rotational speed [rpm]  Torque [Nm]  Tool wear [min]  Target Failure Type  \n",
       "0                      1551         42.8                0       0   No Failure  \n",
       "1                      1408         46.3                3       0   No Failure  \n",
       "2                      1498         49.4                5       0   No Failure  \n",
       "3                      1433         39.5                7       0   No Failure  \n",
       "4                      1408         40.0                9       0   No Failure  \n",
       "..                      ...          ...              ...     ...          ...  \n",
       "995                    1566         35.8              175       0   No Failure  \n",
       "996                    1286         51.1              177       0   No Failure  \n",
       "997                    1446         45.9              180       0   No Failure  \n",
       "998                    2071         19.4              183       0   No Failure  \n",
       "999                    1560         33.2              186       0   No Failure  \n",
       "\n",
       "[1000 rows x 10 columns]"
      ]
     },
     "execution_count": 3,
     "metadata": {},
     "output_type": "execute_result"
    }
   ],
   "source": [
    "#Mostrar el dataset\n",
    "df.head(1000)"
   ]
  },
  {
   "cell_type": "code",
   "execution_count": 4,
   "id": "6f33f0b8",
   "metadata": {},
   "outputs": [
    {
     "data": {
      "text/html": [
       "<div>\n",
       "<style scoped>\n",
       "    .dataframe tbody tr th:only-of-type {\n",
       "        vertical-align: middle;\n",
       "    }\n",
       "\n",
       "    .dataframe tbody tr th {\n",
       "        vertical-align: top;\n",
       "    }\n",
       "\n",
       "    .dataframe thead th {\n",
       "        text-align: right;\n",
       "    }\n",
       "</style>\n",
       "<table border=\"1\" class=\"dataframe\">\n",
       "  <thead>\n",
       "    <tr style=\"text-align: right;\">\n",
       "      <th></th>\n",
       "      <th>UDI</th>\n",
       "      <th>Air temperature [K]</th>\n",
       "      <th>Process temperature [K]</th>\n",
       "      <th>Rotational speed [rpm]</th>\n",
       "      <th>Torque [Nm]</th>\n",
       "      <th>Tool wear [min]</th>\n",
       "      <th>Target</th>\n",
       "    </tr>\n",
       "  </thead>\n",
       "  <tbody>\n",
       "    <tr>\n",
       "      <th>count</th>\n",
       "      <td>10000.00000</td>\n",
       "      <td>10000.000000</td>\n",
       "      <td>10000.000000</td>\n",
       "      <td>10000.000000</td>\n",
       "      <td>10000.000000</td>\n",
       "      <td>10000.000000</td>\n",
       "      <td>10000.000000</td>\n",
       "    </tr>\n",
       "    <tr>\n",
       "      <th>mean</th>\n",
       "      <td>5000.50000</td>\n",
       "      <td>300.004930</td>\n",
       "      <td>310.005560</td>\n",
       "      <td>1538.776100</td>\n",
       "      <td>39.986910</td>\n",
       "      <td>107.951000</td>\n",
       "      <td>0.033900</td>\n",
       "    </tr>\n",
       "    <tr>\n",
       "      <th>std</th>\n",
       "      <td>2886.89568</td>\n",
       "      <td>2.000259</td>\n",
       "      <td>1.483734</td>\n",
       "      <td>179.284096</td>\n",
       "      <td>9.968934</td>\n",
       "      <td>63.654147</td>\n",
       "      <td>0.180981</td>\n",
       "    </tr>\n",
       "    <tr>\n",
       "      <th>min</th>\n",
       "      <td>1.00000</td>\n",
       "      <td>295.300000</td>\n",
       "      <td>305.700000</td>\n",
       "      <td>1168.000000</td>\n",
       "      <td>3.800000</td>\n",
       "      <td>0.000000</td>\n",
       "      <td>0.000000</td>\n",
       "    </tr>\n",
       "    <tr>\n",
       "      <th>25%</th>\n",
       "      <td>2500.75000</td>\n",
       "      <td>298.300000</td>\n",
       "      <td>308.800000</td>\n",
       "      <td>1423.000000</td>\n",
       "      <td>33.200000</td>\n",
       "      <td>53.000000</td>\n",
       "      <td>0.000000</td>\n",
       "    </tr>\n",
       "    <tr>\n",
       "      <th>50%</th>\n",
       "      <td>5000.50000</td>\n",
       "      <td>300.100000</td>\n",
       "      <td>310.100000</td>\n",
       "      <td>1503.000000</td>\n",
       "      <td>40.100000</td>\n",
       "      <td>108.000000</td>\n",
       "      <td>0.000000</td>\n",
       "    </tr>\n",
       "    <tr>\n",
       "      <th>75%</th>\n",
       "      <td>7500.25000</td>\n",
       "      <td>301.500000</td>\n",
       "      <td>311.100000</td>\n",
       "      <td>1612.000000</td>\n",
       "      <td>46.800000</td>\n",
       "      <td>162.000000</td>\n",
       "      <td>0.000000</td>\n",
       "    </tr>\n",
       "    <tr>\n",
       "      <th>max</th>\n",
       "      <td>10000.00000</td>\n",
       "      <td>304.500000</td>\n",
       "      <td>313.800000</td>\n",
       "      <td>2886.000000</td>\n",
       "      <td>76.600000</td>\n",
       "      <td>253.000000</td>\n",
       "      <td>1.000000</td>\n",
       "    </tr>\n",
       "  </tbody>\n",
       "</table>\n",
       "</div>"
      ],
      "text/plain": [
       "               UDI  Air temperature [K]  Process temperature [K]  \\\n",
       "count  10000.00000         10000.000000             10000.000000   \n",
       "mean    5000.50000           300.004930               310.005560   \n",
       "std     2886.89568             2.000259                 1.483734   \n",
       "min        1.00000           295.300000               305.700000   \n",
       "25%     2500.75000           298.300000               308.800000   \n",
       "50%     5000.50000           300.100000               310.100000   \n",
       "75%     7500.25000           301.500000               311.100000   \n",
       "max    10000.00000           304.500000               313.800000   \n",
       "\n",
       "       Rotational speed [rpm]   Torque [Nm]  Tool wear [min]        Target  \n",
       "count            10000.000000  10000.000000     10000.000000  10000.000000  \n",
       "mean              1538.776100     39.986910       107.951000      0.033900  \n",
       "std                179.284096      9.968934        63.654147      0.180981  \n",
       "min               1168.000000      3.800000         0.000000      0.000000  \n",
       "25%               1423.000000     33.200000        53.000000      0.000000  \n",
       "50%               1503.000000     40.100000       108.000000      0.000000  \n",
       "75%               1612.000000     46.800000       162.000000      0.000000  \n",
       "max               2886.000000     76.600000       253.000000      1.000000  "
      ]
     },
     "execution_count": 4,
     "metadata": {},
     "output_type": "execute_result"
    }
   ],
   "source": [
    "#Aplicación de la funcion describe para ver información estadística del dataset\n",
    "df.describe()"
   ]
  },
  {
   "cell_type": "code",
   "execution_count": 5,
   "id": "835edacf",
   "metadata": {},
   "outputs": [
    {
     "data": {
      "text/plain": [
       "UDI                        10000\n",
       "Product ID                 10000\n",
       "Type                       10000\n",
       "Air temperature [K]        10000\n",
       "Process temperature [K]    10000\n",
       "Rotational speed [rpm]     10000\n",
       "Torque [Nm]                10000\n",
       "Tool wear [min]            10000\n",
       "Target                     10000\n",
       "Failure Type               10000\n",
       "dtype: int64"
      ]
     },
     "execution_count": 5,
     "metadata": {},
     "output_type": "execute_result"
    }
   ],
   "source": [
    "#Aplicación de la funció n count para ver la cantidad de registros del dataset\n",
    "df.count()"
   ]
  },
  {
   "cell_type": "code",
   "execution_count": 6,
   "id": "080e3f63",
   "metadata": {},
   "outputs": [],
   "source": [
    "#Proceso de eliminación de registros reduciendo su cantidad a 4000 samples\n",
    "#df = data_proyecto.drop(range(4000,242158), axis=0)"
   ]
  },
  {
   "cell_type": "code",
   "execution_count": 7,
   "id": "f6159ca9",
   "metadata": {},
   "outputs": [],
   "source": [
    "#Aplicación de la función describe al nuevo dataset\n",
    "#df.describe()"
   ]
  },
  {
   "cell_type": "code",
   "execution_count": 8,
   "id": "7e85735a",
   "metadata": {
    "scrolled": true
   },
   "outputs": [
    {
     "name": "stdout",
     "output_type": "stream",
     "text": [
      "<class 'pandas.core.frame.DataFrame'>\n",
      "RangeIndex: 10000 entries, 0 to 9999\n",
      "Data columns (total 10 columns):\n",
      " #   Column                   Non-Null Count  Dtype  \n",
      "---  ------                   --------------  -----  \n",
      " 0   UDI                      10000 non-null  int64  \n",
      " 1   Product ID               10000 non-null  object \n",
      " 2   Type                     10000 non-null  object \n",
      " 3   Air temperature [K]      10000 non-null  float64\n",
      " 4   Process temperature [K]  10000 non-null  float64\n",
      " 5   Rotational speed [rpm]   10000 non-null  int64  \n",
      " 6   Torque [Nm]              10000 non-null  float64\n",
      " 7   Tool wear [min]          10000 non-null  int64  \n",
      " 8   Target                   10000 non-null  int64  \n",
      " 9   Failure Type             10000 non-null  object \n",
      "dtypes: float64(3), int64(4), object(3)\n",
      "memory usage: 781.4+ KB\n"
     ]
    }
   ],
   "source": [
    "#Mostrar la información del nuevo dataset\n",
    "df.info()"
   ]
  },
  {
   "cell_type": "markdown",
   "id": "a1eef7dc",
   "metadata": {},
   "source": [
    "# Limpieza del dataset"
   ]
  },
  {
   "cell_type": "code",
   "execution_count": 9,
   "id": "7fdc43d9",
   "metadata": {},
   "outputs": [
    {
     "data": {
      "text/plain": [
       "UDI                        10000\n",
       "Product ID                 10000\n",
       "Type                           3\n",
       "Air temperature [K]           93\n",
       "Process temperature [K]       82\n",
       "Rotational speed [rpm]       941\n",
       "Torque [Nm]                  577\n",
       "Tool wear [min]              246\n",
       "Target                         2\n",
       "Failure Type                   6\n",
       "dtype: int64"
      ]
     },
     "execution_count": 9,
     "metadata": {},
     "output_type": "execute_result"
    }
   ],
   "source": [
    "#Aplicación de la función nunique para identificar las variable categoricas\n",
    "df.nunique()"
   ]
  },
  {
   "cell_type": "code",
   "execution_count": 10,
   "id": "9c6e0ccb",
   "metadata": {},
   "outputs": [
    {
     "data": {
      "text/plain": [
       "UDI                        0\n",
       "Product ID                 0\n",
       "Type                       0\n",
       "Air temperature [K]        0\n",
       "Process temperature [K]    0\n",
       "Rotational speed [rpm]     0\n",
       "Torque [Nm]                0\n",
       "Tool wear [min]            0\n",
       "Target                     0\n",
       "Failure Type               0\n",
       "dtype: int64"
      ]
     },
     "execution_count": 10,
     "metadata": {},
     "output_type": "execute_result"
    }
   ],
   "source": [
    "#Verificamos la existencia de datos nulos\n",
    "df.isnull().sum()"
   ]
  },
  {
   "cell_type": "code",
   "execution_count": 11,
   "id": "326307df",
   "metadata": {},
   "outputs": [
    {
     "data": {
      "text/plain": [
       "UDI                        0\n",
       "Product ID                 0\n",
       "Type                       0\n",
       "Air temperature [K]        0\n",
       "Process temperature [K]    0\n",
       "Rotational speed [rpm]     0\n",
       "Torque [Nm]                0\n",
       "Tool wear [min]            0\n",
       "Target                     0\n",
       "Failure Type               0\n",
       "dtype: int64"
      ]
     },
     "execution_count": 11,
     "metadata": {},
     "output_type": "execute_result"
    }
   ],
   "source": [
    "#Verificamos la existencia  de datos vacios (longitud = 0)\n",
    "df.isna().sum()"
   ]
  },
  {
   "cell_type": "markdown",
   "id": "d5d47e07",
   "metadata": {},
   "source": [
    "# Tranformación de datos categoricos a la nueva data"
   ]
  },
  {
   "cell_type": "code",
   "execution_count": 12,
   "id": "a2afcb8d",
   "metadata": {},
   "outputs": [
    {
     "data": {
      "text/plain": [
       "UDI                        10000\n",
       "Product ID                 10000\n",
       "Type                           3\n",
       "Air temperature [K]           93\n",
       "Process temperature [K]       82\n",
       "Rotational speed [rpm]       941\n",
       "Torque [Nm]                  577\n",
       "Tool wear [min]              246\n",
       "Target                         2\n",
       "Failure Type                   6\n",
       "dtype: int64"
      ]
     },
     "execution_count": 12,
     "metadata": {},
     "output_type": "execute_result"
    }
   ],
   "source": [
    "#Identificamos los valores unicos para cada categoria\n",
    "df.nunique()"
   ]
  },
  {
   "cell_type": "code",
   "execution_count": 13,
   "id": "dd206ead",
   "metadata": {},
   "outputs": [
    {
     "data": {
      "text/plain": [
       "UDI                        category\n",
       "Product ID                 category\n",
       "Type                       category\n",
       "Air temperature [K]        category\n",
       "Process temperature [K]    category\n",
       "Rotational speed [rpm]     category\n",
       "Torque [Nm]                category\n",
       "Tool wear [min]            category\n",
       "Target                     category\n",
       "Failure Type               category\n",
       "dtype: object"
      ]
     },
     "execution_count": 13,
     "metadata": {},
     "output_type": "execute_result"
    }
   ],
   "source": [
    "\n",
    "#Aplicación de label encoder para eliminar las variables categoricas \n",
    "'''Se convierte de tipo objeto a categórico'''\n",
    "df1 = df.astype('category')\n",
    "'''Se visualiza el cambio en el tipo de datos de las características'''\n",
    "df1.dtypes"
   ]
  },
  {
   "cell_type": "code",
   "execution_count": 14,
   "id": "b4fc3179",
   "metadata": {},
   "outputs": [
    {
     "data": {
      "text/html": [
       "<div>\n",
       "<style scoped>\n",
       "    .dataframe tbody tr th:only-of-type {\n",
       "        vertical-align: middle;\n",
       "    }\n",
       "\n",
       "    .dataframe tbody tr th {\n",
       "        vertical-align: top;\n",
       "    }\n",
       "\n",
       "    .dataframe thead th {\n",
       "        text-align: right;\n",
       "    }\n",
       "</style>\n",
       "<table border=\"1\" class=\"dataframe\">\n",
       "  <thead>\n",
       "    <tr style=\"text-align: right;\">\n",
       "      <th></th>\n",
       "      <th>UDI</th>\n",
       "      <th>Product ID</th>\n",
       "      <th>Type</th>\n",
       "      <th>Air temperature [K]</th>\n",
       "      <th>Process temperature [K]</th>\n",
       "      <th>Rotational speed [rpm]</th>\n",
       "      <th>Torque [Nm]</th>\n",
       "      <th>Tool wear [min]</th>\n",
       "      <th>Target</th>\n",
       "      <th>Failure Type</th>\n",
       "    </tr>\n",
       "  </thead>\n",
       "  <tbody>\n",
       "    <tr>\n",
       "      <th>0</th>\n",
       "      <td>0</td>\n",
       "      <td>7003</td>\n",
       "      <td>2</td>\n",
       "      <td>28</td>\n",
       "      <td>29</td>\n",
       "      <td>325</td>\n",
       "      <td>313</td>\n",
       "      <td>0</td>\n",
       "      <td>0</td>\n",
       "      <td>1</td>\n",
       "    </tr>\n",
       "    <tr>\n",
       "      <th>1</th>\n",
       "      <td>1</td>\n",
       "      <td>1003</td>\n",
       "      <td>1</td>\n",
       "      <td>29</td>\n",
       "      <td>30</td>\n",
       "      <td>182</td>\n",
       "      <td>348</td>\n",
       "      <td>2</td>\n",
       "      <td>0</td>\n",
       "      <td>1</td>\n",
       "    </tr>\n",
       "    <tr>\n",
       "      <th>2</th>\n",
       "      <td>2</td>\n",
       "      <td>1004</td>\n",
       "      <td>1</td>\n",
       "      <td>28</td>\n",
       "      <td>28</td>\n",
       "      <td>272</td>\n",
       "      <td>379</td>\n",
       "      <td>4</td>\n",
       "      <td>0</td>\n",
       "      <td>1</td>\n",
       "    </tr>\n",
       "    <tr>\n",
       "      <th>3</th>\n",
       "      <td>3</td>\n",
       "      <td>1005</td>\n",
       "      <td>1</td>\n",
       "      <td>29</td>\n",
       "      <td>29</td>\n",
       "      <td>207</td>\n",
       "      <td>280</td>\n",
       "      <td>6</td>\n",
       "      <td>0</td>\n",
       "      <td>1</td>\n",
       "    </tr>\n",
       "    <tr>\n",
       "      <th>4</th>\n",
       "      <td>4</td>\n",
       "      <td>1006</td>\n",
       "      <td>1</td>\n",
       "      <td>29</td>\n",
       "      <td>30</td>\n",
       "      <td>182</td>\n",
       "      <td>285</td>\n",
       "      <td>8</td>\n",
       "      <td>0</td>\n",
       "      <td>1</td>\n",
       "    </tr>\n",
       "    <tr>\n",
       "      <th>...</th>\n",
       "      <td>...</td>\n",
       "      <td>...</td>\n",
       "      <td>...</td>\n",
       "      <td>...</td>\n",
       "      <td>...</td>\n",
       "      <td>...</td>\n",
       "      <td>...</td>\n",
       "      <td>...</td>\n",
       "      <td>...</td>\n",
       "      <td>...</td>\n",
       "    </tr>\n",
       "    <tr>\n",
       "      <th>95</th>\n",
       "      <td>95</td>\n",
       "      <td>7031</td>\n",
       "      <td>2</td>\n",
       "      <td>37</td>\n",
       "      <td>33</td>\n",
       "      <td>125</td>\n",
       "      <td>407</td>\n",
       "      <td>43</td>\n",
       "      <td>0</td>\n",
       "      <td>1</td>\n",
       "    </tr>\n",
       "    <tr>\n",
       "      <th>96</th>\n",
       "      <td>96</td>\n",
       "      <td>7032</td>\n",
       "      <td>2</td>\n",
       "      <td>37</td>\n",
       "      <td>33</td>\n",
       "      <td>349</td>\n",
       "      <td>238</td>\n",
       "      <td>46</td>\n",
       "      <td>0</td>\n",
       "      <td>1</td>\n",
       "    </tr>\n",
       "    <tr>\n",
       "      <th>97</th>\n",
       "      <td>97</td>\n",
       "      <td>7033</td>\n",
       "      <td>2</td>\n",
       "      <td>36</td>\n",
       "      <td>32</td>\n",
       "      <td>524</td>\n",
       "      <td>184</td>\n",
       "      <td>49</td>\n",
       "      <td>0</td>\n",
       "      <td>1</td>\n",
       "    </tr>\n",
       "    <tr>\n",
       "      <th>98</th>\n",
       "      <td>98</td>\n",
       "      <td>1058</td>\n",
       "      <td>1</td>\n",
       "      <td>36</td>\n",
       "      <td>31</td>\n",
       "      <td>303</td>\n",
       "      <td>212</td>\n",
       "      <td>52</td>\n",
       "      <td>0</td>\n",
       "      <td>1</td>\n",
       "    </tr>\n",
       "    <tr>\n",
       "      <th>99</th>\n",
       "      <td>99</td>\n",
       "      <td>1059</td>\n",
       "      <td>1</td>\n",
       "      <td>35</td>\n",
       "      <td>31</td>\n",
       "      <td>297</td>\n",
       "      <td>329</td>\n",
       "      <td>54</td>\n",
       "      <td>0</td>\n",
       "      <td>1</td>\n",
       "    </tr>\n",
       "  </tbody>\n",
       "</table>\n",
       "<p>100 rows × 10 columns</p>\n",
       "</div>"
      ],
      "text/plain": [
       "    UDI  Product ID  Type  Air temperature [K]  Process temperature [K]  \\\n",
       "0     0        7003     2                   28                       29   \n",
       "1     1        1003     1                   29                       30   \n",
       "2     2        1004     1                   28                       28   \n",
       "3     3        1005     1                   29                       29   \n",
       "4     4        1006     1                   29                       30   \n",
       "..  ...         ...   ...                  ...                      ...   \n",
       "95   95        7031     2                   37                       33   \n",
       "96   96        7032     2                   37                       33   \n",
       "97   97        7033     2                   36                       32   \n",
       "98   98        1058     1                   36                       31   \n",
       "99   99        1059     1                   35                       31   \n",
       "\n",
       "    Rotational speed [rpm]  Torque [Nm]  Tool wear [min]  Target  Failure Type  \n",
       "0                      325          313                0       0             1  \n",
       "1                      182          348                2       0             1  \n",
       "2                      272          379                4       0             1  \n",
       "3                      207          280                6       0             1  \n",
       "4                      182          285                8       0             1  \n",
       "..                     ...          ...              ...     ...           ...  \n",
       "95                     125          407               43       0             1  \n",
       "96                     349          238               46       0             1  \n",
       "97                     524          184               49       0             1  \n",
       "98                     303          212               52       0             1  \n",
       "99                     297          329               54       0             1  \n",
       "\n",
       "[100 rows x 10 columns]"
      ]
     },
     "execution_count": 14,
     "metadata": {},
     "output_type": "execute_result"
    }
   ],
   "source": [
    "'''Se importa la librería de LabelEndocer para transformar de categórico a numérico'''\n",
    "from sklearn.preprocessing import LabelEncoder\n",
    "labelencoder=LabelEncoder()\n",
    "for column in df1.columns:\n",
    "    df1[column] = labelencoder.fit_transform(df1[column])\n",
    "\n",
    "df1.head(100)"
   ]
  },
  {
   "cell_type": "code",
   "execution_count": 15,
   "id": "317e746b",
   "metadata": {
    "scrolled": false
   },
   "outputs": [
    {
     "name": "stdout",
     "output_type": "stream",
     "text": [
      "<class 'pandas.core.frame.DataFrame'>\n",
      "RangeIndex: 10000 entries, 0 to 9999\n",
      "Data columns (total 10 columns):\n",
      " #   Column                   Non-Null Count  Dtype\n",
      "---  ------                   --------------  -----\n",
      " 0   UDI                      10000 non-null  int64\n",
      " 1   Product ID               10000 non-null  int32\n",
      " 2   Type                     10000 non-null  int32\n",
      " 3   Air temperature [K]      10000 non-null  int64\n",
      " 4   Process temperature [K]  10000 non-null  int64\n",
      " 5   Rotational speed [rpm]   10000 non-null  int64\n",
      " 6   Torque [Nm]              10000 non-null  int64\n",
      " 7   Tool wear [min]          10000 non-null  int64\n",
      " 8   Target                   10000 non-null  int64\n",
      " 9   Failure Type             10000 non-null  int32\n",
      "dtypes: int32(3), int64(7)\n",
      "memory usage: 664.2 KB\n"
     ]
    }
   ],
   "source": [
    "df1.info()"
   ]
  },
  {
   "cell_type": "markdown",
   "id": "6cd89c64",
   "metadata": {},
   "source": [
    "# Preprocesamiento de los datos"
   ]
  },
  {
   "cell_type": "code",
   "execution_count": 16,
   "id": "0d44a716",
   "metadata": {},
   "outputs": [],
   "source": [
    "# Asignamos las variables dependientes\n",
    "X = df1[['UDI', 'Product ID', 'Type', 'Air temperature [K]', 'Process temperature [K]', 'Rotational speed [rpm]', 'Torque [Nm]', 'Tool wear [min]', 'Tool wear [min]', 'Failure Type']]\n",
    "\n",
    "# Asignamos la variable objetivo\n",
    "y = df1[['Failure Type']]"
   ]
  },
  {
   "cell_type": "markdown",
   "id": "dcca1959",
   "metadata": {},
   "source": [
    "# Estandarización de la data"
   ]
  },
  {
   "cell_type": "code",
   "execution_count": 17,
   "id": "34218c23",
   "metadata": {},
   "outputs": [
    {
     "data": {
      "text/plain": [
       "((7000, 9), (3000, 9))"
      ]
     },
     "execution_count": 17,
     "metadata": {},
     "output_type": "execute_result"
    }
   ],
   "source": [
    "# let's separate the data into training and testing set\n",
    "X_train, X_test, y_train, y_test = train_test_split(df1.drop('Failure Type', axis=1),\n",
    "                                                    df1['Failure Type'],\n",
    "                                                    test_size=0.3,\n",
    "                                                    random_state=0)\n",
    "\n",
    "X_train.shape, X_test.shape"
   ]
  },
  {
   "cell_type": "code",
   "execution_count": 18,
   "id": "9d30f328",
   "metadata": {},
   "outputs": [],
   "source": [
    "\n",
    "# set up the scaler\n",
    "scaler = MinMaxScaler()\n",
    "\n",
    "# fit the scaler to the train set, it will learn the parameters\n",
    "scaler.fit(X_train)\n",
    "\n",
    "# transform train and test sets\n",
    "X_train_scaled = scaler.transform(X_train)\n",
    "X_test_scaled = scaler.transform(X_test)\n",
    "\n"
   ]
  },
  {
   "cell_type": "code",
   "execution_count": 19,
   "id": "d1e00f1f",
   "metadata": {},
   "outputs": [
    {
     "data": {
      "text/plain": [
       "array([9.998e+03, 9.998e+03, 2.000e+00, 9.200e+01, 8.100e+01, 9.400e+02,\n",
       "       5.760e+02, 2.450e+02, 1.000e+00])"
      ]
     },
     "execution_count": 19,
     "metadata": {},
     "output_type": "execute_result"
    }
   ],
   "source": [
    "# the scaler stores the maximum values of the features, learned from train set\n",
    "scaler.data_max_"
   ]
  },
  {
   "cell_type": "code",
   "execution_count": 20,
   "id": "cc07616e",
   "metadata": {},
   "outputs": [
    {
     "data": {
      "text/plain": [
       "array([ 0.        ,  0.        ,  0.        ,  0.        ,  0.        ,\n",
       "       -0.00106496,  0.        ,  0.        ,  0.        ])"
      ]
     },
     "execution_count": 20,
     "metadata": {},
     "output_type": "execute_result"
    }
   ],
   "source": [
    "# tthe scaler stores the minimum values of the features, learned from train set\n",
    "scaler.min_"
   ]
  },
  {
   "cell_type": "code",
   "execution_count": 21,
   "id": "7b03ccae",
   "metadata": {},
   "outputs": [
    {
     "data": {
      "text/plain": [
       "array([9.998e+03, 9.998e+03, 2.000e+00, 9.200e+01, 8.100e+01, 9.390e+02,\n",
       "       5.760e+02, 2.450e+02, 1.000e+00])"
      ]
     },
     "execution_count": 21,
     "metadata": {},
     "output_type": "execute_result"
    }
   ],
   "source": [
    "# the scaler also stores the value range (max -  min)\n",
    "\n",
    "scaler.data_range_"
   ]
  },
  {
   "cell_type": "code",
   "execution_count": 22,
   "id": "651500a4",
   "metadata": {},
   "outputs": [],
   "source": [
    "# let's transform the returned NumPy arrays to dataframes for the rest of\n",
    "# the demo\n",
    "\n",
    "X_train_scaled = pd.DataFrame(X_train_scaled, columns=X_train.columns)\n",
    "X_test_scaled = pd.DataFrame(X_test_scaled, columns=X_test.columns)"
   ]
  },
  {
   "cell_type": "code",
   "execution_count": 23,
   "id": "e984c7d9",
   "metadata": {},
   "outputs": [
    {
     "data": {
      "text/html": [
       "<div>\n",
       "<style scoped>\n",
       "    .dataframe tbody tr th:only-of-type {\n",
       "        vertical-align: middle;\n",
       "    }\n",
       "\n",
       "    .dataframe tbody tr th {\n",
       "        vertical-align: top;\n",
       "    }\n",
       "\n",
       "    .dataframe thead th {\n",
       "        text-align: right;\n",
       "    }\n",
       "</style>\n",
       "<table border=\"1\" class=\"dataframe\">\n",
       "  <thead>\n",
       "    <tr style=\"text-align: right;\">\n",
       "      <th></th>\n",
       "      <th>UDI</th>\n",
       "      <th>Product ID</th>\n",
       "      <th>Type</th>\n",
       "      <th>Air temperature [K]</th>\n",
       "      <th>Process temperature [K]</th>\n",
       "      <th>Rotational speed [rpm]</th>\n",
       "      <th>Torque [Nm]</th>\n",
       "      <th>Tool wear [min]</th>\n",
       "      <th>Target</th>\n",
       "    </tr>\n",
       "  </thead>\n",
       "  <tbody>\n",
       "    <tr>\n",
       "      <th>count</th>\n",
       "      <td>7000.0</td>\n",
       "      <td>7000.0</td>\n",
       "      <td>7000.0</td>\n",
       "      <td>7000.0</td>\n",
       "      <td>7000.0</td>\n",
       "      <td>7000.0</td>\n",
       "      <td>7000.0</td>\n",
       "      <td>7000.0</td>\n",
       "      <td>7000.0</td>\n",
       "    </tr>\n",
       "    <tr>\n",
       "      <th>mean</th>\n",
       "      <td>4997.5</td>\n",
       "      <td>4998.9</td>\n",
       "      <td>1.2</td>\n",
       "      <td>47.0</td>\n",
       "      <td>43.1</td>\n",
       "      <td>309.1</td>\n",
       "      <td>284.6</td>\n",
       "      <td>105.8</td>\n",
       "      <td>0.0</td>\n",
       "    </tr>\n",
       "    <tr>\n",
       "      <th>std</th>\n",
       "      <td>2892.5</td>\n",
       "      <td>2895.8</td>\n",
       "      <td>0.6</td>\n",
       "      <td>20.1</td>\n",
       "      <td>14.9</td>\n",
       "      <td>161.6</td>\n",
       "      <td>99.2</td>\n",
       "      <td>63.9</td>\n",
       "      <td>0.2</td>\n",
       "    </tr>\n",
       "    <tr>\n",
       "      <th>min</th>\n",
       "      <td>0.0</td>\n",
       "      <td>0.0</td>\n",
       "      <td>0.0</td>\n",
       "      <td>0.0</td>\n",
       "      <td>0.0</td>\n",
       "      <td>1.0</td>\n",
       "      <td>0.0</td>\n",
       "      <td>0.0</td>\n",
       "      <td>0.0</td>\n",
       "    </tr>\n",
       "    <tr>\n",
       "      <th>25%</th>\n",
       "      <td>2483.8</td>\n",
       "      <td>2484.5</td>\n",
       "      <td>1.0</td>\n",
       "      <td>30.0</td>\n",
       "      <td>31.0</td>\n",
       "      <td>197.8</td>\n",
       "      <td>216.0</td>\n",
       "      <td>50.0</td>\n",
       "      <td>0.0</td>\n",
       "    </tr>\n",
       "    <tr>\n",
       "      <th>50%</th>\n",
       "      <td>5015.5</td>\n",
       "      <td>4995.5</td>\n",
       "      <td>1.0</td>\n",
       "      <td>48.0</td>\n",
       "      <td>44.0</td>\n",
       "      <td>278.0</td>\n",
       "      <td>286.0</td>\n",
       "      <td>105.0</td>\n",
       "      <td>0.0</td>\n",
       "    </tr>\n",
       "    <tr>\n",
       "      <th>75%</th>\n",
       "      <td>7513.5</td>\n",
       "      <td>7502.2</td>\n",
       "      <td>2.0</td>\n",
       "      <td>62.0</td>\n",
       "      <td>54.0</td>\n",
       "      <td>387.0</td>\n",
       "      <td>352.0</td>\n",
       "      <td>161.0</td>\n",
       "      <td>0.0</td>\n",
       "    </tr>\n",
       "    <tr>\n",
       "      <th>max</th>\n",
       "      <td>9998.0</td>\n",
       "      <td>9998.0</td>\n",
       "      <td>2.0</td>\n",
       "      <td>92.0</td>\n",
       "      <td>81.0</td>\n",
       "      <td>940.0</td>\n",
       "      <td>576.0</td>\n",
       "      <td>245.0</td>\n",
       "      <td>1.0</td>\n",
       "    </tr>\n",
       "  </tbody>\n",
       "</table>\n",
       "</div>"
      ],
      "text/plain": [
       "          UDI  Product ID    Type  Air temperature [K]  \\\n",
       "count  7000.0      7000.0  7000.0               7000.0   \n",
       "mean   4997.5      4998.9     1.2                 47.0   \n",
       "std    2892.5      2895.8     0.6                 20.1   \n",
       "min       0.0         0.0     0.0                  0.0   \n",
       "25%    2483.8      2484.5     1.0                 30.0   \n",
       "50%    5015.5      4995.5     1.0                 48.0   \n",
       "75%    7513.5      7502.2     2.0                 62.0   \n",
       "max    9998.0      9998.0     2.0                 92.0   \n",
       "\n",
       "       Process temperature [K]  Rotational speed [rpm]  Torque [Nm]  \\\n",
       "count                   7000.0                  7000.0       7000.0   \n",
       "mean                      43.1                   309.1        284.6   \n",
       "std                       14.9                   161.6         99.2   \n",
       "min                        0.0                     1.0          0.0   \n",
       "25%                       31.0                   197.8        216.0   \n",
       "50%                       44.0                   278.0        286.0   \n",
       "75%                       54.0                   387.0        352.0   \n",
       "max                       81.0                   940.0        576.0   \n",
       "\n",
       "       Tool wear [min]  Target  \n",
       "count           7000.0  7000.0  \n",
       "mean             105.8     0.0  \n",
       "std               63.9     0.2  \n",
       "min                0.0     0.0  \n",
       "25%               50.0     0.0  \n",
       "50%              105.0     0.0  \n",
       "75%              161.0     0.0  \n",
       "max              245.0     1.0  "
      ]
     },
     "execution_count": 23,
     "metadata": {},
     "output_type": "execute_result"
    }
   ],
   "source": [
    "# let's have a look at the original training dataset: min and max values\n",
    "# I use np.round to reduce the number of decimals to 1.\n",
    "\n",
    "np.round(X_train.describe(), 1)"
   ]
  },
  {
   "cell_type": "code",
   "execution_count": 24,
   "id": "5f16e667",
   "metadata": {},
   "outputs": [
    {
     "data": {
      "text/html": [
       "<div>\n",
       "<style scoped>\n",
       "    .dataframe tbody tr th:only-of-type {\n",
       "        vertical-align: middle;\n",
       "    }\n",
       "\n",
       "    .dataframe tbody tr th {\n",
       "        vertical-align: top;\n",
       "    }\n",
       "\n",
       "    .dataframe thead th {\n",
       "        text-align: right;\n",
       "    }\n",
       "</style>\n",
       "<table border=\"1\" class=\"dataframe\">\n",
       "  <thead>\n",
       "    <tr style=\"text-align: right;\">\n",
       "      <th></th>\n",
       "      <th>UDI</th>\n",
       "      <th>Product ID</th>\n",
       "      <th>Type</th>\n",
       "      <th>Air temperature [K]</th>\n",
       "      <th>Process temperature [K]</th>\n",
       "      <th>Rotational speed [rpm]</th>\n",
       "      <th>Torque [Nm]</th>\n",
       "      <th>Tool wear [min]</th>\n",
       "      <th>Target</th>\n",
       "    </tr>\n",
       "  </thead>\n",
       "  <tbody>\n",
       "    <tr>\n",
       "      <th>count</th>\n",
       "      <td>7000.0</td>\n",
       "      <td>7000.0</td>\n",
       "      <td>7000.0</td>\n",
       "      <td>7000.0</td>\n",
       "      <td>7000.0</td>\n",
       "      <td>7000.0</td>\n",
       "      <td>7000.0</td>\n",
       "      <td>7000.0</td>\n",
       "      <td>7000.0</td>\n",
       "    </tr>\n",
       "    <tr>\n",
       "      <th>mean</th>\n",
       "      <td>0.5</td>\n",
       "      <td>0.5</td>\n",
       "      <td>0.6</td>\n",
       "      <td>0.5</td>\n",
       "      <td>0.5</td>\n",
       "      <td>0.3</td>\n",
       "      <td>0.5</td>\n",
       "      <td>0.4</td>\n",
       "      <td>0.0</td>\n",
       "    </tr>\n",
       "    <tr>\n",
       "      <th>std</th>\n",
       "      <td>0.3</td>\n",
       "      <td>0.3</td>\n",
       "      <td>0.3</td>\n",
       "      <td>0.2</td>\n",
       "      <td>0.2</td>\n",
       "      <td>0.2</td>\n",
       "      <td>0.2</td>\n",
       "      <td>0.3</td>\n",
       "      <td>0.2</td>\n",
       "    </tr>\n",
       "    <tr>\n",
       "      <th>min</th>\n",
       "      <td>0.0</td>\n",
       "      <td>0.0</td>\n",
       "      <td>0.0</td>\n",
       "      <td>0.0</td>\n",
       "      <td>0.0</td>\n",
       "      <td>0.0</td>\n",
       "      <td>0.0</td>\n",
       "      <td>0.0</td>\n",
       "      <td>0.0</td>\n",
       "    </tr>\n",
       "    <tr>\n",
       "      <th>25%</th>\n",
       "      <td>0.2</td>\n",
       "      <td>0.2</td>\n",
       "      <td>0.5</td>\n",
       "      <td>0.3</td>\n",
       "      <td>0.4</td>\n",
       "      <td>0.2</td>\n",
       "      <td>0.4</td>\n",
       "      <td>0.2</td>\n",
       "      <td>0.0</td>\n",
       "    </tr>\n",
       "    <tr>\n",
       "      <th>50%</th>\n",
       "      <td>0.5</td>\n",
       "      <td>0.5</td>\n",
       "      <td>0.5</td>\n",
       "      <td>0.5</td>\n",
       "      <td>0.5</td>\n",
       "      <td>0.3</td>\n",
       "      <td>0.5</td>\n",
       "      <td>0.4</td>\n",
       "      <td>0.0</td>\n",
       "    </tr>\n",
       "    <tr>\n",
       "      <th>75%</th>\n",
       "      <td>0.8</td>\n",
       "      <td>0.8</td>\n",
       "      <td>1.0</td>\n",
       "      <td>0.7</td>\n",
       "      <td>0.7</td>\n",
       "      <td>0.4</td>\n",
       "      <td>0.6</td>\n",
       "      <td>0.7</td>\n",
       "      <td>0.0</td>\n",
       "    </tr>\n",
       "    <tr>\n",
       "      <th>max</th>\n",
       "      <td>1.0</td>\n",
       "      <td>1.0</td>\n",
       "      <td>1.0</td>\n",
       "      <td>1.0</td>\n",
       "      <td>1.0</td>\n",
       "      <td>1.0</td>\n",
       "      <td>1.0</td>\n",
       "      <td>1.0</td>\n",
       "      <td>1.0</td>\n",
       "    </tr>\n",
       "  </tbody>\n",
       "</table>\n",
       "</div>"
      ],
      "text/plain": [
       "          UDI  Product ID    Type  Air temperature [K]  \\\n",
       "count  7000.0      7000.0  7000.0               7000.0   \n",
       "mean      0.5         0.5     0.6                  0.5   \n",
       "std       0.3         0.3     0.3                  0.2   \n",
       "min       0.0         0.0     0.0                  0.0   \n",
       "25%       0.2         0.2     0.5                  0.3   \n",
       "50%       0.5         0.5     0.5                  0.5   \n",
       "75%       0.8         0.8     1.0                  0.7   \n",
       "max       1.0         1.0     1.0                  1.0   \n",
       "\n",
       "       Process temperature [K]  Rotational speed [rpm]  Torque [Nm]  \\\n",
       "count                   7000.0                  7000.0       7000.0   \n",
       "mean                       0.5                     0.3          0.5   \n",
       "std                        0.2                     0.2          0.2   \n",
       "min                        0.0                     0.0          0.0   \n",
       "25%                        0.4                     0.2          0.4   \n",
       "50%                        0.5                     0.3          0.5   \n",
       "75%                        0.7                     0.4          0.6   \n",
       "max                        1.0                     1.0          1.0   \n",
       "\n",
       "       Tool wear [min]  Target  \n",
       "count           7000.0  7000.0  \n",
       "mean               0.4     0.0  \n",
       "std                0.3     0.2  \n",
       "min                0.0     0.0  \n",
       "25%                0.2     0.0  \n",
       "50%                0.4     0.0  \n",
       "75%                0.7     0.0  \n",
       "max                1.0     1.0  "
      ]
     },
     "execution_count": 24,
     "metadata": {},
     "output_type": "execute_result"
    }
   ],
   "source": [
    "# let's have a look at the scaled training dataset: min and max values\n",
    "# I use np.round to reduce the number of decimals to 1.\n",
    "\n",
    "np.round(X_train_scaled.describe(), 1)"
   ]
  },
  {
   "cell_type": "code",
   "execution_count": 25,
   "id": "d590c07d",
   "metadata": {},
   "outputs": [
    {
     "data": {
      "image/png": "[encoded data removed]",
      "text/plain": [
       "<Figure size 864x360 with 2 Axes>"
      ]
     },
     "metadata": {
      "needs_background": "light"
     },
     "output_type": "display_data"
    }
   ],
   "source": [
    "# let's compare the variable distributions before and after scaling\n",
    "\n",
    "fig, (ax1, ax2) = plt.subplots(ncols=2, figsize=(12, 5))\n",
    "\n",
    "# before scaling\n",
    "ax1.set_title('Before Scaling')\n",
    "sns.kdeplot(X_train['Rotational speed [rpm]'], ax=ax1)\n",
    "sns.kdeplot(X_train['Torque [Nm]'], ax=ax1)\n",
    "sns.kdeplot(X_train['Process temperature [K]'], ax=ax1)\n",
    "\n",
    "# after scaling\n",
    "ax2.set_title('After Min-Max Scaling')\n",
    "sns.kdeplot(X_train_scaled['Rotational speed [rpm]'], ax=ax2)\n",
    "sns.kdeplot(X_train_scaled['Torque [Nm]'], ax=ax2)\n",
    "sns.kdeplot(X_train_scaled['Process temperature [K]'], ax=ax2)\n",
    "plt.show()"
   ]
  },
  {
   "cell_type": "markdown",
   "id": "1b813882",
   "metadata": {},
   "source": [
    "# Naive Bayes"
   ]
  },
  {
   "cell_type": "code",
   "execution_count": 26,
   "id": "1d4e17fb",
   "metadata": {},
   "outputs": [],
   "source": [
    "# Instanciamos el algoritmo gauciano de Naive Bayes\n",
    "gnb = GaussianNB()"
   ]
  },
  {
   "cell_type": "code",
   "execution_count": 27,
   "id": "a37b686e",
   "metadata": {},
   "outputs": [],
   "source": [
    "# Alimentamos nuestro modelo con los datos de entrenamiento\n",
    "# y obtenemos la predicción\n",
    "y_pred_NB = gnb.fit(X_train, y_train.values.ravel()).predict(X_test)"
   ]
  },
  {
   "cell_type": "code",
   "execution_count": 29,
   "id": "fb19c78e",
   "metadata": {},
   "outputs": [
    {
     "name": "stdout",
     "output_type": "stream",
     "text": [
      "Accuracy Naive Bayes: 0.9936666666666667\n",
      "Precision Naive Bayes: 0.735881305297024\n",
      "Recall Naive Bayes: 0.744254294195447\n"
     ]
    },
    {
     "name": "stderr",
     "output_type": "stream",
     "text": [
      "C:\\Users\\enrik\\anaconda3\\lib\\site-packages\\sklearn\\metrics\\_classification.py:1318: UndefinedMetricWarning: Precision is ill-defined and being set to 0.0 in labels with no predicted samples. Use `zero_division` parameter to control this behavior.\n",
      "  _warn_prf(average, modifier, msg_start, len(result))\n"
     ]
    }
   ],
   "source": [
    "# Mostramos el accuracy del modelo Naive Bayes\n",
    "print(\"Accuracy Naive Bayes:\", metrics.accuracy_score(y_test, y_pred_NB))\n",
    "\n",
    "# Model Precision: what percentage of positive tuples are labeled as such?\n",
    "print(\"Precision Naive Bayes:\", metrics.precision_score(y_test, y_pred_NB, average='macro'))\n",
    "\n",
    "# Model Recall: what percentage of positive tuples are labelled as such?\n",
    "print(\"Recall Naive Bayes:\", metrics.recall_score(y_test, y_pred_NB, average='macro'))"
   ]
  },
  {
   "cell_type": "markdown",
   "id": "df6c2ccc",
   "metadata": {},
   "source": [
    "# Hidden Markov Model"
   ]
  },
  {
   "cell_type": "code",
   "execution_count": 31,
   "id": "dbd4c673",
   "metadata": {},
   "outputs": [
    {
     "data": {
      "text/plain": [
       "GaussianHMM(n_components=3, n_iter=50, random_state=42)"
      ]
     },
     "execution_count": 31,
     "metadata": {},
     "output_type": "execute_result"
    }
   ],
   "source": [
    "# Instanciamos el modelo Hidden Markov Model\n",
    "model = hmm.GaussianHMM(n_components = 3, covariance_type = \"diag\", n_iter = 50, random_state = 42)\n",
    "\n",
    "# Entrenamos el modelo con los datos de entrenamiento\n",
    "model.fit(X_train)"
   ]
  },
  {
   "cell_type": "code",
   "execution_count": 32,
   "id": "3ddac7c3",
   "metadata": {},
   "outputs": [],
   "source": [
    "# realizamos la prueba de predicción del model\n",
    "y_pred_HMM = model.predict(X_test)"
   ]
  },
  {
   "cell_type": "code",
   "execution_count": 34,
   "id": "a97488fa",
   "metadata": {},
   "outputs": [
    {
     "name": "stdout",
     "output_type": "stream",
     "text": [
      "Accuracy Hidden Markov Model: 0.6836666666666666\n",
      "Precision Naive Bayes: 0.21692468159859465\n",
      "Recall Naive Bayes: 0.2826960615455276\n"
     ]
    },
    {
     "name": "stderr",
     "output_type": "stream",
     "text": [
      "C:\\Users\\enrik\\anaconda3\\lib\\site-packages\\sklearn\\metrics\\_classification.py:1318: UndefinedMetricWarning: Precision is ill-defined and being set to 0.0 in labels with no predicted samples. Use `zero_division` parameter to control this behavior.\n",
      "  _warn_prf(average, modifier, msg_start, len(result))\n"
     ]
    }
   ],
   "source": [
    "# Mostramos el accuracy del modelo Hidden Markov Model\n",
    "print(\"Accuracy Hidden Markov Model:\", metrics.accuracy_score(y_test, y_pred_HMM))\n",
    "\n",
    "# Model Precision: what percentage of positive tuples are labeled as such?\n",
    "print(\"Precision Markov Model:\", metrics.precision_score(y_test, y_pred_HMM, average='macro'))\n",
    "\n",
    "# Model Recall: what percentage of positive tuples are labelled as such?\n",
    "print(\"Recall Markov Model:\", metrics.recall_score(y_test, y_pred_HMM, average='macro'))"
   ]
  },
  {
   "cell_type": "markdown",
   "id": "66e43dce",
   "metadata": {},
   "source": [
    "# Matriz de confusión (Naive Bayes)"
   ]
  },
  {
   "cell_type": "code",
   "execution_count": 38,
   "id": "c6b01f7a",
   "metadata": {},
   "outputs": [
    {
     "name": "stdout",
     "output_type": "stream",
     "text": [
      "[[  30    0    0    0    0    0]\n",
      " [   1 2897    1    4    0    0]\n",
      " [   1    0   25    0    0    1]\n",
      " [   3    0    0   21    0    0]\n",
      " [   0    4    0    0    0    0]\n",
      " [   0    0    2    2    0    8]]\n"
     ]
    }
   ],
   "source": [
    "#Cramos la matriz de confusión\n",
    "print(confusion_matrix(y_test, y_pred_NB))"
   ]
  },
  {
   "cell_type": "code",
   "execution_count": 39,
   "id": "6a234fe2",
   "metadata": {},
   "outputs": [
    {
     "data": {
      "text/plain": [
       "<AxesSubplot:>"
      ]
     },
     "execution_count": 39,
     "metadata": {},
     "output_type": "execute_result"
    },
    {
     "data": {
      "image/png": "[encoded data removed]",
      "text/plain": [
       "<Figure size 432x288 with 2 Axes>"
      ]
     },
     "metadata": {
      "needs_background": "light"
     },
     "output_type": "display_data"
    }
   ],
   "source": [
    "# Presentamos de forma estetica la matriz de confución\n",
    "sns.heatmap(confusion_matrix(y_test, y_pred_NB), annot=True)"
   ]
  },
  {
   "cell_type": "code",
   "execution_count": null,
   "id": "2e1b255b",
   "metadata": {},
   "outputs": [],
   "source": []
  }
 ],
 "metadata": {
  "kernelspec": {
   "display_name": "Python 3 (ipykernel)",
   "language": "python",
   "name": "python3"
  },
  "language_info": {
   "codemirror_mode": {
    "name": "ipython",
    "version": 3
   },
   "file_extension": ".py",
   "mimetype": "text/x-python",
   "name": "python",
   "nbconvert_exporter": "python",
   "pygments_lexer": "ipython3",
   "version": "3.9.12"
  }
 },
 "nbformat": 4,
 "nbformat_minor": 5
}
