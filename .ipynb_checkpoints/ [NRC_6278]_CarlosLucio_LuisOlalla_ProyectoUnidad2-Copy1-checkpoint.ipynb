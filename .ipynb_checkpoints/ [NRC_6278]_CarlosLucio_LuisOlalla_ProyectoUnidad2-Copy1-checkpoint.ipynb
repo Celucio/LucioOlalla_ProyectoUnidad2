{
 "cells": [
  {
   "cell_type": "markdown",
   "id": "7e36035e",
   "metadata": {},
   "source": [
    "# Importación de librerias necesarias"
   ]
  },
  {
   "cell_type": "code",
   "execution_count": 1,
   "id": "4dad5080",
   "metadata": {},
   "outputs": [],
   "source": [
    "#Inporatamos la libreria pandas\n",
    "import pandas as pd \n",
    "#Inporatamos la libreria seaborn\n",
    "import seaborn as sns\n",
    "#Inporatamos la libreria numpy\n",
    "import numpy as np\n",
    "#Importamos LabelEncoder desde la libreria sklearn\n",
    "from sklearn.preprocessing import LabelEncoder\n",
    "#Importamos train_test_split desde la libreria sklearn\n",
    "from sklearn.model_selection import train_test_split\n",
    "#Importamos MinMaxScaler desde la libreria sklearn\n",
    "from sklearn.preprocessing import MinMaxScaler\n",
    "#Importamos la libreria matplotlib\n",
    "import matplotlib.pyplot as plt\n",
    "#Importamos GaussianNB desde la libreria sklearn\n",
    "from sklearn.naive_bayes import GaussianNB\n",
    "#Importamos Metric desde la libreria sklearn\n",
    "from sklearn import metrics\n",
    "#Importamos la libreria collections\n",
    "import collections\n",
    "#Importamos confusion_matrix desde la libreria sklearn\n",
    "from sklearn.metrics import confusion_matrix\n",
    "# Importamos acurracy_score desde la libreria sklearn\n",
    "from sklearn.metrics import accuracy_score\n",
    "#Importamos recall_score desde la libreria sklearn\n",
    "from sklearn.metrics import recall_score\n",
    "#Importamos precision_score desde la libreria sklearn\n",
    "from sklearn.metrics import precision_score\n",
    "#Importamos f1_score desde la libreria sklearn\n",
    "from sklearn.metrics import f1_score\n",
    "# the scaler - for standardisation\n",
    "from sklearn.preprocessing import StandardScaler\n",
    "#Importamos hiden markov model desde la libreria hmmlearn\n",
    "from hmmlearn import hmm\n",
    "#Importamos la libreria que permite realizar el modelo Fuzzy Logic\n",
    "from fcmeans import FCM"
   ]
  },
  {
   "cell_type": "code",
   "execution_count": 2,
   "id": "75c7423c",
   "metadata": {},
   "outputs": [],
   "source": [
    "#Carga del dataset\n",
    "df = pd.read_csv(\"mantenimiento.csv\")"
   ]
  },
  {
   "cell_type": "code",
   "execution_count": 3,
   "id": "013b20b1",
   "metadata": {},
   "outputs": [
    {
     "data": {
      "text/html": [
       "<div>\n",
       "<style scoped>\n",
       "    .dataframe tbody tr th:only-of-type {\n",
       "        vertical-align: middle;\n",
       "    }\n",
       "\n",
       "    .dataframe tbody tr th {\n",
       "        vertical-align: top;\n",
       "    }\n",
       "\n",
       "    .dataframe thead th {\n",
       "        text-align: right;\n",
       "    }\n",
       "</style>\n",
       "<table border=\"1\" class=\"dataframe\">\n",
       "  <thead>\n",
       "    <tr style=\"text-align: right;\">\n",
       "      <th></th>\n",
       "      <th>UDI</th>\n",
       "      <th>Product ID</th>\n",
       "      <th>Type</th>\n",
       "      <th>Air temperature [K]</th>\n",
       "      <th>Process temperature [K]</th>\n",
       "      <th>Rotational speed [rpm]</th>\n",
       "      <th>Torque [Nm]</th>\n",
       "      <th>Tool wear [min]</th>\n",
       "      <th>Target</th>\n",
       "      <th>Failure Type</th>\n",
       "    </tr>\n",
       "  </thead>\n",
       "  <tbody>\n",
       "    <tr>\n",
       "      <th>0</th>\n",
       "      <td>1</td>\n",
       "      <td>M14860</td>\n",
       "      <td>M</td>\n",
       "      <td>298.1</td>\n",
       "      <td>308.6</td>\n",
       "      <td>1551</td>\n",
       "      <td>42.8</td>\n",
       "      <td>0</td>\n",
       "      <td>0</td>\n",
       "      <td>No Failure</td>\n",
       "    </tr>\n",
       "    <tr>\n",
       "      <th>1</th>\n",
       "      <td>2</td>\n",
       "      <td>L47181</td>\n",
       "      <td>L</td>\n",
       "      <td>298.2</td>\n",
       "      <td>308.7</td>\n",
       "      <td>1408</td>\n",
       "      <td>46.3</td>\n",
       "      <td>3</td>\n",
       "      <td>0</td>\n",
       "      <td>No Failure</td>\n",
       "    </tr>\n",
       "    <tr>\n",
       "      <th>2</th>\n",
       "      <td>3</td>\n",
       "      <td>L47182</td>\n",
       "      <td>L</td>\n",
       "      <td>298.1</td>\n",
       "      <td>308.5</td>\n",
       "      <td>1498</td>\n",
       "      <td>49.4</td>\n",
       "      <td>5</td>\n",
       "      <td>0</td>\n",
       "      <td>No Failure</td>\n",
       "    </tr>\n",
       "    <tr>\n",
       "      <th>3</th>\n",
       "      <td>4</td>\n",
       "      <td>L47183</td>\n",
       "      <td>L</td>\n",
       "      <td>298.2</td>\n",
       "      <td>308.6</td>\n",
       "      <td>1433</td>\n",
       "      <td>39.5</td>\n",
       "      <td>7</td>\n",
       "      <td>0</td>\n",
       "      <td>No Failure</td>\n",
       "    </tr>\n",
       "    <tr>\n",
       "      <th>4</th>\n",
       "      <td>5</td>\n",
       "      <td>L47184</td>\n",
       "      <td>L</td>\n",
       "      <td>298.2</td>\n",
       "      <td>308.7</td>\n",
       "      <td>1408</td>\n",
       "      <td>40.0</td>\n",
       "      <td>9</td>\n",
       "      <td>0</td>\n",
       "      <td>No Failure</td>\n",
       "    </tr>\n",
       "    <tr>\n",
       "      <th>...</th>\n",
       "      <td>...</td>\n",
       "      <td>...</td>\n",
       "      <td>...</td>\n",
       "      <td>...</td>\n",
       "      <td>...</td>\n",
       "      <td>...</td>\n",
       "      <td>...</td>\n",
       "      <td>...</td>\n",
       "      <td>...</td>\n",
       "      <td>...</td>\n",
       "    </tr>\n",
       "    <tr>\n",
       "      <th>995</th>\n",
       "      <td>996</td>\n",
       "      <td>L48175</td>\n",
       "      <td>L</td>\n",
       "      <td>296.3</td>\n",
       "      <td>307.3</td>\n",
       "      <td>1566</td>\n",
       "      <td>35.8</td>\n",
       "      <td>175</td>\n",
       "      <td>0</td>\n",
       "      <td>No Failure</td>\n",
       "    </tr>\n",
       "    <tr>\n",
       "      <th>996</th>\n",
       "      <td>997</td>\n",
       "      <td>M15856</td>\n",
       "      <td>M</td>\n",
       "      <td>296.3</td>\n",
       "      <td>307.2</td>\n",
       "      <td>1286</td>\n",
       "      <td>51.1</td>\n",
       "      <td>177</td>\n",
       "      <td>0</td>\n",
       "      <td>No Failure</td>\n",
       "    </tr>\n",
       "    <tr>\n",
       "      <th>997</th>\n",
       "      <td>998</td>\n",
       "      <td>M15857</td>\n",
       "      <td>M</td>\n",
       "      <td>296.3</td>\n",
       "      <td>307.2</td>\n",
       "      <td>1446</td>\n",
       "      <td>45.9</td>\n",
       "      <td>180</td>\n",
       "      <td>0</td>\n",
       "      <td>No Failure</td>\n",
       "    </tr>\n",
       "    <tr>\n",
       "      <th>998</th>\n",
       "      <td>999</td>\n",
       "      <td>M15858</td>\n",
       "      <td>M</td>\n",
       "      <td>296.4</td>\n",
       "      <td>307.2</td>\n",
       "      <td>2071</td>\n",
       "      <td>19.4</td>\n",
       "      <td>183</td>\n",
       "      <td>0</td>\n",
       "      <td>No Failure</td>\n",
       "    </tr>\n",
       "    <tr>\n",
       "      <th>999</th>\n",
       "      <td>1000</td>\n",
       "      <td>L48179</td>\n",
       "      <td>L</td>\n",
       "      <td>296.3</td>\n",
       "      <td>307.1</td>\n",
       "      <td>1560</td>\n",
       "      <td>33.2</td>\n",
       "      <td>186</td>\n",
       "      <td>0</td>\n",
       "      <td>No Failure</td>\n",
       "    </tr>\n",
       "  </tbody>\n",
       "</table>\n",
       "<p>1000 rows × 10 columns</p>\n",
       "</div>"
      ],
      "text/plain": [
       "      UDI Product ID Type  Air temperature [K]  Process temperature [K]  \\\n",
       "0       1     M14860    M                298.1                    308.6   \n",
       "1       2     L47181    L                298.2                    308.7   \n",
       "2       3     L47182    L                298.1                    308.5   \n",
       "3       4     L47183    L                298.2                    308.6   \n",
       "4       5     L47184    L                298.2                    308.7   \n",
       "..    ...        ...  ...                  ...                      ...   \n",
       "995   996     L48175    L                296.3                    307.3   \n",
       "996   997     M15856    M                296.3                    307.2   \n",
       "997   998     M15857    M                296.3                    307.2   \n",
       "998   999     M15858    M                296.4                    307.2   \n",
       "999  1000     L48179    L                296.3                    307.1   \n",
       "\n",
       "     Rotational speed [rpm]  Torque [Nm]  Tool wear [min]  Target Failure Type  \n",
       "0                      1551         42.8                0       0   No Failure  \n",
       "1                      1408         46.3                3       0   No Failure  \n",
       "2                      1498         49.4                5       0   No Failure  \n",
       "3                      1433         39.5                7       0   No Failure  \n",
       "4                      1408         40.0                9       0   No Failure  \n",
       "..                      ...          ...              ...     ...          ...  \n",
       "995                    1566         35.8              175       0   No Failure  \n",
       "996                    1286         51.1              177       0   No Failure  \n",
       "997                    1446         45.9              180       0   No Failure  \n",
       "998                    2071         19.4              183       0   No Failure  \n",
       "999                    1560         33.2              186       0   No Failure  \n",
       "\n",
       "[1000 rows x 10 columns]"
      ]
     },
     "execution_count": 3,
     "metadata": {},
     "output_type": "execute_result"
    }
   ],
   "source": [
    "#Mostrar el dataset\n",
    "df.head(1000)"
   ]
  },
  {
   "cell_type": "code",
   "execution_count": 4,
   "id": "6f33f0b8",
   "metadata": {
    "scrolled": true
   },
   "outputs": [
    {
     "data": {
      "text/html": [
       "<div>\n",
       "<style scoped>\n",
       "    .dataframe tbody tr th:only-of-type {\n",
       "        vertical-align: middle;\n",
       "    }\n",
       "\n",
       "    .dataframe tbody tr th {\n",
       "        vertical-align: top;\n",
       "    }\n",
       "\n",
       "    .dataframe thead th {\n",
       "        text-align: right;\n",
       "    }\n",
       "</style>\n",
       "<table border=\"1\" class=\"dataframe\">\n",
       "  <thead>\n",
       "    <tr style=\"text-align: right;\">\n",
       "      <th></th>\n",
       "      <th>UDI</th>\n",
       "      <th>Air temperature [K]</th>\n",
       "      <th>Process temperature [K]</th>\n",
       "      <th>Rotational speed [rpm]</th>\n",
       "      <th>Torque [Nm]</th>\n",
       "      <th>Tool wear [min]</th>\n",
       "      <th>Target</th>\n",
       "    </tr>\n",
       "  </thead>\n",
       "  <tbody>\n",
       "    <tr>\n",
       "      <th>count</th>\n",
       "      <td>10000.00000</td>\n",
       "      <td>10000.000000</td>\n",
       "      <td>10000.000000</td>\n",
       "      <td>10000.000000</td>\n",
       "      <td>10000.000000</td>\n",
       "      <td>10000.000000</td>\n",
       "      <td>10000.000000</td>\n",
       "    </tr>\n",
       "    <tr>\n",
       "      <th>mean</th>\n",
       "      <td>5000.50000</td>\n",
       "      <td>300.004930</td>\n",
       "      <td>310.005560</td>\n",
       "      <td>1538.776100</td>\n",
       "      <td>39.986910</td>\n",
       "      <td>107.951000</td>\n",
       "      <td>0.033900</td>\n",
       "    </tr>\n",
       "    <tr>\n",
       "      <th>std</th>\n",
       "      <td>2886.89568</td>\n",
       "      <td>2.000259</td>\n",
       "      <td>1.483734</td>\n",
       "      <td>179.284096</td>\n",
       "      <td>9.968934</td>\n",
       "      <td>63.654147</td>\n",
       "      <td>0.180981</td>\n",
       "    </tr>\n",
       "    <tr>\n",
       "      <th>min</th>\n",
       "      <td>1.00000</td>\n",
       "      <td>295.300000</td>\n",
       "      <td>305.700000</td>\n",
       "      <td>1168.000000</td>\n",
       "      <td>3.800000</td>\n",
       "      <td>0.000000</td>\n",
       "      <td>0.000000</td>\n",
       "    </tr>\n",
       "    <tr>\n",
       "      <th>25%</th>\n",
       "      <td>2500.75000</td>\n",
       "      <td>298.300000</td>\n",
       "      <td>308.800000</td>\n",
       "      <td>1423.000000</td>\n",
       "      <td>33.200000</td>\n",
       "      <td>53.000000</td>\n",
       "      <td>0.000000</td>\n",
       "    </tr>\n",
       "    <tr>\n",
       "      <th>50%</th>\n",
       "      <td>5000.50000</td>\n",
       "      <td>300.100000</td>\n",
       "      <td>310.100000</td>\n",
       "      <td>1503.000000</td>\n",
       "      <td>40.100000</td>\n",
       "      <td>108.000000</td>\n",
       "      <td>0.000000</td>\n",
       "    </tr>\n",
       "    <tr>\n",
       "      <th>75%</th>\n",
       "      <td>7500.25000</td>\n",
       "      <td>301.500000</td>\n",
       "      <td>311.100000</td>\n",
       "      <td>1612.000000</td>\n",
       "      <td>46.800000</td>\n",
       "      <td>162.000000</td>\n",
       "      <td>0.000000</td>\n",
       "    </tr>\n",
       "    <tr>\n",
       "      <th>max</th>\n",
       "      <td>10000.00000</td>\n",
       "      <td>304.500000</td>\n",
       "      <td>313.800000</td>\n",
       "      <td>2886.000000</td>\n",
       "      <td>76.600000</td>\n",
       "      <td>253.000000</td>\n",
       "      <td>1.000000</td>\n",
       "    </tr>\n",
       "  </tbody>\n",
       "</table>\n",
       "</div>"
      ],
      "text/plain": [
       "               UDI  Air temperature [K]  Process temperature [K]  \\\n",
       "count  10000.00000         10000.000000             10000.000000   \n",
       "mean    5000.50000           300.004930               310.005560   \n",
       "std     2886.89568             2.000259                 1.483734   \n",
       "min        1.00000           295.300000               305.700000   \n",
       "25%     2500.75000           298.300000               308.800000   \n",
       "50%     5000.50000           300.100000               310.100000   \n",
       "75%     7500.25000           301.500000               311.100000   \n",
       "max    10000.00000           304.500000               313.800000   \n",
       "\n",
       "       Rotational speed [rpm]   Torque [Nm]  Tool wear [min]        Target  \n",
       "count            10000.000000  10000.000000     10000.000000  10000.000000  \n",
       "mean              1538.776100     39.986910       107.951000      0.033900  \n",
       "std                179.284096      9.968934        63.654147      0.180981  \n",
       "min               1168.000000      3.800000         0.000000      0.000000  \n",
       "25%               1423.000000     33.200000        53.000000      0.000000  \n",
       "50%               1503.000000     40.100000       108.000000      0.000000  \n",
       "75%               1612.000000     46.800000       162.000000      0.000000  \n",
       "max               2886.000000     76.600000       253.000000      1.000000  "
      ]
     },
     "execution_count": 4,
     "metadata": {},
     "output_type": "execute_result"
    }
   ],
   "source": [
    "#Aplicación de la funcion describe para ver información estadística del dataset\n",
    "df.describe()"
   ]
  },
  {
   "cell_type": "markdown",
   "id": "c4d79e1b",
   "metadata": {},
   "source": [
    "**Descripción del dataset**"
   ]
  },
  {
   "cell_type": "markdown",
   "id": "b3ea31e8",
   "metadata": {},
   "source": [
    "**->Variable Objetivo**\n",
    "\n",
    "Failure Type: Representa el tipo de dato\n",
    "\n",
    "\n",
    "**-> Variables de entrada X**\n",
    "UID: identificador único que va de 1 a 10000\n",
    "\n",
    "\n",
    "productID: consistente en una letra L, M o H para baja (50% de todos los productos), media (30%) y alta (20%) como variantes de \n",
    "calidad del producto y un número de serie específico de la variante\n",
    "\n",
    "\n",
    "temperatura del aire [K]: generada mediante un proceso de paseo aleatorio, posteriormente normalizado con una desviación estándar de 2 K en torno a 300 K\n",
    "\n",
    "\n",
    "temperatura del proceso [K]: generada mediante un proceso de paseo aleatorio normalizado a una desviación estándar de 1 K, añadida a la temperatura del aire más 10 K.\n",
    "\n",
    "\n",
    "velocidad de rotación [rpm]: calculada a partir de una potencia de 2860 W, superpuesta con un ruido normalmente distribuido\n",
    "\n",
    "\n",
    "par [Nm]: los valores de par se distribuyen normalmente en torno a 40 Nm con un Ïƒ = 10 Nm y sin valores negativos.\n",
    "\n",
    "\n",
    "desgaste de la herramienta [min]: Las variantes de calidad H/M/L añaden 5/3/2 minutos de desgaste de la herramienta utilizada en el proceso y una etiqueta de \"fallo de la máquina\" que indica, si la máquina ha fallado en este punto de datos particular para cualquiera de los siguientes modos de fallo son verdaderos."
   ]
  },
  {
   "cell_type": "code",
   "execution_count": 5,
   "id": "835edacf",
   "metadata": {},
   "outputs": [
    {
     "data": {
      "text/plain": [
       "UDI                        10000\n",
       "Product ID                 10000\n",
       "Type                       10000\n",
       "Air temperature [K]        10000\n",
       "Process temperature [K]    10000\n",
       "Rotational speed [rpm]     10000\n",
       "Torque [Nm]                10000\n",
       "Tool wear [min]            10000\n",
       "Target                     10000\n",
       "Failure Type               10000\n",
       "dtype: int64"
      ]
     },
     "execution_count": 5,
     "metadata": {},
     "output_type": "execute_result"
    }
   ],
   "source": [
    "#Aplicación de la funció n count para ver la cantidad de registros del dataset\n",
    "df.count()"
   ]
  },
  {
   "cell_type": "code",
   "execution_count": 6,
   "id": "7e85735a",
   "metadata": {
    "scrolled": false
   },
   "outputs": [
    {
     "name": "stdout",
     "output_type": "stream",
     "text": [
      "<class 'pandas.core.frame.DataFrame'>\n",
      "RangeIndex: 10000 entries, 0 to 9999\n",
      "Data columns (total 10 columns):\n",
      " #   Column                   Non-Null Count  Dtype  \n",
      "---  ------                   --------------  -----  \n",
      " 0   UDI                      10000 non-null  int64  \n",
      " 1   Product ID               10000 non-null  object \n",
      " 2   Type                     10000 non-null  object \n",
      " 3   Air temperature [K]      10000 non-null  float64\n",
      " 4   Process temperature [K]  10000 non-null  float64\n",
      " 5   Rotational speed [rpm]   10000 non-null  int64  \n",
      " 6   Torque [Nm]              10000 non-null  float64\n",
      " 7   Tool wear [min]          10000 non-null  int64  \n",
      " 8   Target                   10000 non-null  int64  \n",
      " 9   Failure Type             10000 non-null  object \n",
      "dtypes: float64(3), int64(4), object(3)\n",
      "memory usage: 781.4+ KB\n"
     ]
    }
   ],
   "source": [
    "#Mostrar la información del nuevo dataset\n",
    "df.info()"
   ]
  },
  {
   "cell_type": "markdown",
   "id": "1599bf1a",
   "metadata": {},
   "source": [
    "**Estadisticas de la variable objetivo**\n"
   ]
  },
  {
   "cell_type": "markdown",
   "id": "a1eef7dc",
   "metadata": {},
   "source": [
    "# Limpieza del dataset"
   ]
  },
  {
   "cell_type": "code",
   "execution_count": 7,
   "id": "7fdc43d9",
   "metadata": {},
   "outputs": [
    {
     "data": {
      "text/plain": [
       "UDI                        10000\n",
       "Product ID                 10000\n",
       "Type                           3\n",
       "Air temperature [K]           93\n",
       "Process temperature [K]       82\n",
       "Rotational speed [rpm]       941\n",
       "Torque [Nm]                  577\n",
       "Tool wear [min]              246\n",
       "Target                         2\n",
       "Failure Type                   6\n",
       "dtype: int64"
      ]
     },
     "execution_count": 7,
     "metadata": {},
     "output_type": "execute_result"
    }
   ],
   "source": [
    "#Aplicación de la función nunique para identificar las variable categoricas\n",
    "df.nunique()"
   ]
  },
  {
   "cell_type": "code",
   "execution_count": 8,
   "id": "9c6e0ccb",
   "metadata": {},
   "outputs": [
    {
     "data": {
      "text/plain": [
       "UDI                        0\n",
       "Product ID                 0\n",
       "Type                       0\n",
       "Air temperature [K]        0\n",
       "Process temperature [K]    0\n",
       "Rotational speed [rpm]     0\n",
       "Torque [Nm]                0\n",
       "Tool wear [min]            0\n",
       "Target                     0\n",
       "Failure Type               0\n",
       "dtype: int64"
      ]
     },
     "execution_count": 8,
     "metadata": {},
     "output_type": "execute_result"
    }
   ],
   "source": [
    "#Verificamos la existencia de datos nulos\n",
    "df.isnull().sum()"
   ]
  },
  {
   "cell_type": "code",
   "execution_count": 9,
   "id": "326307df",
   "metadata": {},
   "outputs": [
    {
     "data": {
      "text/plain": [
       "UDI                        0\n",
       "Product ID                 0\n",
       "Type                       0\n",
       "Air temperature [K]        0\n",
       "Process temperature [K]    0\n",
       "Rotational speed [rpm]     0\n",
       "Torque [Nm]                0\n",
       "Tool wear [min]            0\n",
       "Target                     0\n",
       "Failure Type               0\n",
       "dtype: int64"
      ]
     },
     "execution_count": 9,
     "metadata": {},
     "output_type": "execute_result"
    }
   ],
   "source": [
    "#Verificamos la existencia  de datos vacios (longitud = 0)\n",
    "df.isna().sum()"
   ]
  },
  {
   "cell_type": "markdown",
   "id": "d5d47e07",
   "metadata": {},
   "source": [
    "# Tranformación de datos categóricos a la nueva data"
   ]
  },
  {
   "cell_type": "code",
   "execution_count": 10,
   "id": "a2afcb8d",
   "metadata": {},
   "outputs": [
    {
     "data": {
      "text/plain": [
       "UDI                        10000\n",
       "Product ID                 10000\n",
       "Type                           3\n",
       "Air temperature [K]           93\n",
       "Process temperature [K]       82\n",
       "Rotational speed [rpm]       941\n",
       "Torque [Nm]                  577\n",
       "Tool wear [min]              246\n",
       "Target                         2\n",
       "Failure Type                   6\n",
       "dtype: int64"
      ]
     },
     "execution_count": 10,
     "metadata": {},
     "output_type": "execute_result"
    }
   ],
   "source": [
    "#Identificamos los valores unicos para cada categoria\n",
    "df.nunique()"
   ]
  },
  {
   "cell_type": "code",
   "execution_count": 11,
   "id": "dd206ead",
   "metadata": {},
   "outputs": [
    {
     "data": {
      "text/plain": [
       "UDI                        category\n",
       "Product ID                 category\n",
       "Type                       category\n",
       "Air temperature [K]        category\n",
       "Process temperature [K]    category\n",
       "Rotational speed [rpm]     category\n",
       "Torque [Nm]                category\n",
       "Tool wear [min]            category\n",
       "Target                     category\n",
       "Failure Type               category\n",
       "dtype: object"
      ]
     },
     "execution_count": 11,
     "metadata": {},
     "output_type": "execute_result"
    }
   ],
   "source": [
    "\n",
    "#Aplicación de label encoder para eliminar las variables categoricas \n",
    "'''Se convierte de tipo objeto a categórico'''\n",
    "df1 = df.astype('category')\n",
    "'''Se visualiza el cambio en el tipo de datos de las características'''\n",
    "df1.dtypes"
   ]
  },
  {
   "cell_type": "code",
   "execution_count": 83,
   "id": "b4fc3179",
   "metadata": {
    "scrolled": true
   },
   "outputs": [
    {
     "data": {
      "text/html": [
       "<div>\n",
       "<style scoped>\n",
       "    .dataframe tbody tr th:only-of-type {\n",
       "        vertical-align: middle;\n",
       "    }\n",
       "\n",
       "    .dataframe tbody tr th {\n",
       "        vertical-align: top;\n",
       "    }\n",
       "\n",
       "    .dataframe thead th {\n",
       "        text-align: right;\n",
       "    }\n",
       "</style>\n",
       "<table border=\"1\" class=\"dataframe\">\n",
       "  <thead>\n",
       "    <tr style=\"text-align: right;\">\n",
       "      <th></th>\n",
       "      <th>UDI</th>\n",
       "      <th>Product ID</th>\n",
       "      <th>Type</th>\n",
       "      <th>Air temperature [K]</th>\n",
       "      <th>Process temperature [K]</th>\n",
       "      <th>Rotational speed [rpm]</th>\n",
       "      <th>Torque [Nm]</th>\n",
       "      <th>Tool wear [min]</th>\n",
       "      <th>Target</th>\n",
       "      <th>Failure Type</th>\n",
       "    </tr>\n",
       "  </thead>\n",
       "  <tbody>\n",
       "    <tr>\n",
       "      <th>0</th>\n",
       "      <td>0</td>\n",
       "      <td>7003</td>\n",
       "      <td>2</td>\n",
       "      <td>28</td>\n",
       "      <td>29</td>\n",
       "      <td>325</td>\n",
       "      <td>313</td>\n",
       "      <td>0</td>\n",
       "      <td>0</td>\n",
       "      <td>1</td>\n",
       "    </tr>\n",
       "    <tr>\n",
       "      <th>1</th>\n",
       "      <td>1</td>\n",
       "      <td>1003</td>\n",
       "      <td>1</td>\n",
       "      <td>29</td>\n",
       "      <td>30</td>\n",
       "      <td>182</td>\n",
       "      <td>348</td>\n",
       "      <td>2</td>\n",
       "      <td>0</td>\n",
       "      <td>1</td>\n",
       "    </tr>\n",
       "    <tr>\n",
       "      <th>2</th>\n",
       "      <td>2</td>\n",
       "      <td>1004</td>\n",
       "      <td>1</td>\n",
       "      <td>28</td>\n",
       "      <td>28</td>\n",
       "      <td>272</td>\n",
       "      <td>379</td>\n",
       "      <td>4</td>\n",
       "      <td>0</td>\n",
       "      <td>1</td>\n",
       "    </tr>\n",
       "    <tr>\n",
       "      <th>3</th>\n",
       "      <td>3</td>\n",
       "      <td>1005</td>\n",
       "      <td>1</td>\n",
       "      <td>29</td>\n",
       "      <td>29</td>\n",
       "      <td>207</td>\n",
       "      <td>280</td>\n",
       "      <td>6</td>\n",
       "      <td>0</td>\n",
       "      <td>1</td>\n",
       "    </tr>\n",
       "    <tr>\n",
       "      <th>4</th>\n",
       "      <td>4</td>\n",
       "      <td>1006</td>\n",
       "      <td>1</td>\n",
       "      <td>29</td>\n",
       "      <td>30</td>\n",
       "      <td>182</td>\n",
       "      <td>285</td>\n",
       "      <td>8</td>\n",
       "      <td>0</td>\n",
       "      <td>1</td>\n",
       "    </tr>\n",
       "    <tr>\n",
       "      <th>...</th>\n",
       "      <td>...</td>\n",
       "      <td>...</td>\n",
       "      <td>...</td>\n",
       "      <td>...</td>\n",
       "      <td>...</td>\n",
       "      <td>...</td>\n",
       "      <td>...</td>\n",
       "      <td>...</td>\n",
       "      <td>...</td>\n",
       "      <td>...</td>\n",
       "    </tr>\n",
       "    <tr>\n",
       "      <th>95</th>\n",
       "      <td>95</td>\n",
       "      <td>7031</td>\n",
       "      <td>2</td>\n",
       "      <td>37</td>\n",
       "      <td>33</td>\n",
       "      <td>125</td>\n",
       "      <td>407</td>\n",
       "      <td>43</td>\n",
       "      <td>0</td>\n",
       "      <td>1</td>\n",
       "    </tr>\n",
       "    <tr>\n",
       "      <th>96</th>\n",
       "      <td>96</td>\n",
       "      <td>7032</td>\n",
       "      <td>2</td>\n",
       "      <td>37</td>\n",
       "      <td>33</td>\n",
       "      <td>349</td>\n",
       "      <td>238</td>\n",
       "      <td>46</td>\n",
       "      <td>0</td>\n",
       "      <td>1</td>\n",
       "    </tr>\n",
       "    <tr>\n",
       "      <th>97</th>\n",
       "      <td>97</td>\n",
       "      <td>7033</td>\n",
       "      <td>2</td>\n",
       "      <td>36</td>\n",
       "      <td>32</td>\n",
       "      <td>524</td>\n",
       "      <td>184</td>\n",
       "      <td>49</td>\n",
       "      <td>0</td>\n",
       "      <td>1</td>\n",
       "    </tr>\n",
       "    <tr>\n",
       "      <th>98</th>\n",
       "      <td>98</td>\n",
       "      <td>1058</td>\n",
       "      <td>1</td>\n",
       "      <td>36</td>\n",
       "      <td>31</td>\n",
       "      <td>303</td>\n",
       "      <td>212</td>\n",
       "      <td>52</td>\n",
       "      <td>0</td>\n",
       "      <td>1</td>\n",
       "    </tr>\n",
       "    <tr>\n",
       "      <th>99</th>\n",
       "      <td>99</td>\n",
       "      <td>1059</td>\n",
       "      <td>1</td>\n",
       "      <td>35</td>\n",
       "      <td>31</td>\n",
       "      <td>297</td>\n",
       "      <td>329</td>\n",
       "      <td>54</td>\n",
       "      <td>0</td>\n",
       "      <td>1</td>\n",
       "    </tr>\n",
       "  </tbody>\n",
       "</table>\n",
       "<p>100 rows × 10 columns</p>\n",
       "</div>"
      ],
      "text/plain": [
       "    UDI  Product ID  Type  Air temperature [K]  Process temperature [K]  \\\n",
       "0     0        7003     2                   28                       29   \n",
       "1     1        1003     1                   29                       30   \n",
       "2     2        1004     1                   28                       28   \n",
       "3     3        1005     1                   29                       29   \n",
       "4     4        1006     1                   29                       30   \n",
       "..  ...         ...   ...                  ...                      ...   \n",
       "95   95        7031     2                   37                       33   \n",
       "96   96        7032     2                   37                       33   \n",
       "97   97        7033     2                   36                       32   \n",
       "98   98        1058     1                   36                       31   \n",
       "99   99        1059     1                   35                       31   \n",
       "\n",
       "    Rotational speed [rpm]  Torque [Nm]  Tool wear [min]  Target  Failure Type  \n",
       "0                      325          313                0       0             1  \n",
       "1                      182          348                2       0             1  \n",
       "2                      272          379                4       0             1  \n",
       "3                      207          280                6       0             1  \n",
       "4                      182          285                8       0             1  \n",
       "..                     ...          ...              ...     ...           ...  \n",
       "95                     125          407               43       0             1  \n",
       "96                     349          238               46       0             1  \n",
       "97                     524          184               49       0             1  \n",
       "98                     303          212               52       0             1  \n",
       "99                     297          329               54       0             1  \n",
       "\n",
       "[100 rows x 10 columns]"
      ]
     },
     "execution_count": 83,
     "metadata": {},
     "output_type": "execute_result"
    }
   ],
   "source": [
    "'''Se importa la librería de LabelEndocer para transformar de categórico a numérico'''\n",
    "from sklearn.preprocessing import LabelEncoder\n",
    "labelencoder=LabelEncoder()\n",
    "for column in df1.columns:\n",
    "    df1[column] = labelencoder.fit_transform(df1[column])\n",
    "\n",
    "df1.head(100)"
   ]
  },
  {
   "cell_type": "code",
   "execution_count": 91,
   "id": "1df806ae",
   "metadata": {},
   "outputs": [],
   "source": [
    "#Eliminar caracteristicas innecesarias\n",
    "df2 = df1.drop([\"Target\",\"UDI\",\"Product ID\"],axis=1)"
   ]
  },
  {
   "cell_type": "code",
   "execution_count": 92,
   "id": "317e746b",
   "metadata": {
    "scrolled": true
   },
   "outputs": [
    {
     "name": "stdout",
     "output_type": "stream",
     "text": [
      "<class 'pandas.core.frame.DataFrame'>\n",
      "RangeIndex: 10000 entries, 0 to 9999\n",
      "Data columns (total 7 columns):\n",
      " #   Column                   Non-Null Count  Dtype\n",
      "---  ------                   --------------  -----\n",
      " 0   Type                     10000 non-null  int64\n",
      " 1   Air temperature [K]      10000 non-null  int64\n",
      " 2   Process temperature [K]  10000 non-null  int64\n",
      " 3   Rotational speed [rpm]   10000 non-null  int64\n",
      " 4   Torque [Nm]              10000 non-null  int64\n",
      " 5   Tool wear [min]          10000 non-null  int64\n",
      " 6   Failure Type             10000 non-null  int64\n",
      "dtypes: int64(7)\n",
      "memory usage: 547.0 KB\n"
     ]
    }
   ],
   "source": [
    "#Mostrar la información de df2\n",
    "df2.info()"
   ]
  },
  {
   "cell_type": "code",
   "execution_count": 143,
   "id": "63d05f6d",
   "metadata": {},
   "outputs": [
    {
     "data": {
      "text/plain": [
       "Type                         3\n",
       "Air temperature [K]         93\n",
       "Process temperature [K]     82\n",
       "Rotational speed [rpm]     941\n",
       "Torque [Nm]                577\n",
       "Tool wear [min]            246\n",
       "Failure Type                 6\n",
       "dtype: int64"
      ]
     },
     "execution_count": 143,
     "metadata": {},
     "output_type": "execute_result"
    }
   ],
   "source": [
    "#\n",
    "df2.nunique()"
   ]
  },
  {
   "cell_type": "markdown",
   "id": "6cd89c64",
   "metadata": {},
   "source": [
    "# Preprocesamiento de los datos"
   ]
  },
  {
   "cell_type": "code",
   "execution_count": 93,
   "id": "0d44a716",
   "metadata": {},
   "outputs": [],
   "source": [
    "# Asignamos las variables dependientes\n",
    "X = df2[['Type', 'Air temperature [K]', 'Process temperature [K]', 'Rotational speed [rpm]', 'Torque [Nm]', 'Tool wear [min]']]\n",
    "\n",
    "# Asignamos la variable objetivo\n",
    "y = df2[['Failure Type']]"
   ]
  },
  {
   "cell_type": "markdown",
   "id": "dcca1959",
   "metadata": {},
   "source": [
    "# Estandarización de la data"
   ]
  },
  {
   "cell_type": "markdown",
   "id": "2f97d5dd",
   "metadata": {},
   "source": [
    "Aplicación del método Min_Max Scaling "
   ]
  },
  {
   "cell_type": "markdown",
   "id": "0f70f07c",
   "metadata": {},
   "source": [
    "## División del dataset en datos de entrenamiento y datos de test "
   ]
  },
  {
   "cell_type": "code",
   "execution_count": 95,
   "id": "34218c23",
   "metadata": {},
   "outputs": [
    {
     "data": {
      "text/plain": [
       "((7000, 6), (3000, 6))"
      ]
     },
     "execution_count": 95,
     "metadata": {},
     "output_type": "execute_result"
    }
   ],
   "source": [
    "# let's separate the data into training and testing set\n",
    "X_train, X_test, y_train, y_test = train_test_split(df2.drop('Failure Type', axis=1),\n",
    "                                                    df2['Failure Type'],\n",
    "                                                    test_size=0.3,\n",
    "                                                    random_state=0)\n",
    "\n",
    "X_train.shape, X_test.shape"
   ]
  },
  {
   "cell_type": "code",
   "execution_count": 96,
   "id": "9d30f328",
   "metadata": {},
   "outputs": [],
   "source": [
    "\n",
    "# set up the scaler\n",
    "scaler = MinMaxScaler()\n",
    "\n",
    "# fit the scaler to the train set, it will learn the parameters\n",
    "scaler.fit(X_train)\n",
    "\n",
    "# transform train and test sets\n",
    "X_train_scaled = scaler.transform(X_train)\n",
    "X_test_scaled = scaler.transform(X_test)\n",
    "\n"
   ]
  },
  {
   "cell_type": "code",
   "execution_count": 97,
   "id": "d1e00f1f",
   "metadata": {},
   "outputs": [
    {
     "data": {
      "text/plain": [
       "array([  2.,  92.,  81., 940., 576., 245.])"
      ]
     },
     "execution_count": 97,
     "metadata": {},
     "output_type": "execute_result"
    }
   ],
   "source": [
    "# the scaler stores the maximum values of the features, learned from train set\n",
    "scaler.data_max_"
   ]
  },
  {
   "cell_type": "code",
   "execution_count": 98,
   "id": "cc07616e",
   "metadata": {},
   "outputs": [
    {
     "data": {
      "text/plain": [
       "array([ 0.        ,  0.        ,  0.        , -0.00106496,  0.        ,\n",
       "        0.        ])"
      ]
     },
     "execution_count": 98,
     "metadata": {},
     "output_type": "execute_result"
    }
   ],
   "source": [
    "# tthe scaler stores the minimum values of the features, learned from train set\n",
    "scaler.min_"
   ]
  },
  {
   "cell_type": "code",
   "execution_count": 99,
   "id": "7b03ccae",
   "metadata": {},
   "outputs": [
    {
     "data": {
      "text/plain": [
       "array([  2.,  92.,  81., 939., 576., 245.])"
      ]
     },
     "execution_count": 99,
     "metadata": {},
     "output_type": "execute_result"
    }
   ],
   "source": [
    "# the scaler also stores the value range (max -  min)\n",
    "\n",
    "scaler.data_range_"
   ]
  },
  {
   "cell_type": "code",
   "execution_count": 100,
   "id": "651500a4",
   "metadata": {},
   "outputs": [],
   "source": [
    "# let's transform the returned NumPy arrays to dataframes for the rest of\n",
    "# the demo\n",
    "\n",
    "X_train_scaled = pd.DataFrame(X_train_scaled, columns=X_train.columns)\n",
    "X_test_scaled = pd.DataFrame(X_test_scaled, columns=X_test.columns)"
   ]
  },
  {
   "cell_type": "code",
   "execution_count": 101,
   "id": "e984c7d9",
   "metadata": {},
   "outputs": [
    {
     "data": {
      "text/html": [
       "<div>\n",
       "<style scoped>\n",
       "    .dataframe tbody tr th:only-of-type {\n",
       "        vertical-align: middle;\n",
       "    }\n",
       "\n",
       "    .dataframe tbody tr th {\n",
       "        vertical-align: top;\n",
       "    }\n",
       "\n",
       "    .dataframe thead th {\n",
       "        text-align: right;\n",
       "    }\n",
       "</style>\n",
       "<table border=\"1\" class=\"dataframe\">\n",
       "  <thead>\n",
       "    <tr style=\"text-align: right;\">\n",
       "      <th></th>\n",
       "      <th>Type</th>\n",
       "      <th>Air temperature [K]</th>\n",
       "      <th>Process temperature [K]</th>\n",
       "      <th>Rotational speed [rpm]</th>\n",
       "      <th>Torque [Nm]</th>\n",
       "      <th>Tool wear [min]</th>\n",
       "    </tr>\n",
       "  </thead>\n",
       "  <tbody>\n",
       "    <tr>\n",
       "      <th>count</th>\n",
       "      <td>7000.0</td>\n",
       "      <td>7000.0</td>\n",
       "      <td>7000.0</td>\n",
       "      <td>7000.0</td>\n",
       "      <td>7000.0</td>\n",
       "      <td>7000.0</td>\n",
       "    </tr>\n",
       "    <tr>\n",
       "      <th>mean</th>\n",
       "      <td>1.2</td>\n",
       "      <td>47.0</td>\n",
       "      <td>43.1</td>\n",
       "      <td>309.1</td>\n",
       "      <td>284.6</td>\n",
       "      <td>105.8</td>\n",
       "    </tr>\n",
       "    <tr>\n",
       "      <th>std</th>\n",
       "      <td>0.6</td>\n",
       "      <td>20.1</td>\n",
       "      <td>14.9</td>\n",
       "      <td>161.6</td>\n",
       "      <td>99.2</td>\n",
       "      <td>63.9</td>\n",
       "    </tr>\n",
       "    <tr>\n",
       "      <th>min</th>\n",
       "      <td>0.0</td>\n",
       "      <td>0.0</td>\n",
       "      <td>0.0</td>\n",
       "      <td>1.0</td>\n",
       "      <td>0.0</td>\n",
       "      <td>0.0</td>\n",
       "    </tr>\n",
       "    <tr>\n",
       "      <th>25%</th>\n",
       "      <td>1.0</td>\n",
       "      <td>30.0</td>\n",
       "      <td>31.0</td>\n",
       "      <td>197.8</td>\n",
       "      <td>216.0</td>\n",
       "      <td>50.0</td>\n",
       "    </tr>\n",
       "    <tr>\n",
       "      <th>50%</th>\n",
       "      <td>1.0</td>\n",
       "      <td>48.0</td>\n",
       "      <td>44.0</td>\n",
       "      <td>278.0</td>\n",
       "      <td>286.0</td>\n",
       "      <td>105.0</td>\n",
       "    </tr>\n",
       "    <tr>\n",
       "      <th>75%</th>\n",
       "      <td>2.0</td>\n",
       "      <td>62.0</td>\n",
       "      <td>54.0</td>\n",
       "      <td>387.0</td>\n",
       "      <td>352.0</td>\n",
       "      <td>161.0</td>\n",
       "    </tr>\n",
       "    <tr>\n",
       "      <th>max</th>\n",
       "      <td>2.0</td>\n",
       "      <td>92.0</td>\n",
       "      <td>81.0</td>\n",
       "      <td>940.0</td>\n",
       "      <td>576.0</td>\n",
       "      <td>245.0</td>\n",
       "    </tr>\n",
       "  </tbody>\n",
       "</table>\n",
       "</div>"
      ],
      "text/plain": [
       "         Type  Air temperature [K]  Process temperature [K]  \\\n",
       "count  7000.0               7000.0                   7000.0   \n",
       "mean      1.2                 47.0                     43.1   \n",
       "std       0.6                 20.1                     14.9   \n",
       "min       0.0                  0.0                      0.0   \n",
       "25%       1.0                 30.0                     31.0   \n",
       "50%       1.0                 48.0                     44.0   \n",
       "75%       2.0                 62.0                     54.0   \n",
       "max       2.0                 92.0                     81.0   \n",
       "\n",
       "       Rotational speed [rpm]  Torque [Nm]  Tool wear [min]  \n",
       "count                  7000.0       7000.0           7000.0  \n",
       "mean                    309.1        284.6            105.8  \n",
       "std                     161.6         99.2             63.9  \n",
       "min                       1.0          0.0              0.0  \n",
       "25%                     197.8        216.0             50.0  \n",
       "50%                     278.0        286.0            105.0  \n",
       "75%                     387.0        352.0            161.0  \n",
       "max                     940.0        576.0            245.0  "
      ]
     },
     "execution_count": 101,
     "metadata": {},
     "output_type": "execute_result"
    }
   ],
   "source": [
    "# let's have a look at the original training dataset: min and max values\n",
    "# I use np.round to reduce the number of decimals to 1.\n",
    "\n",
    "np.round(X_train.describe(), 1)"
   ]
  },
  {
   "cell_type": "code",
   "execution_count": 102,
   "id": "5f16e667",
   "metadata": {},
   "outputs": [
    {
     "data": {
      "text/html": [
       "<div>\n",
       "<style scoped>\n",
       "    .dataframe tbody tr th:only-of-type {\n",
       "        vertical-align: middle;\n",
       "    }\n",
       "\n",
       "    .dataframe tbody tr th {\n",
       "        vertical-align: top;\n",
       "    }\n",
       "\n",
       "    .dataframe thead th {\n",
       "        text-align: right;\n",
       "    }\n",
       "</style>\n",
       "<table border=\"1\" class=\"dataframe\">\n",
       "  <thead>\n",
       "    <tr style=\"text-align: right;\">\n",
       "      <th></th>\n",
       "      <th>Type</th>\n",
       "      <th>Air temperature [K]</th>\n",
       "      <th>Process temperature [K]</th>\n",
       "      <th>Rotational speed [rpm]</th>\n",
       "      <th>Torque [Nm]</th>\n",
       "      <th>Tool wear [min]</th>\n",
       "    </tr>\n",
       "  </thead>\n",
       "  <tbody>\n",
       "    <tr>\n",
       "      <th>count</th>\n",
       "      <td>7000.0</td>\n",
       "      <td>7000.0</td>\n",
       "      <td>7000.0</td>\n",
       "      <td>7000.0</td>\n",
       "      <td>7000.0</td>\n",
       "      <td>7000.0</td>\n",
       "    </tr>\n",
       "    <tr>\n",
       "      <th>mean</th>\n",
       "      <td>0.6</td>\n",
       "      <td>0.5</td>\n",
       "      <td>0.5</td>\n",
       "      <td>0.3</td>\n",
       "      <td>0.5</td>\n",
       "      <td>0.4</td>\n",
       "    </tr>\n",
       "    <tr>\n",
       "      <th>std</th>\n",
       "      <td>0.3</td>\n",
       "      <td>0.2</td>\n",
       "      <td>0.2</td>\n",
       "      <td>0.2</td>\n",
       "      <td>0.2</td>\n",
       "      <td>0.3</td>\n",
       "    </tr>\n",
       "    <tr>\n",
       "      <th>min</th>\n",
       "      <td>0.0</td>\n",
       "      <td>0.0</td>\n",
       "      <td>0.0</td>\n",
       "      <td>0.0</td>\n",
       "      <td>0.0</td>\n",
       "      <td>0.0</td>\n",
       "    </tr>\n",
       "    <tr>\n",
       "      <th>25%</th>\n",
       "      <td>0.5</td>\n",
       "      <td>0.3</td>\n",
       "      <td>0.4</td>\n",
       "      <td>0.2</td>\n",
       "      <td>0.4</td>\n",
       "      <td>0.2</td>\n",
       "    </tr>\n",
       "    <tr>\n",
       "      <th>50%</th>\n",
       "      <td>0.5</td>\n",
       "      <td>0.5</td>\n",
       "      <td>0.5</td>\n",
       "      <td>0.3</td>\n",
       "      <td>0.5</td>\n",
       "      <td>0.4</td>\n",
       "    </tr>\n",
       "    <tr>\n",
       "      <th>75%</th>\n",
       "      <td>1.0</td>\n",
       "      <td>0.7</td>\n",
       "      <td>0.7</td>\n",
       "      <td>0.4</td>\n",
       "      <td>0.6</td>\n",
       "      <td>0.7</td>\n",
       "    </tr>\n",
       "    <tr>\n",
       "      <th>max</th>\n",
       "      <td>1.0</td>\n",
       "      <td>1.0</td>\n",
       "      <td>1.0</td>\n",
       "      <td>1.0</td>\n",
       "      <td>1.0</td>\n",
       "      <td>1.0</td>\n",
       "    </tr>\n",
       "  </tbody>\n",
       "</table>\n",
       "</div>"
      ],
      "text/plain": [
       "         Type  Air temperature [K]  Process temperature [K]  \\\n",
       "count  7000.0               7000.0                   7000.0   \n",
       "mean      0.6                  0.5                      0.5   \n",
       "std       0.3                  0.2                      0.2   \n",
       "min       0.0                  0.0                      0.0   \n",
       "25%       0.5                  0.3                      0.4   \n",
       "50%       0.5                  0.5                      0.5   \n",
       "75%       1.0                  0.7                      0.7   \n",
       "max       1.0                  1.0                      1.0   \n",
       "\n",
       "       Rotational speed [rpm]  Torque [Nm]  Tool wear [min]  \n",
       "count                  7000.0       7000.0           7000.0  \n",
       "mean                      0.3          0.5              0.4  \n",
       "std                       0.2          0.2              0.3  \n",
       "min                       0.0          0.0              0.0  \n",
       "25%                       0.2          0.4              0.2  \n",
       "50%                       0.3          0.5              0.4  \n",
       "75%                       0.4          0.6              0.7  \n",
       "max                       1.0          1.0              1.0  "
      ]
     },
     "execution_count": 102,
     "metadata": {},
     "output_type": "execute_result"
    }
   ],
   "source": [
    "# let's have a look at the scaled training dataset: min and max values\n",
    "# I use np.round to reduce the number of decimals to 1.\n",
    "\n",
    "np.round(X_train_scaled.describe(), 1)"
   ]
  },
  {
   "cell_type": "code",
   "execution_count": 103,
   "id": "d590c07d",
   "metadata": {},
   "outputs": [
    {
     "data": {
      "image/png": "[encoded data removed]",
      "text/plain": [
       "<Figure size 864x360 with 2 Axes>"
      ]
     },
     "metadata": {
      "needs_background": "light"
     },
     "output_type": "display_data"
    }
   ],
   "source": [
    "# let's compare the variable distributions before and after scaling\n",
    "\n",
    "fig, (ax1, ax2) = plt.subplots(ncols=2, figsize=(12, 5))\n",
    "\n",
    "# before scaling\n",
    "ax1.set_title('Before Scaling')\n",
    "sns.kdeplot(X_train['Rotational speed [rpm]'], ax=ax1)\n",
    "sns.kdeplot(X_train['Torque [Nm]'], ax=ax1)\n",
    "sns.kdeplot(X_train['Process temperature [K]'], ax=ax1)\n",
    "\n",
    "# after scaling\n",
    "ax2.set_title('After Min-Max Scaling')\n",
    "sns.kdeplot(X_train_scaled['Rotational speed [rpm]'], ax=ax2)\n",
    "sns.kdeplot(X_train_scaled['Torque [Nm]'], ax=ax2)\n",
    "sns.kdeplot(X_train_scaled['Process temperature [K]'], ax=ax2)\n",
    "plt.show()"
   ]
  },
  {
   "cell_type": "markdown",
   "id": "7c668a48",
   "metadata": {},
   "source": [
    "**Interpretación**\n",
    "\n",
    "Como se puede observar en la gráfica se toma a consideración las características Rotational speed, Torque, Process temperature en donde se puede apreciar que antes de realizar el escalamiento no tenian una buena dispersión. Posterior a ello tras realizar el proceso de MinMax Scaling se puede identificar que la distribución torna en un intervalo de 0 a 1 lo que equivale como un modelo efectivo para la propuesta."
   ]
  },
  {
   "cell_type": "markdown",
   "id": "1b813882",
   "metadata": {},
   "source": [
    "# Naive Bayes"
   ]
  },
  {
   "cell_type": "code",
   "execution_count": 104,
   "id": "1d4e17fb",
   "metadata": {},
   "outputs": [],
   "source": [
    "# Instanciamos el algoritmo gauciano de Naive Bayes\n",
    "gnb = GaussianNB()"
   ]
  },
  {
   "cell_type": "code",
   "execution_count": 105,
   "id": "a37b686e",
   "metadata": {},
   "outputs": [],
   "source": [
    "# Alimentamos nuestro modelo con los datos de entrenamiento\n",
    "# y obtenemos la predicción\n",
    "y_pred_NB = gnb.fit(X_train, y_train.values.ravel()).predict(X_test)"
   ]
  },
  {
   "cell_type": "code",
   "execution_count": 106,
   "id": "fb19c78e",
   "metadata": {},
   "outputs": [
    {
     "name": "stdout",
     "output_type": "stream",
     "text": [
      "Accuracy Naive Bayes: 0.956\n",
      "Precision Naive Bayes: 0.3511511322255705\n",
      "Recall Naive Bayes: 0.49236379564775484\n"
     ]
    },
    {
     "name": "stderr",
     "output_type": "stream",
     "text": [
      "C:\\Users\\enrik\\anaconda3\\lib\\site-packages\\sklearn\\metrics\\_classification.py:1318: UndefinedMetricWarning: Precision is ill-defined and being set to 0.0 in labels with no predicted samples. Use `zero_division` parameter to control this behavior.\n",
      "  _warn_prf(average, modifier, msg_start, len(result))\n"
     ]
    }
   ],
   "source": [
    "# Mostramos el accuracy del modelo Naive Bayes\n",
    "print(\"Accuracy Naive Bayes:\", metrics.accuracy_score(y_test, y_pred_NB))\n",
    "\n",
    "# Modelo de Precision de Naive Bayes\n",
    "print(\"Precision Naive Bayes:\", metrics.precision_score(y_test, y_pred_NB, average='macro'))\n",
    "\n",
    "# Modelo de Precision \n",
    "print(\"Recall Naive Bayes:\", metrics.recall_score(y_test, y_pred_NB, average='macro'))"
   ]
  },
  {
   "cell_type": "markdown",
   "id": "df6c2ccc",
   "metadata": {},
   "source": [
    "# Hidden Markov Model"
   ]
  },
  {
   "cell_type": "code",
   "execution_count": 107,
   "id": "dbd4c673",
   "metadata": {},
   "outputs": [
    {
     "data": {
      "text/plain": [
       "GaussianHMM(n_components=3, n_iter=50, random_state=42)"
      ]
     },
     "execution_count": 107,
     "metadata": {},
     "output_type": "execute_result"
    }
   ],
   "source": [
    "# Instanciamos el modelo Hidden Markov Model\n",
    "model = hmm.GaussianHMM(n_components = 3, covariance_type = \"diag\", n_iter = 50, random_state = 42)\n",
    "\n",
    "# Entrenamos el modelo con los datos de entrenamiento\n",
    "model.fit(X_train)"
   ]
  },
  {
   "cell_type": "code",
   "execution_count": 108,
   "id": "3ddac7c3",
   "metadata": {},
   "outputs": [],
   "source": [
    "# realizamos la prueba de predicción del model\n",
    "y_pred_HMM = model.predict(X_test)"
   ]
  },
  {
   "cell_type": "code",
   "execution_count": 109,
   "id": "a97488fa",
   "metadata": {},
   "outputs": [
    {
     "name": "stdout",
     "output_type": "stream",
     "text": [
      "Accuracy Hidden Markov Model: 0.172\n",
      "Precision Markov Model: 0.1662703488372093\n",
      "Recall Markov Model: 0.19474107245378344\n"
     ]
    },
    {
     "name": "stderr",
     "output_type": "stream",
     "text": [
      "C:\\Users\\enrik\\anaconda3\\lib\\site-packages\\sklearn\\metrics\\_classification.py:1318: UndefinedMetricWarning: Precision is ill-defined and being set to 0.0 in labels with no predicted samples. Use `zero_division` parameter to control this behavior.\n",
      "  _warn_prf(average, modifier, msg_start, len(result))\n"
     ]
    }
   ],
   "source": [
    "# Mostramos el accuracy del modelo Hidden Markov Model\n",
    "print(\"Accuracy Hidden Markov Model:\", metrics.accuracy_score(y_test, y_pred_HMM))\n",
    "\n",
    "# Model Precision: what percentage of positive tuples are labeled as such?\n",
    "print(\"Precision Markov Model:\", metrics.precision_score(y_test, y_pred_HMM, average='macro'))\n",
    "\n",
    "# Model Recall: what percentage of positive tuples are labelled as such?\n",
    "print(\"Recall Markov Model:\", metrics.recall_score(y_test, y_pred_HMM, average='macro'))"
   ]
  },
  {
   "cell_type": "markdown",
   "id": "385b0867",
   "metadata": {},
   "source": [
    "# Fuzzy Logic"
   ]
  },
  {
   "cell_type": "code",
   "execution_count": 110,
   "id": "951a0a9c",
   "metadata": {},
   "outputs": [],
   "source": [
    "# Asignamos las variables dependientes\n",
    "X = df2[['Type', 'Air temperature [K]', 'Process temperature [K]', 'Rotational speed [rpm]', 'Torque [Nm]', 'Tool wear [min]']]\n",
    "\n",
    "# Asignamos la variable objetivo\n",
    "y = df1[['Failure Type']]"
   ]
  },
  {
   "cell_type": "code",
   "execution_count": 111,
   "id": "ef92ef74",
   "metadata": {},
   "outputs": [],
   "source": [
    "from sklearn.preprocessing import StandardScaler\n",
    "# Formar objeto de scala para entradas\n",
    "VariablesEntradaScaler=StandardScaler()"
   ]
  },
  {
   "cell_type": "code",
   "execution_count": 112,
   "id": "253facdb",
   "metadata": {},
   "outputs": [],
   "source": [
    "#Aplicación de las variables de entrenamiento\n",
    "VariablesEntradaFit=VariablesEntradaScaler.fit(X)"
   ]
  },
  {
   "cell_type": "code",
   "execution_count": 113,
   "id": "810b7f18",
   "metadata": {},
   "outputs": [],
   "source": [
    "#Transformación\n",
    "X=VariablesEntradaFit.transform(X)"
   ]
  },
  {
   "cell_type": "code",
   "execution_count": 129,
   "id": "29c1e9fa",
   "metadata": {},
   "outputs": [],
   "source": [
    "#Aplicación del modelo fuzzy logic con un total de 6 grupos seleccionados\n",
    "modelo_fuzzy = FCM(n_clusters=6,init=1.7,random_state=0, fuzzifier=2) #Seleccionamos 6 cluster\n",
    "modelo_fuzzy.fit(X)"
   ]
  },
  {
   "cell_type": "code",
   "execution_count": 130,
   "id": "f92de8ab",
   "metadata": {},
   "outputs": [
    {
     "data": {
      "text/plain": [
       "array([1, 0, 0, ..., 1, 0, 1], dtype=int64)"
      ]
     },
     "execution_count": 130,
     "metadata": {},
     "output_type": "execute_result"
    }
   ],
   "source": [
    "#Toma de la variable y_pred\n",
    "centers = modelo_fuzzy.centers\n",
    "y_pred_fuzzy = modelo_fuzzy.predict(X)\n",
    "y_pred_fuzzy"
   ]
  },
  {
   "cell_type": "markdown",
   "id": "985015b1",
   "metadata": {},
   "source": [
    "# Evaluación"
   ]
  },
  {
   "cell_type": "code",
   "execution_count": 131,
   "id": "e21ed5f7",
   "metadata": {},
   "outputs": [
    {
     "name": "stdout",
     "output_type": "stream",
     "text": [
      "0.1661\n"
     ]
    }
   ],
   "source": [
    "#Imprimo el accuracy\n",
    "acc_score_fuzzy = accuracy_score(y, y_pred_fuzzy)\n",
    "print(acc_score_fuzzy)"
   ]
  },
  {
   "cell_type": "code",
   "execution_count": 132,
   "id": "8d94ea88",
   "metadata": {
    "scrolled": true
   },
   "outputs": [
    {
     "name": "stdout",
     "output_type": "stream",
     "text": [
      "[[   0    0    0    0  112    0]\n",
      " [2258 1641  930  666 2080 2077]\n",
      " [  41    0    0    0   37    0]\n",
      " [  33    0    0    0   31   31]\n",
      " [   3    2    3    0    7    3]\n",
      " [   9    5   11    0    7   13]]\n"
     ]
    }
   ],
   "source": [
    "#Obtengo matriz de confusion \n",
    "cm_fuzzy = confusion_matrix(y, y_pred_fuzzy)\n",
    "print(cm_fuzzy)"
   ]
  },
  {
   "cell_type": "code",
   "execution_count": 133,
   "id": "6d471b54",
   "metadata": {},
   "outputs": [
    {
     "data": {
      "text/plain": [
       "<AxesSubplot:>"
      ]
     },
     "execution_count": 133,
     "metadata": {},
     "output_type": "execute_result"
    },
    {
     "data": {
      "image/png": "[encoded data removed]",
      "text/plain": [
       "<Figure size 432x288 with 2 Axes>"
      ]
     },
     "metadata": {
      "needs_background": "light"
     },
     "output_type": "display_data"
    }
   ],
   "source": [
    "sns.heatmap(confusion_matrix(y, y_pred_fuzzy), annot=True,cmap=\"Blues\")"
   ]
  },
  {
   "cell_type": "markdown",
   "id": "66e43dce",
   "metadata": {},
   "source": [
    "# Matriz de confusión (Naive Bayes)"
   ]
  },
  {
   "cell_type": "code",
   "execution_count": 134,
   "id": "c6b01f7a",
   "metadata": {},
   "outputs": [
    {
     "name": "stdout",
     "output_type": "stream",
     "text": [
      "[[  24    6    0    0    0    0]\n",
      " [  44 2813   16   30    0    0]\n",
      " [   1    3   23    0    0    0]\n",
      " [   5   11    0    8    0    0]\n",
      " [   0    4    0    0    0    0]\n",
      " [   0   11    0    1    0    0]]\n"
     ]
    }
   ],
   "source": [
    "#Cramos la matriz de confusión\n",
    "print(confusion_matrix(y_test, y_pred_NB))"
   ]
  },
  {
   "cell_type": "code",
   "execution_count": 135,
   "id": "6a234fe2",
   "metadata": {
    "scrolled": true
   },
   "outputs": [
    {
     "data": {
      "text/plain": [
       "<AxesSubplot:>"
      ]
     },
     "execution_count": 135,
     "metadata": {},
     "output_type": "execute_result"
    },
    {
     "data": {
      "image/png": "[encoded data removed]",
      "text/plain": [
       "<Figure size 432x288 with 2 Axes>"
      ]
     },
     "metadata": {
      "needs_background": "light"
     },
     "output_type": "display_data"
    }
   ],
   "source": [
    "# Presentamos de forma estetica la matriz de confución\n",
    "sns.heatmap(confusion_matrix(y_test, y_pred_NB), annot=True)"
   ]
  },
  {
   "cell_type": "code",
   "execution_count": 140,
   "id": "382815bf",
   "metadata": {},
   "outputs": [
    {
     "data": {
      "text/plain": [
       "<AxesSubplot:>"
      ]
     },
     "execution_count": 140,
     "metadata": {},
     "output_type": "execute_result"
    },
    {
     "data": {
      "image/png": "[encoded data removed]",
      "text/plain": [
       "<Figure size 432x288 with 2 Axes>"
      ]
     },
     "metadata": {
      "needs_background": "light"
     },
     "output_type": "display_data"
    }
   ],
   "source": [
    "#Imprime la matriz de confusion de manera grafica \n",
    "sns.heatmap(confusion_matrix(y_test, y_pred_NB),cmap=\"Blues\", annot=True,annot_kws={\"size\": 15})"
   ]
  },
  {
   "cell_type": "markdown",
   "id": "f315bb41",
   "metadata": {},
   "source": [
    "# Matriz de confusión (Hidden Markov Model)\n"
   ]
  },
  {
   "cell_type": "code",
   "execution_count": 136,
   "id": "1b3d8dfa",
   "metadata": {},
   "outputs": [
    {
     "name": "stdout",
     "output_type": "stream",
     "text": [
      "[[   0    0   30    0    0    0]\n",
      " [1117  489 1297    0    0    0]\n",
      " [   0    0   27    0    0    0]\n",
      " [   0    8   16    0    0    0]\n",
      " [   3    1    0    0    0    0]\n",
      " [   4    2    6    0    0    0]]\n"
     ]
    }
   ],
   "source": [
    "#Cramos la matriz de confusión\n",
    "print(confusion_matrix(y_test, y_pred_HMM))"
   ]
  },
  {
   "cell_type": "code",
   "execution_count": 137,
   "id": "3fedf489",
   "metadata": {},
   "outputs": [
    {
     "data": {
      "text/plain": [
       "<AxesSubplot:>"
      ]
     },
     "execution_count": 137,
     "metadata": {},
     "output_type": "execute_result"
    },
    {
     "data": {
      "image/png": "[encoded data removed]",
      "text/plain": [
       "<Figure size 432x288 with 2 Axes>"
      ]
     },
     "metadata": {
      "needs_background": "light"
     },
     "output_type": "display_data"
    }
   ],
   "source": [
    "# Presentamos de forma estetica la matriz de confución\n",
    "sns.heatmap(confusion_matrix(y_test, y_pred_HMM), annot=True)"
   ]
  },
  {
   "cell_type": "code",
   "execution_count": 138,
   "id": "c1ed47c9",
   "metadata": {},
   "outputs": [
    {
     "data": {
      "image/png": "[encoded data removed]",
      "text/plain": [
       "<Figure size 720x720 with 2 Axes>"
      ]
     },
     "metadata": {
      "needs_background": "light"
     },
     "output_type": "display_data"
    }
   ],
   "source": [
    "plt.figure(figsize=(10,10))\n",
    "\n",
    "Correlacion = df1.corr()\n",
    "sns.heatmap(Correlacion, cmap = 'Blues', linewidths = 0.3, linecolor = 'dodgerblue', annot = True,\n",
    "            vmin = -1, vmax = 1, cbar_kws = {'orientation':'vertical'}, square = True, cbar = True)\n",
    "plt.title('Correlación de las variables del Dataset')\n",
    "plt.show()"
   ]
  },
  {
   "cell_type": "code",
   "execution_count": null,
   "id": "4f48933f",
   "metadata": {},
   "outputs": [],
   "source": []
  }
 ],
 "metadata": {
  "kernelspec": {
   "display_name": "Python 3 (ipykernel)",
   "language": "python",
   "name": "python3"
  },
  "language_info": {
   "codemirror_mode": {
    "name": "ipython",
    "version": 3
   },
   "file_extension": ".py",
   "mimetype": "text/x-python",
   "name": "python",
   "nbconvert_exporter": "python",
   "pygments_lexer": "ipython3",
   "version": "3.9.12"
  }
 },
 "nbformat": 4,
 "nbformat_minor": 5
}
