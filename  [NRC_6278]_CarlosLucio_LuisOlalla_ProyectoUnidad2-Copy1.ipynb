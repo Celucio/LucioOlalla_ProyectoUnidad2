{
 "cells": [
  {
   "cell_type": "markdown",
   "id": "7e36035e",
   "metadata": {},
   "source": [
    "# Importación de librerias necesarias"
   ]
  },
  {
   "cell_type": "code",
   "execution_count": 106,
   "id": "4dad5080",
   "metadata": {},
   "outputs": [],
   "source": [
    "#Inporatamos la libreria pandas\n",
    "import pandas as pd \n",
    "#Inporatamos la libreria seaborn\n",
    "import seaborn as sns\n",
    "#Inporatamos la libreria numpy\n",
    "import numpy as np\n",
    "#Importamos LabelEncoder desde la libreria sklearn\n",
    "from sklearn.preprocessing import LabelEncoder\n",
    "#Importamos train_test_split desde la libreria sklearn\n",
    "from sklearn.model_selection import train_test_split\n",
    "#Importamos MinMaxScaler desde la libreria sklearn\n",
    "from sklearn.preprocessing import MinMaxScaler\n",
    "#Importamos la libreria matplotlib\n",
    "import matplotlib.pyplot as plt\n",
    "#Importamos GaussianNB desde la libreria sklearn\n",
    "from sklearn.naive_bayes import GaussianNB\n",
    "#Importamos Metric desde la libreria sklearn\n",
    "from sklearn import metrics\n",
    "#Importamos la libreria collections\n",
    "import collections\n",
    "#Importamos confusion_matrix desde la libreria sklearn\n",
    "from sklearn.metrics import confusion_matrix\n",
    "# Importamos acurracy_score desde la libreria sklearn\n",
    "from sklearn.metrics import accuracy_score\n",
    "#Importamos recall_score desde la libreria sklearn\n",
    "from sklearn.metrics import recall_score\n",
    "#Importamos precision_score desde la libreria sklearn\n",
    "from sklearn.metrics import precision_score\n",
    "#Importamos f1_score desde la libreria sklearn\n",
    "from sklearn.metrics import f1_score\n",
    "# the scaler - for standardisation\n",
    "from sklearn.preprocessing import StandardScaler\n",
    "#Importamos hiden markov model desde la libreria hmmlearn\n",
    "from hmmlearn import hmm\n",
    "#Importamos la libreria que permite realizar el modelo Fuzzy Logic\n",
    "from fcmeans import FCM"
   ]
  },
  {
   "cell_type": "code",
   "execution_count": 107,
   "id": "75c7423c",
   "metadata": {},
   "outputs": [],
   "source": [
    "#Carga del dataset\n",
    "df = pd.read_csv(\"mantenimiento.csv\")"
   ]
  },
  {
   "cell_type": "code",
   "execution_count": 108,
   "id": "013b20b1",
   "metadata": {},
   "outputs": [
    {
     "data": {
      "text/html": [
       "<div>\n",
       "<style scoped>\n",
       "    .dataframe tbody tr th:only-of-type {\n",
       "        vertical-align: middle;\n",
       "    }\n",
       "\n",
       "    .dataframe tbody tr th {\n",
       "        vertical-align: top;\n",
       "    }\n",
       "\n",
       "    .dataframe thead th {\n",
       "        text-align: right;\n",
       "    }\n",
       "</style>\n",
       "<table border=\"1\" class=\"dataframe\">\n",
       "  <thead>\n",
       "    <tr style=\"text-align: right;\">\n",
       "      <th></th>\n",
       "      <th>UDI</th>\n",
       "      <th>Product ID</th>\n",
       "      <th>Type</th>\n",
       "      <th>Air temperature [K]</th>\n",
       "      <th>Process temperature [K]</th>\n",
       "      <th>Rotational speed [rpm]</th>\n",
       "      <th>Torque [Nm]</th>\n",
       "      <th>Tool wear [min]</th>\n",
       "      <th>Target</th>\n",
       "      <th>Failure Type</th>\n",
       "    </tr>\n",
       "  </thead>\n",
       "  <tbody>\n",
       "    <tr>\n",
       "      <th>0</th>\n",
       "      <td>1</td>\n",
       "      <td>M14860</td>\n",
       "      <td>M</td>\n",
       "      <td>298.1</td>\n",
       "      <td>308.6</td>\n",
       "      <td>1551</td>\n",
       "      <td>42.8</td>\n",
       "      <td>0</td>\n",
       "      <td>0</td>\n",
       "      <td>No Failure</td>\n",
       "    </tr>\n",
       "    <tr>\n",
       "      <th>1</th>\n",
       "      <td>2</td>\n",
       "      <td>L47181</td>\n",
       "      <td>L</td>\n",
       "      <td>298.2</td>\n",
       "      <td>308.7</td>\n",
       "      <td>1408</td>\n",
       "      <td>46.3</td>\n",
       "      <td>3</td>\n",
       "      <td>0</td>\n",
       "      <td>No Failure</td>\n",
       "    </tr>\n",
       "    <tr>\n",
       "      <th>2</th>\n",
       "      <td>3</td>\n",
       "      <td>L47182</td>\n",
       "      <td>L</td>\n",
       "      <td>298.1</td>\n",
       "      <td>308.5</td>\n",
       "      <td>1498</td>\n",
       "      <td>49.4</td>\n",
       "      <td>5</td>\n",
       "      <td>0</td>\n",
       "      <td>No Failure</td>\n",
       "    </tr>\n",
       "    <tr>\n",
       "      <th>3</th>\n",
       "      <td>4</td>\n",
       "      <td>L47183</td>\n",
       "      <td>L</td>\n",
       "      <td>298.2</td>\n",
       "      <td>308.6</td>\n",
       "      <td>1433</td>\n",
       "      <td>39.5</td>\n",
       "      <td>7</td>\n",
       "      <td>0</td>\n",
       "      <td>No Failure</td>\n",
       "    </tr>\n",
       "    <tr>\n",
       "      <th>4</th>\n",
       "      <td>5</td>\n",
       "      <td>L47184</td>\n",
       "      <td>L</td>\n",
       "      <td>298.2</td>\n",
       "      <td>308.7</td>\n",
       "      <td>1408</td>\n",
       "      <td>40.0</td>\n",
       "      <td>9</td>\n",
       "      <td>0</td>\n",
       "      <td>No Failure</td>\n",
       "    </tr>\n",
       "    <tr>\n",
       "      <th>...</th>\n",
       "      <td>...</td>\n",
       "      <td>...</td>\n",
       "      <td>...</td>\n",
       "      <td>...</td>\n",
       "      <td>...</td>\n",
       "      <td>...</td>\n",
       "      <td>...</td>\n",
       "      <td>...</td>\n",
       "      <td>...</td>\n",
       "      <td>...</td>\n",
       "    </tr>\n",
       "    <tr>\n",
       "      <th>995</th>\n",
       "      <td>996</td>\n",
       "      <td>L48175</td>\n",
       "      <td>L</td>\n",
       "      <td>296.3</td>\n",
       "      <td>307.3</td>\n",
       "      <td>1566</td>\n",
       "      <td>35.8</td>\n",
       "      <td>175</td>\n",
       "      <td>0</td>\n",
       "      <td>No Failure</td>\n",
       "    </tr>\n",
       "    <tr>\n",
       "      <th>996</th>\n",
       "      <td>997</td>\n",
       "      <td>M15856</td>\n",
       "      <td>M</td>\n",
       "      <td>296.3</td>\n",
       "      <td>307.2</td>\n",
       "      <td>1286</td>\n",
       "      <td>51.1</td>\n",
       "      <td>177</td>\n",
       "      <td>0</td>\n",
       "      <td>No Failure</td>\n",
       "    </tr>\n",
       "    <tr>\n",
       "      <th>997</th>\n",
       "      <td>998</td>\n",
       "      <td>M15857</td>\n",
       "      <td>M</td>\n",
       "      <td>296.3</td>\n",
       "      <td>307.2</td>\n",
       "      <td>1446</td>\n",
       "      <td>45.9</td>\n",
       "      <td>180</td>\n",
       "      <td>0</td>\n",
       "      <td>No Failure</td>\n",
       "    </tr>\n",
       "    <tr>\n",
       "      <th>998</th>\n",
       "      <td>999</td>\n",
       "      <td>M15858</td>\n",
       "      <td>M</td>\n",
       "      <td>296.4</td>\n",
       "      <td>307.2</td>\n",
       "      <td>2071</td>\n",
       "      <td>19.4</td>\n",
       "      <td>183</td>\n",
       "      <td>0</td>\n",
       "      <td>No Failure</td>\n",
       "    </tr>\n",
       "    <tr>\n",
       "      <th>999</th>\n",
       "      <td>1000</td>\n",
       "      <td>L48179</td>\n",
       "      <td>L</td>\n",
       "      <td>296.3</td>\n",
       "      <td>307.1</td>\n",
       "      <td>1560</td>\n",
       "      <td>33.2</td>\n",
       "      <td>186</td>\n",
       "      <td>0</td>\n",
       "      <td>No Failure</td>\n",
       "    </tr>\n",
       "  </tbody>\n",
       "</table>\n",
       "<p>1000 rows × 10 columns</p>\n",
       "</div>"
      ],
      "text/plain": [
       "      UDI Product ID Type  Air temperature [K]  Process temperature [K]  \\\n",
       "0       1     M14860    M                298.1                    308.6   \n",
       "1       2     L47181    L                298.2                    308.7   \n",
       "2       3     L47182    L                298.1                    308.5   \n",
       "3       4     L47183    L                298.2                    308.6   \n",
       "4       5     L47184    L                298.2                    308.7   \n",
       "..    ...        ...  ...                  ...                      ...   \n",
       "995   996     L48175    L                296.3                    307.3   \n",
       "996   997     M15856    M                296.3                    307.2   \n",
       "997   998     M15857    M                296.3                    307.2   \n",
       "998   999     M15858    M                296.4                    307.2   \n",
       "999  1000     L48179    L                296.3                    307.1   \n",
       "\n",
       "     Rotational speed [rpm]  Torque [Nm]  Tool wear [min]  Target Failure Type  \n",
       "0                      1551         42.8                0       0   No Failure  \n",
       "1                      1408         46.3                3       0   No Failure  \n",
       "2                      1498         49.4                5       0   No Failure  \n",
       "3                      1433         39.5                7       0   No Failure  \n",
       "4                      1408         40.0                9       0   No Failure  \n",
       "..                      ...          ...              ...     ...          ...  \n",
       "995                    1566         35.8              175       0   No Failure  \n",
       "996                    1286         51.1              177       0   No Failure  \n",
       "997                    1446         45.9              180       0   No Failure  \n",
       "998                    2071         19.4              183       0   No Failure  \n",
       "999                    1560         33.2              186       0   No Failure  \n",
       "\n",
       "[1000 rows x 10 columns]"
      ]
     },
     "execution_count": 108,
     "metadata": {},
     "output_type": "execute_result"
    }
   ],
   "source": [
    "#Mostrar el dataset\n",
    "df.head(1000)"
   ]
  },
  {
   "cell_type": "code",
   "execution_count": 109,
   "id": "6f33f0b8",
   "metadata": {
    "scrolled": true
   },
   "outputs": [
    {
     "data": {
      "text/html": [
       "<div>\n",
       "<style scoped>\n",
       "    .dataframe tbody tr th:only-of-type {\n",
       "        vertical-align: middle;\n",
       "    }\n",
       "\n",
       "    .dataframe tbody tr th {\n",
       "        vertical-align: top;\n",
       "    }\n",
       "\n",
       "    .dataframe thead th {\n",
       "        text-align: right;\n",
       "    }\n",
       "</style>\n",
       "<table border=\"1\" class=\"dataframe\">\n",
       "  <thead>\n",
       "    <tr style=\"text-align: right;\">\n",
       "      <th></th>\n",
       "      <th>UDI</th>\n",
       "      <th>Air temperature [K]</th>\n",
       "      <th>Process temperature [K]</th>\n",
       "      <th>Rotational speed [rpm]</th>\n",
       "      <th>Torque [Nm]</th>\n",
       "      <th>Tool wear [min]</th>\n",
       "      <th>Target</th>\n",
       "    </tr>\n",
       "  </thead>\n",
       "  <tbody>\n",
       "    <tr>\n",
       "      <th>count</th>\n",
       "      <td>10000.00000</td>\n",
       "      <td>10000.000000</td>\n",
       "      <td>10000.000000</td>\n",
       "      <td>10000.000000</td>\n",
       "      <td>10000.000000</td>\n",
       "      <td>10000.000000</td>\n",
       "      <td>10000.000000</td>\n",
       "    </tr>\n",
       "    <tr>\n",
       "      <th>mean</th>\n",
       "      <td>5000.50000</td>\n",
       "      <td>300.004930</td>\n",
       "      <td>310.005560</td>\n",
       "      <td>1538.776100</td>\n",
       "      <td>39.986910</td>\n",
       "      <td>107.951000</td>\n",
       "      <td>0.033900</td>\n",
       "    </tr>\n",
       "    <tr>\n",
       "      <th>std</th>\n",
       "      <td>2886.89568</td>\n",
       "      <td>2.000259</td>\n",
       "      <td>1.483734</td>\n",
       "      <td>179.284096</td>\n",
       "      <td>9.968934</td>\n",
       "      <td>63.654147</td>\n",
       "      <td>0.180981</td>\n",
       "    </tr>\n",
       "    <tr>\n",
       "      <th>min</th>\n",
       "      <td>1.00000</td>\n",
       "      <td>295.300000</td>\n",
       "      <td>305.700000</td>\n",
       "      <td>1168.000000</td>\n",
       "      <td>3.800000</td>\n",
       "      <td>0.000000</td>\n",
       "      <td>0.000000</td>\n",
       "    </tr>\n",
       "    <tr>\n",
       "      <th>25%</th>\n",
       "      <td>2500.75000</td>\n",
       "      <td>298.300000</td>\n",
       "      <td>308.800000</td>\n",
       "      <td>1423.000000</td>\n",
       "      <td>33.200000</td>\n",
       "      <td>53.000000</td>\n",
       "      <td>0.000000</td>\n",
       "    </tr>\n",
       "    <tr>\n",
       "      <th>50%</th>\n",
       "      <td>5000.50000</td>\n",
       "      <td>300.100000</td>\n",
       "      <td>310.100000</td>\n",
       "      <td>1503.000000</td>\n",
       "      <td>40.100000</td>\n",
       "      <td>108.000000</td>\n",
       "      <td>0.000000</td>\n",
       "    </tr>\n",
       "    <tr>\n",
       "      <th>75%</th>\n",
       "      <td>7500.25000</td>\n",
       "      <td>301.500000</td>\n",
       "      <td>311.100000</td>\n",
       "      <td>1612.000000</td>\n",
       "      <td>46.800000</td>\n",
       "      <td>162.000000</td>\n",
       "      <td>0.000000</td>\n",
       "    </tr>\n",
       "    <tr>\n",
       "      <th>max</th>\n",
       "      <td>10000.00000</td>\n",
       "      <td>304.500000</td>\n",
       "      <td>313.800000</td>\n",
       "      <td>2886.000000</td>\n",
       "      <td>76.600000</td>\n",
       "      <td>253.000000</td>\n",
       "      <td>1.000000</td>\n",
       "    </tr>\n",
       "  </tbody>\n",
       "</table>\n",
       "</div>"
      ],
      "text/plain": [
       "               UDI  Air temperature [K]  Process temperature [K]  \\\n",
       "count  10000.00000         10000.000000             10000.000000   \n",
       "mean    5000.50000           300.004930               310.005560   \n",
       "std     2886.89568             2.000259                 1.483734   \n",
       "min        1.00000           295.300000               305.700000   \n",
       "25%     2500.75000           298.300000               308.800000   \n",
       "50%     5000.50000           300.100000               310.100000   \n",
       "75%     7500.25000           301.500000               311.100000   \n",
       "max    10000.00000           304.500000               313.800000   \n",
       "\n",
       "       Rotational speed [rpm]   Torque [Nm]  Tool wear [min]        Target  \n",
       "count            10000.000000  10000.000000     10000.000000  10000.000000  \n",
       "mean              1538.776100     39.986910       107.951000      0.033900  \n",
       "std                179.284096      9.968934        63.654147      0.180981  \n",
       "min               1168.000000      3.800000         0.000000      0.000000  \n",
       "25%               1423.000000     33.200000        53.000000      0.000000  \n",
       "50%               1503.000000     40.100000       108.000000      0.000000  \n",
       "75%               1612.000000     46.800000       162.000000      0.000000  \n",
       "max               2886.000000     76.600000       253.000000      1.000000  "
      ]
     },
     "execution_count": 109,
     "metadata": {},
     "output_type": "execute_result"
    }
   ],
   "source": [
    "#Aplicación de la funcion describe para ver información estadística del dataset\n",
    "df.describe()"
   ]
  },
  {
   "cell_type": "markdown",
   "id": "c4d79e1b",
   "metadata": {},
   "source": [
    "**Descripción del dataset**"
   ]
  },
  {
   "cell_type": "markdown",
   "id": "b3ea31e8",
   "metadata": {},
   "source": [
    "**->Variable Objetivo**\n",
    "\n",
    "Failure Type: Representa el tipo de dato\n",
    "\n",
    "\n",
    "**-> Variables de entrada X**\n",
    "UID: identificador único que va de 1 a 10000\n",
    "\n",
    "\n",
    "productID: consistente en una letra L, M o H para baja (50% de todos los productos), media (30%) y alta (20%) como variantes de \n",
    "calidad del producto y un número de serie específico de la variante\n",
    "\n",
    "\n",
    "temperatura del aire [K]: generada mediante un proceso de paseo aleatorio, posteriormente normalizado con una desviación estándar de 2 K en torno a 300 K\n",
    "\n",
    "\n",
    "temperatura del proceso [K]: generada mediante un proceso de paseo aleatorio normalizado a una desviación estándar de 1 K, añadida a la temperatura del aire más 10 K.\n",
    "\n",
    "\n",
    "velocidad de rotación [rpm]: calculada a partir de una potencia de 2860 W, superpuesta con un ruido normalmente distribuido\n",
    "\n",
    "\n",
    "par [Nm]: los valores de par se distribuyen normalmente en torno a 40 Nm con un Ïƒ = 10 Nm y sin valores negativos.\n",
    "\n",
    "\n",
    "desgaste de la herramienta [min]: Las variantes de calidad H/M/L añaden 5/3/2 minutos de desgaste de la herramienta utilizada en el proceso y una etiqueta de \"fallo de la máquina\" que indica, si la máquina ha fallado en este punto de datos particular para cualquiera de los siguientes modos de fallo son verdaderos."
   ]
  },
  {
   "cell_type": "code",
   "execution_count": 110,
   "id": "835edacf",
   "metadata": {},
   "outputs": [
    {
     "data": {
      "text/plain": [
       "UDI                        10000\n",
       "Product ID                 10000\n",
       "Type                       10000\n",
       "Air temperature [K]        10000\n",
       "Process temperature [K]    10000\n",
       "Rotational speed [rpm]     10000\n",
       "Torque [Nm]                10000\n",
       "Tool wear [min]            10000\n",
       "Target                     10000\n",
       "Failure Type               10000\n",
       "dtype: int64"
      ]
     },
     "execution_count": 110,
     "metadata": {},
     "output_type": "execute_result"
    }
   ],
   "source": [
    "#Aplicación de la funció n count para ver la cantidad de registros del dataset\n",
    "df.count()"
   ]
  },
  {
   "cell_type": "code",
   "execution_count": 111,
   "id": "7e85735a",
   "metadata": {
    "scrolled": false
   },
   "outputs": [
    {
     "name": "stdout",
     "output_type": "stream",
     "text": [
      "<class 'pandas.core.frame.DataFrame'>\n",
      "RangeIndex: 10000 entries, 0 to 9999\n",
      "Data columns (total 10 columns):\n",
      " #   Column                   Non-Null Count  Dtype  \n",
      "---  ------                   --------------  -----  \n",
      " 0   UDI                      10000 non-null  int64  \n",
      " 1   Product ID               10000 non-null  object \n",
      " 2   Type                     10000 non-null  object \n",
      " 3   Air temperature [K]      10000 non-null  float64\n",
      " 4   Process temperature [K]  10000 non-null  float64\n",
      " 5   Rotational speed [rpm]   10000 non-null  int64  \n",
      " 6   Torque [Nm]              10000 non-null  float64\n",
      " 7   Tool wear [min]          10000 non-null  int64  \n",
      " 8   Target                   10000 non-null  int64  \n",
      " 9   Failure Type             10000 non-null  object \n",
      "dtypes: float64(3), int64(4), object(3)\n",
      "memory usage: 781.4+ KB\n"
     ]
    }
   ],
   "source": [
    "#Mostrar la información del nuevo dataset\n",
    "df.info()"
   ]
  },
  {
   "cell_type": "markdown",
   "id": "1599bf1a",
   "metadata": {},
   "source": [
    "**Estadisticas de la variable objetivo**"
   ]
  },
  {
   "cell_type": "code",
   "execution_count": 163,
   "id": "fd37e6d9",
   "metadata": {
    "scrolled": true
   },
   "outputs": [
    {
     "data": {
      "text/html": [
       "<div>\n",
       "<style scoped>\n",
       "    .dataframe tbody tr th:only-of-type {\n",
       "        vertical-align: middle;\n",
       "    }\n",
       "\n",
       "    .dataframe tbody tr th {\n",
       "        vertical-align: top;\n",
       "    }\n",
       "\n",
       "    .dataframe thead th {\n",
       "        text-align: right;\n",
       "    }\n",
       "</style>\n",
       "<table border=\"1\" class=\"dataframe\">\n",
       "  <thead>\n",
       "    <tr style=\"text-align: right;\">\n",
       "      <th></th>\n",
       "      <th>UDI</th>\n",
       "      <th>Type</th>\n",
       "      <th>Air temperature [K]</th>\n",
       "      <th>Process temperature [K]</th>\n",
       "      <th>Rotational speed [rpm]</th>\n",
       "      <th>Torque [Nm]</th>\n",
       "      <th>Tool wear [min]</th>\n",
       "      <th>Target</th>\n",
       "    </tr>\n",
       "  </thead>\n",
       "  <tbody>\n",
       "    <tr>\n",
       "      <th>count</th>\n",
       "      <td>10000.000</td>\n",
       "      <td>10000.000</td>\n",
       "      <td>10000.000</td>\n",
       "      <td>10000.000</td>\n",
       "      <td>10000.000</td>\n",
       "      <td>10000.000</td>\n",
       "      <td>10000.000</td>\n",
       "      <td>10000.000</td>\n",
       "    </tr>\n",
       "    <tr>\n",
       "      <th>mean</th>\n",
       "      <td>5000.500</td>\n",
       "      <td>0.801</td>\n",
       "      <td>300.005</td>\n",
       "      <td>310.006</td>\n",
       "      <td>1538.776</td>\n",
       "      <td>39.987</td>\n",
       "      <td>107.951</td>\n",
       "      <td>0.034</td>\n",
       "    </tr>\n",
       "    <tr>\n",
       "      <th>std</th>\n",
       "      <td>2886.896</td>\n",
       "      <td>0.600</td>\n",
       "      <td>2.000</td>\n",
       "      <td>1.484</td>\n",
       "      <td>179.284</td>\n",
       "      <td>9.969</td>\n",
       "      <td>63.654</td>\n",
       "      <td>0.181</td>\n",
       "    </tr>\n",
       "    <tr>\n",
       "      <th>min</th>\n",
       "      <td>1.000</td>\n",
       "      <td>0.000</td>\n",
       "      <td>295.300</td>\n",
       "      <td>305.700</td>\n",
       "      <td>1168.000</td>\n",
       "      <td>3.800</td>\n",
       "      <td>0.000</td>\n",
       "      <td>0.000</td>\n",
       "    </tr>\n",
       "    <tr>\n",
       "      <th>25%</th>\n",
       "      <td>2500.750</td>\n",
       "      <td>0.000</td>\n",
       "      <td>298.300</td>\n",
       "      <td>308.800</td>\n",
       "      <td>1423.000</td>\n",
       "      <td>33.200</td>\n",
       "      <td>53.000</td>\n",
       "      <td>0.000</td>\n",
       "    </tr>\n",
       "    <tr>\n",
       "      <th>50%</th>\n",
       "      <td>5000.500</td>\n",
       "      <td>1.000</td>\n",
       "      <td>300.100</td>\n",
       "      <td>310.100</td>\n",
       "      <td>1503.000</td>\n",
       "      <td>40.100</td>\n",
       "      <td>108.000</td>\n",
       "      <td>0.000</td>\n",
       "    </tr>\n",
       "    <tr>\n",
       "      <th>75%</th>\n",
       "      <td>7500.250</td>\n",
       "      <td>1.000</td>\n",
       "      <td>301.500</td>\n",
       "      <td>311.100</td>\n",
       "      <td>1612.000</td>\n",
       "      <td>46.800</td>\n",
       "      <td>162.000</td>\n",
       "      <td>0.000</td>\n",
       "    </tr>\n",
       "    <tr>\n",
       "      <th>max</th>\n",
       "      <td>10000.000</td>\n",
       "      <td>2.000</td>\n",
       "      <td>304.500</td>\n",
       "      <td>313.800</td>\n",
       "      <td>2886.000</td>\n",
       "      <td>76.600</td>\n",
       "      <td>253.000</td>\n",
       "      <td>1.000</td>\n",
       "    </tr>\n",
       "  </tbody>\n",
       "</table>\n",
       "</div>"
      ],
      "text/plain": [
       "             UDI       Type  Air temperature [K]  Process temperature [K]  \\\n",
       "count  10000.000  10000.000            10000.000                10000.000   \n",
       "mean    5000.500      0.801              300.005                  310.006   \n",
       "std     2886.896      0.600                2.000                    1.484   \n",
       "min        1.000      0.000              295.300                  305.700   \n",
       "25%     2500.750      0.000              298.300                  308.800   \n",
       "50%     5000.500      1.000              300.100                  310.100   \n",
       "75%     7500.250      1.000              301.500                  311.100   \n",
       "max    10000.000      2.000              304.500                  313.800   \n",
       "\n",
       "       Rotational speed [rpm]  Torque [Nm]  Tool wear [min]     Target  \n",
       "count               10000.000    10000.000        10000.000  10000.000  \n",
       "mean                 1538.776       39.987          107.951      0.034  \n",
       "std                   179.284        9.969           63.654      0.181  \n",
       "min                  1168.000        3.800            0.000      0.000  \n",
       "25%                  1423.000       33.200           53.000      0.000  \n",
       "50%                  1503.000       40.100          108.000      0.000  \n",
       "75%                  1612.000       46.800          162.000      0.000  \n",
       "max                  2886.000       76.600          253.000      1.000  "
      ]
     },
     "execution_count": 163,
     "metadata": {},
     "output_type": "execute_result"
    }
   ],
   "source": [
    "#Código que responde a la descripción anterior\n",
    "df1 = pd.DataFrame(df)\n",
    "np.round(df1.describe(), 3)"
   ]
  },
  {
   "cell_type": "code",
   "execution_count": 164,
   "id": "9d48e308",
   "metadata": {
    "scrolled": true
   },
   "outputs": [
    {
     "data": {
      "text/html": [
       "<div>\n",
       "<style scoped>\n",
       "    .dataframe tbody tr th:only-of-type {\n",
       "        vertical-align: middle;\n",
       "    }\n",
       "\n",
       "    .dataframe tbody tr th {\n",
       "        vertical-align: top;\n",
       "    }\n",
       "\n",
       "    .dataframe thead th {\n",
       "        text-align: right;\n",
       "    }\n",
       "</style>\n",
       "<table border=\"1\" class=\"dataframe\">\n",
       "  <thead>\n",
       "    <tr style=\"text-align: right;\">\n",
       "      <th></th>\n",
       "      <th>count</th>\n",
       "      <th>mean</th>\n",
       "      <th>std</th>\n",
       "      <th>min</th>\n",
       "      <th>25%</th>\n",
       "      <th>50%</th>\n",
       "      <th>75%</th>\n",
       "      <th>max</th>\n",
       "    </tr>\n",
       "  </thead>\n",
       "  <tbody>\n",
       "    <tr>\n",
       "      <th>UDI</th>\n",
       "      <td>10000.0</td>\n",
       "      <td>5000.50000</td>\n",
       "      <td>2886.895680</td>\n",
       "      <td>1.0</td>\n",
       "      <td>2500.75</td>\n",
       "      <td>5000.5</td>\n",
       "      <td>7500.25</td>\n",
       "      <td>10000.0</td>\n",
       "    </tr>\n",
       "    <tr>\n",
       "      <th>Type</th>\n",
       "      <td>10000.0</td>\n",
       "      <td>0.80060</td>\n",
       "      <td>0.600230</td>\n",
       "      <td>0.0</td>\n",
       "      <td>0.00</td>\n",
       "      <td>1.0</td>\n",
       "      <td>1.00</td>\n",
       "      <td>2.0</td>\n",
       "    </tr>\n",
       "    <tr>\n",
       "      <th>Air temperature [K]</th>\n",
       "      <td>10000.0</td>\n",
       "      <td>300.00493</td>\n",
       "      <td>2.000259</td>\n",
       "      <td>295.3</td>\n",
       "      <td>298.30</td>\n",
       "      <td>300.1</td>\n",
       "      <td>301.50</td>\n",
       "      <td>304.5</td>\n",
       "    </tr>\n",
       "    <tr>\n",
       "      <th>Process temperature [K]</th>\n",
       "      <td>10000.0</td>\n",
       "      <td>310.00556</td>\n",
       "      <td>1.483734</td>\n",
       "      <td>305.7</td>\n",
       "      <td>308.80</td>\n",
       "      <td>310.1</td>\n",
       "      <td>311.10</td>\n",
       "      <td>313.8</td>\n",
       "    </tr>\n",
       "    <tr>\n",
       "      <th>Rotational speed [rpm]</th>\n",
       "      <td>10000.0</td>\n",
       "      <td>1538.77610</td>\n",
       "      <td>179.284096</td>\n",
       "      <td>1168.0</td>\n",
       "      <td>1423.00</td>\n",
       "      <td>1503.0</td>\n",
       "      <td>1612.00</td>\n",
       "      <td>2886.0</td>\n",
       "    </tr>\n",
       "    <tr>\n",
       "      <th>Torque [Nm]</th>\n",
       "      <td>10000.0</td>\n",
       "      <td>39.98691</td>\n",
       "      <td>9.968934</td>\n",
       "      <td>3.8</td>\n",
       "      <td>33.20</td>\n",
       "      <td>40.1</td>\n",
       "      <td>46.80</td>\n",
       "      <td>76.6</td>\n",
       "    </tr>\n",
       "    <tr>\n",
       "      <th>Tool wear [min]</th>\n",
       "      <td>10000.0</td>\n",
       "      <td>107.95100</td>\n",
       "      <td>63.654147</td>\n",
       "      <td>0.0</td>\n",
       "      <td>53.00</td>\n",
       "      <td>108.0</td>\n",
       "      <td>162.00</td>\n",
       "      <td>253.0</td>\n",
       "    </tr>\n",
       "    <tr>\n",
       "      <th>Target</th>\n",
       "      <td>10000.0</td>\n",
       "      <td>0.03390</td>\n",
       "      <td>0.180981</td>\n",
       "      <td>0.0</td>\n",
       "      <td>0.00</td>\n",
       "      <td>0.0</td>\n",
       "      <td>0.00</td>\n",
       "      <td>1.0</td>\n",
       "    </tr>\n",
       "  </tbody>\n",
       "</table>\n",
       "</div>"
      ],
      "text/plain": [
       "                           count        mean          std     min      25%  \\\n",
       "UDI                      10000.0  5000.50000  2886.895680     1.0  2500.75   \n",
       "Type                     10000.0     0.80060     0.600230     0.0     0.00   \n",
       "Air temperature [K]      10000.0   300.00493     2.000259   295.3   298.30   \n",
       "Process temperature [K]  10000.0   310.00556     1.483734   305.7   308.80   \n",
       "Rotational speed [rpm]   10000.0  1538.77610   179.284096  1168.0  1423.00   \n",
       "Torque [Nm]              10000.0    39.98691     9.968934     3.8    33.20   \n",
       "Tool wear [min]          10000.0   107.95100    63.654147     0.0    53.00   \n",
       "Target                   10000.0     0.03390     0.180981     0.0     0.00   \n",
       "\n",
       "                            50%      75%      max  \n",
       "UDI                      5000.5  7500.25  10000.0  \n",
       "Type                        1.0     1.00      2.0  \n",
       "Air temperature [K]       300.1   301.50    304.5  \n",
       "Process temperature [K]   310.1   311.10    313.8  \n",
       "Rotational speed [rpm]   1503.0  1612.00   2886.0  \n",
       "Torque [Nm]                40.1    46.80     76.6  \n",
       "Tool wear [min]           108.0   162.00    253.0  \n",
       "Target                      0.0     0.00      1.0  "
      ]
     },
     "execution_count": 164,
     "metadata": {},
     "output_type": "execute_result"
    }
   ],
   "source": [
    "df1.describe().T"
   ]
  },
  {
   "cell_type": "code",
   "execution_count": 165,
   "id": "a50e12e8",
   "metadata": {
    "scrolled": true
   },
   "outputs": [
    {
     "data": {
      "text/plain": [
       "count    10000.000\n",
       "mean         0.034\n",
       "std          0.181\n",
       "min          0.000\n",
       "25%          0.000\n",
       "50%          0.000\n",
       "75%          0.000\n",
       "max          1.000\n",
       "Name: Objetivo, dtype: float64"
      ]
     },
     "execution_count": 165,
     "metadata": {},
     "output_type": "execute_result"
    }
   ],
   "source": [
    "#Reemplazar el nombre de la etiqueta\n",
    "df1.rename(columns={\"Target\": \"Objetivo\"}, inplace = True)\n",
    "\n",
    "#Estadísticas de la variable objetivo\n",
    "objetivo = df1['Objetivo']\n",
    "np.round(objetivo.describe(), 3)"
   ]
  },
  {
   "cell_type": "markdown",
   "id": "2641542d",
   "metadata": {},
   "source": [
    "# Preprocesamiento del dataset. Transformaciones previas necesarias para la modelación"
   ]
  },
  {
   "cell_type": "code",
   "execution_count": 166,
   "id": "bc22216d",
   "metadata": {},
   "outputs": [],
   "source": [
    "#Transformación de las caracteristicas (mire el apartado Feature engineering del aula virtual)\n",
    "cols_caract = df1.drop('Objetivo', axis=1)\n",
    "var_objetivo = ['Objetivo']\n",
    "X = cols_caract # caracteristicas\n",
    "y = df1[var_objetivo] # target/etiquet"
   ]
  },
  {
   "cell_type": "code",
   "execution_count": 167,
   "id": "5b6d507d",
   "metadata": {
    "scrolled": true
   },
   "outputs": [
    {
     "data": {
      "text/plain": [
       "Objetivo    0\n",
       "dtype: int64"
      ]
     },
     "execution_count": 167,
     "metadata": {},
     "output_type": "execute_result"
    }
   ],
   "source": [
    "#Comprobar si existen valores nulos en la variable objetivo\n",
    "y.isnull().sum()"
   ]
  },
  {
   "cell_type": "code",
   "execution_count": 168,
   "id": "0b2b2d52",
   "metadata": {},
   "outputs": [
    {
     "data": {
      "text/plain": [
       "UDI                        0\n",
       "Product ID                 0\n",
       "Type                       0\n",
       "Air temperature [K]        0\n",
       "Process temperature [K]    0\n",
       "Rotational speed [rpm]     0\n",
       "Torque [Nm]                0\n",
       "Tool wear [min]            0\n",
       "Failure Type               0\n",
       "dtype: int64"
      ]
     },
     "execution_count": 168,
     "metadata": {},
     "output_type": "execute_result"
    }
   ],
   "source": [
    "#Comprobar los valores nulos en datos de entrada\n",
    "X.isnull().sum()"
   ]
  },
  {
   "cell_type": "code",
   "execution_count": 169,
   "id": "92d265dc",
   "metadata": {},
   "outputs": [
    {
     "data": {
      "text/plain": [
       "((7000, 9), (3000, 9))"
      ]
     },
     "execution_count": 169,
     "metadata": {},
     "output_type": "execute_result"
    }
   ],
   "source": [
    "#Se inicia el entrenamiento y prueba\n",
    "X_train, X_test, y_train, y_test = train_test_split(X, y, test_size=0.3, random_state=1)\n",
    "X_train.shape, X_test.shape"
   ]
  },
  {
   "cell_type": "markdown",
   "id": "cd1ca380",
   "metadata": {},
   "source": [
    "## MinMaxScaling"
   ]
  },
  {
   "cell_type": "code",
   "execution_count": 170,
   "id": "c5bd9228",
   "metadata": {},
   "outputs": [
    {
     "ename": "ValueError",
     "evalue": "could not convert string to float: 'H31642'",
     "output_type": "error",
     "traceback": [
      "\u001b[1;31m---------------------------------------------------------------------------\u001b[0m",
      "\u001b[1;31mValueError\u001b[0m                                Traceback (most recent call last)",
      "Input \u001b[1;32mIn [170]\u001b[0m, in \u001b[0;36m<cell line: 7>\u001b[1;34m()\u001b[0m\n\u001b[0;32m      4\u001b[0m scaler \u001b[38;5;241m=\u001b[39m MinMaxScaler()\n\u001b[0;32m      6\u001b[0m \u001b[38;5;66;03m# Entrenamos el modelo con los datos de entrenamiento\u001b[39;00m\n\u001b[1;32m----> 7\u001b[0m \u001b[43mscaler\u001b[49m\u001b[38;5;241;43m.\u001b[39;49m\u001b[43mfit\u001b[49m\u001b[43m(\u001b[49m\u001b[43mX_train\u001b[49m\u001b[43m)\u001b[49m\n\u001b[0;32m      9\u001b[0m \u001b[38;5;66;03m# Transformamos los datos de entrenamiento\u001b[39;00m\n\u001b[0;32m     10\u001b[0m X_train_scaled \u001b[38;5;241m=\u001b[39m scaler\u001b[38;5;241m.\u001b[39mtransform(X_train)\n",
      "File \u001b[1;32m~\\anaconda3\\lib\\site-packages\\sklearn\\preprocessing\\_data.py:416\u001b[0m, in \u001b[0;36mMinMaxScaler.fit\u001b[1;34m(self, X, y)\u001b[0m\n\u001b[0;32m    414\u001b[0m \u001b[38;5;66;03m# Reset internal state before fitting\u001b[39;00m\n\u001b[0;32m    415\u001b[0m \u001b[38;5;28mself\u001b[39m\u001b[38;5;241m.\u001b[39m_reset()\n\u001b[1;32m--> 416\u001b[0m \u001b[38;5;28;01mreturn\u001b[39;00m \u001b[38;5;28;43mself\u001b[39;49m\u001b[38;5;241;43m.\u001b[39;49m\u001b[43mpartial_fit\u001b[49m\u001b[43m(\u001b[49m\u001b[43mX\u001b[49m\u001b[43m,\u001b[49m\u001b[43m \u001b[49m\u001b[43my\u001b[49m\u001b[43m)\u001b[49m\n",
      "File \u001b[1;32m~\\anaconda3\\lib\\site-packages\\sklearn\\preprocessing\\_data.py:453\u001b[0m, in \u001b[0;36mMinMaxScaler.partial_fit\u001b[1;34m(self, X, y)\u001b[0m\n\u001b[0;32m    447\u001b[0m     \u001b[38;5;28;01mraise\u001b[39;00m \u001b[38;5;167;01mTypeError\u001b[39;00m(\n\u001b[0;32m    448\u001b[0m         \u001b[38;5;124m\"\u001b[39m\u001b[38;5;124mMinMaxScaler does not support sparse input. \u001b[39m\u001b[38;5;124m\"\u001b[39m\n\u001b[0;32m    449\u001b[0m         \u001b[38;5;124m\"\u001b[39m\u001b[38;5;124mConsider using MaxAbsScaler instead.\u001b[39m\u001b[38;5;124m\"\u001b[39m\n\u001b[0;32m    450\u001b[0m     )\n\u001b[0;32m    452\u001b[0m first_pass \u001b[38;5;241m=\u001b[39m \u001b[38;5;129;01mnot\u001b[39;00m \u001b[38;5;28mhasattr\u001b[39m(\u001b[38;5;28mself\u001b[39m, \u001b[38;5;124m\"\u001b[39m\u001b[38;5;124mn_samples_seen_\u001b[39m\u001b[38;5;124m\"\u001b[39m)\n\u001b[1;32m--> 453\u001b[0m X \u001b[38;5;241m=\u001b[39m \u001b[38;5;28;43mself\u001b[39;49m\u001b[38;5;241;43m.\u001b[39;49m\u001b[43m_validate_data\u001b[49m\u001b[43m(\u001b[49m\n\u001b[0;32m    454\u001b[0m \u001b[43m    \u001b[49m\u001b[43mX\u001b[49m\u001b[43m,\u001b[49m\n\u001b[0;32m    455\u001b[0m \u001b[43m    \u001b[49m\u001b[43mreset\u001b[49m\u001b[38;5;241;43m=\u001b[39;49m\u001b[43mfirst_pass\u001b[49m\u001b[43m,\u001b[49m\n\u001b[0;32m    456\u001b[0m \u001b[43m    \u001b[49m\u001b[43mestimator\u001b[49m\u001b[38;5;241;43m=\u001b[39;49m\u001b[38;5;28;43mself\u001b[39;49m\u001b[43m,\u001b[49m\n\u001b[0;32m    457\u001b[0m \u001b[43m    \u001b[49m\u001b[43mdtype\u001b[49m\u001b[38;5;241;43m=\u001b[39;49m\u001b[43mFLOAT_DTYPES\u001b[49m\u001b[43m,\u001b[49m\n\u001b[0;32m    458\u001b[0m \u001b[43m    \u001b[49m\u001b[43mforce_all_finite\u001b[49m\u001b[38;5;241;43m=\u001b[39;49m\u001b[38;5;124;43m\"\u001b[39;49m\u001b[38;5;124;43mallow-nan\u001b[39;49m\u001b[38;5;124;43m\"\u001b[39;49m\u001b[43m,\u001b[49m\n\u001b[0;32m    459\u001b[0m \u001b[43m\u001b[49m\u001b[43m)\u001b[49m\n\u001b[0;32m    461\u001b[0m data_min \u001b[38;5;241m=\u001b[39m np\u001b[38;5;241m.\u001b[39mnanmin(X, axis\u001b[38;5;241m=\u001b[39m\u001b[38;5;241m0\u001b[39m)\n\u001b[0;32m    462\u001b[0m data_max \u001b[38;5;241m=\u001b[39m np\u001b[38;5;241m.\u001b[39mnanmax(X, axis\u001b[38;5;241m=\u001b[39m\u001b[38;5;241m0\u001b[39m)\n",
      "File \u001b[1;32m~\\anaconda3\\lib\\site-packages\\sklearn\\base.py:566\u001b[0m, in \u001b[0;36mBaseEstimator._validate_data\u001b[1;34m(self, X, y, reset, validate_separately, **check_params)\u001b[0m\n\u001b[0;32m    564\u001b[0m     \u001b[38;5;28;01mraise\u001b[39;00m \u001b[38;5;167;01mValueError\u001b[39;00m(\u001b[38;5;124m\"\u001b[39m\u001b[38;5;124mValidation should be done on X, y or both.\u001b[39m\u001b[38;5;124m\"\u001b[39m)\n\u001b[0;32m    565\u001b[0m \u001b[38;5;28;01melif\u001b[39;00m \u001b[38;5;129;01mnot\u001b[39;00m no_val_X \u001b[38;5;129;01mand\u001b[39;00m no_val_y:\n\u001b[1;32m--> 566\u001b[0m     X \u001b[38;5;241m=\u001b[39m check_array(X, \u001b[38;5;241m*\u001b[39m\u001b[38;5;241m*\u001b[39mcheck_params)\n\u001b[0;32m    567\u001b[0m     out \u001b[38;5;241m=\u001b[39m X\n\u001b[0;32m    568\u001b[0m \u001b[38;5;28;01melif\u001b[39;00m no_val_X \u001b[38;5;129;01mand\u001b[39;00m \u001b[38;5;129;01mnot\u001b[39;00m no_val_y:\n",
      "File \u001b[1;32m~\\anaconda3\\lib\\site-packages\\sklearn\\utils\\validation.py:746\u001b[0m, in \u001b[0;36mcheck_array\u001b[1;34m(array, accept_sparse, accept_large_sparse, dtype, order, copy, force_all_finite, ensure_2d, allow_nd, ensure_min_samples, ensure_min_features, estimator)\u001b[0m\n\u001b[0;32m    744\u001b[0m         array \u001b[38;5;241m=\u001b[39m array\u001b[38;5;241m.\u001b[39mastype(dtype, casting\u001b[38;5;241m=\u001b[39m\u001b[38;5;124m\"\u001b[39m\u001b[38;5;124munsafe\u001b[39m\u001b[38;5;124m\"\u001b[39m, copy\u001b[38;5;241m=\u001b[39m\u001b[38;5;28;01mFalse\u001b[39;00m)\n\u001b[0;32m    745\u001b[0m     \u001b[38;5;28;01melse\u001b[39;00m:\n\u001b[1;32m--> 746\u001b[0m         array \u001b[38;5;241m=\u001b[39m \u001b[43mnp\u001b[49m\u001b[38;5;241;43m.\u001b[39;49m\u001b[43masarray\u001b[49m\u001b[43m(\u001b[49m\u001b[43marray\u001b[49m\u001b[43m,\u001b[49m\u001b[43m \u001b[49m\u001b[43morder\u001b[49m\u001b[38;5;241;43m=\u001b[39;49m\u001b[43morder\u001b[49m\u001b[43m,\u001b[49m\u001b[43m \u001b[49m\u001b[43mdtype\u001b[49m\u001b[38;5;241;43m=\u001b[39;49m\u001b[43mdtype\u001b[49m\u001b[43m)\u001b[49m\n\u001b[0;32m    747\u001b[0m \u001b[38;5;28;01mexcept\u001b[39;00m ComplexWarning \u001b[38;5;28;01mas\u001b[39;00m complex_warning:\n\u001b[0;32m    748\u001b[0m     \u001b[38;5;28;01mraise\u001b[39;00m \u001b[38;5;167;01mValueError\u001b[39;00m(\n\u001b[0;32m    749\u001b[0m         \u001b[38;5;124m\"\u001b[39m\u001b[38;5;124mComplex data not supported\u001b[39m\u001b[38;5;130;01m\\n\u001b[39;00m\u001b[38;5;132;01m{}\u001b[39;00m\u001b[38;5;130;01m\\n\u001b[39;00m\u001b[38;5;124m\"\u001b[39m\u001b[38;5;241m.\u001b[39mformat(array)\n\u001b[0;32m    750\u001b[0m     ) \u001b[38;5;28;01mfrom\u001b[39;00m \u001b[38;5;21;01mcomplex_warning\u001b[39;00m\n",
      "File \u001b[1;32m~\\anaconda3\\lib\\site-packages\\pandas\\core\\generic.py:2064\u001b[0m, in \u001b[0;36mNDFrame.__array__\u001b[1;34m(self, dtype)\u001b[0m\n\u001b[0;32m   2063\u001b[0m \u001b[38;5;28;01mdef\u001b[39;00m \u001b[38;5;21m__array__\u001b[39m(\u001b[38;5;28mself\u001b[39m, dtype: npt\u001b[38;5;241m.\u001b[39mDTypeLike \u001b[38;5;241m|\u001b[39m \u001b[38;5;28;01mNone\u001b[39;00m \u001b[38;5;241m=\u001b[39m \u001b[38;5;28;01mNone\u001b[39;00m) \u001b[38;5;241m-\u001b[39m\u001b[38;5;241m>\u001b[39m np\u001b[38;5;241m.\u001b[39mndarray:\n\u001b[1;32m-> 2064\u001b[0m     \u001b[38;5;28;01mreturn\u001b[39;00m \u001b[43mnp\u001b[49m\u001b[38;5;241;43m.\u001b[39;49m\u001b[43masarray\u001b[49m\u001b[43m(\u001b[49m\u001b[38;5;28;43mself\u001b[39;49m\u001b[38;5;241;43m.\u001b[39;49m\u001b[43m_values\u001b[49m\u001b[43m,\u001b[49m\u001b[43m \u001b[49m\u001b[43mdtype\u001b[49m\u001b[38;5;241;43m=\u001b[39;49m\u001b[43mdtype\u001b[49m\u001b[43m)\u001b[49m\n",
      "\u001b[1;31mValueError\u001b[0m: could not convert string to float: 'H31642'"
     ]
    }
   ],
   "source": [
    "from sklearn.preprocessing import MinMaxScaler\n",
    "\n",
    "# Instanciamos el scalar\n",
    "scaler = MinMaxScaler()\n",
    "\n",
    "# Entrenamos el modelo con los datos de entrenamiento\n",
    "scaler.fit(X_train)\n",
    "\n",
    "# Transformamos los datos de entrenamiento\n",
    "X_train_scaled = scaler.transform(X_train)\n",
    "# Transformamos los datos de prueba\n",
    "X_test_scaled = scaler.transform(X_test)"
   ]
  },
  {
   "cell_type": "markdown",
   "id": "a1eef7dc",
   "metadata": {},
   "source": [
    "# Limpieza del dataset"
   ]
  },
  {
   "cell_type": "code",
   "execution_count": null,
   "id": "8a498575",
   "metadata": {},
   "outputs": [],
   "source": []
  },
  {
   "cell_type": "code",
   "execution_count": 112,
   "id": "7fdc43d9",
   "metadata": {},
   "outputs": [
    {
     "data": {
      "text/plain": [
       "UDI                        10000\n",
       "Product ID                 10000\n",
       "Type                           3\n",
       "Air temperature [K]           93\n",
       "Process temperature [K]       82\n",
       "Rotational speed [rpm]       941\n",
       "Torque [Nm]                  577\n",
       "Tool wear [min]              246\n",
       "Target                         2\n",
       "Failure Type                   6\n",
       "dtype: int64"
      ]
     },
     "execution_count": 112,
     "metadata": {},
     "output_type": "execute_result"
    }
   ],
   "source": [
    "#Aplicación de la función nunique para identificar las variable categoricas\n",
    "df.nunique()"
   ]
  },
  {
   "cell_type": "code",
   "execution_count": 113,
   "id": "9c6e0ccb",
   "metadata": {},
   "outputs": [
    {
     "data": {
      "text/plain": [
       "UDI                        0\n",
       "Product ID                 0\n",
       "Type                       0\n",
       "Air temperature [K]        0\n",
       "Process temperature [K]    0\n",
       "Rotational speed [rpm]     0\n",
       "Torque [Nm]                0\n",
       "Tool wear [min]            0\n",
       "Target                     0\n",
       "Failure Type               0\n",
       "dtype: int64"
      ]
     },
     "execution_count": 113,
     "metadata": {},
     "output_type": "execute_result"
    }
   ],
   "source": [
    "#Verificamos la existencia de datos nulos\n",
    "df.isnull().sum()"
   ]
  },
  {
   "cell_type": "code",
   "execution_count": 114,
   "id": "326307df",
   "metadata": {},
   "outputs": [
    {
     "data": {
      "text/plain": [
       "UDI                        0\n",
       "Product ID                 0\n",
       "Type                       0\n",
       "Air temperature [K]        0\n",
       "Process temperature [K]    0\n",
       "Rotational speed [rpm]     0\n",
       "Torque [Nm]                0\n",
       "Tool wear [min]            0\n",
       "Target                     0\n",
       "Failure Type               0\n",
       "dtype: int64"
      ]
     },
     "execution_count": 114,
     "metadata": {},
     "output_type": "execute_result"
    }
   ],
   "source": [
    "#Verificamos la existencia  de datos vacios (longitud = 0)\n",
    "df.isna().sum()"
   ]
  },
  {
   "cell_type": "markdown",
   "id": "d5d47e07",
   "metadata": {},
   "source": [
    "# Tranformación de datos categóricos a la nueva data"
   ]
  },
  {
   "cell_type": "code",
   "execution_count": 115,
   "id": "a2afcb8d",
   "metadata": {},
   "outputs": [
    {
     "data": {
      "text/plain": [
       "UDI                        10000\n",
       "Product ID                 10000\n",
       "Type                           3\n",
       "Air temperature [K]           93\n",
       "Process temperature [K]       82\n",
       "Rotational speed [rpm]       941\n",
       "Torque [Nm]                  577\n",
       "Tool wear [min]              246\n",
       "Target                         2\n",
       "Failure Type                   6\n",
       "dtype: int64"
      ]
     },
     "execution_count": 115,
     "metadata": {},
     "output_type": "execute_result"
    }
   ],
   "source": [
    "#Identificamos los valores unicos para cada categoria\n",
    "df.nunique()"
   ]
  },
  {
   "cell_type": "code",
   "execution_count": 116,
   "id": "dd206ead",
   "metadata": {
    "scrolled": true
   },
   "outputs": [
    {
     "data": {
      "text/html": [
       "<div>\n",
       "<style scoped>\n",
       "    .dataframe tbody tr th:only-of-type {\n",
       "        vertical-align: middle;\n",
       "    }\n",
       "\n",
       "    .dataframe tbody tr th {\n",
       "        vertical-align: top;\n",
       "    }\n",
       "\n",
       "    .dataframe thead th {\n",
       "        text-align: right;\n",
       "    }\n",
       "</style>\n",
       "<table border=\"1\" class=\"dataframe\">\n",
       "  <thead>\n",
       "    <tr style=\"text-align: right;\">\n",
       "      <th></th>\n",
       "      <th>UDI</th>\n",
       "      <th>Product ID</th>\n",
       "      <th>Type</th>\n",
       "      <th>Air temperature [K]</th>\n",
       "      <th>Process temperature [K]</th>\n",
       "      <th>Rotational speed [rpm]</th>\n",
       "      <th>Torque [Nm]</th>\n",
       "      <th>Tool wear [min]</th>\n",
       "      <th>Target</th>\n",
       "      <th>Failure Type</th>\n",
       "    </tr>\n",
       "  </thead>\n",
       "  <tbody>\n",
       "    <tr>\n",
       "      <th>0</th>\n",
       "      <td>1</td>\n",
       "      <td>M14860</td>\n",
       "      <td>0</td>\n",
       "      <td>298.1</td>\n",
       "      <td>308.6</td>\n",
       "      <td>1551</td>\n",
       "      <td>42.8</td>\n",
       "      <td>0</td>\n",
       "      <td>0</td>\n",
       "      <td>No Failure</td>\n",
       "    </tr>\n",
       "    <tr>\n",
       "      <th>1</th>\n",
       "      <td>2</td>\n",
       "      <td>L47181</td>\n",
       "      <td>1</td>\n",
       "      <td>298.2</td>\n",
       "      <td>308.7</td>\n",
       "      <td>1408</td>\n",
       "      <td>46.3</td>\n",
       "      <td>3</td>\n",
       "      <td>0</td>\n",
       "      <td>No Failure</td>\n",
       "    </tr>\n",
       "    <tr>\n",
       "      <th>2</th>\n",
       "      <td>3</td>\n",
       "      <td>L47182</td>\n",
       "      <td>1</td>\n",
       "      <td>298.1</td>\n",
       "      <td>308.5</td>\n",
       "      <td>1498</td>\n",
       "      <td>49.4</td>\n",
       "      <td>5</td>\n",
       "      <td>0</td>\n",
       "      <td>No Failure</td>\n",
       "    </tr>\n",
       "    <tr>\n",
       "      <th>3</th>\n",
       "      <td>4</td>\n",
       "      <td>L47183</td>\n",
       "      <td>1</td>\n",
       "      <td>298.2</td>\n",
       "      <td>308.6</td>\n",
       "      <td>1433</td>\n",
       "      <td>39.5</td>\n",
       "      <td>7</td>\n",
       "      <td>0</td>\n",
       "      <td>No Failure</td>\n",
       "    </tr>\n",
       "    <tr>\n",
       "      <th>4</th>\n",
       "      <td>5</td>\n",
       "      <td>L47184</td>\n",
       "      <td>1</td>\n",
       "      <td>298.2</td>\n",
       "      <td>308.7</td>\n",
       "      <td>1408</td>\n",
       "      <td>40.0</td>\n",
       "      <td>9</td>\n",
       "      <td>0</td>\n",
       "      <td>No Failure</td>\n",
       "    </tr>\n",
       "  </tbody>\n",
       "</table>\n",
       "</div>"
      ],
      "text/plain": [
       "   UDI Product ID  Type  Air temperature [K]  Process temperature [K]  \\\n",
       "0    1     M14860     0                298.1                    308.6   \n",
       "1    2     L47181     1                298.2                    308.7   \n",
       "2    3     L47182     1                298.1                    308.5   \n",
       "3    4     L47183     1                298.2                    308.6   \n",
       "4    5     L47184     1                298.2                    308.7   \n",
       "\n",
       "   Rotational speed [rpm]  Torque [Nm]  Tool wear [min]  Target Failure Type  \n",
       "0                    1551         42.8                0       0   No Failure  \n",
       "1                    1408         46.3                3       0   No Failure  \n",
       "2                    1498         49.4                5       0   No Failure  \n",
       "3                    1433         39.5                7       0   No Failure  \n",
       "4                    1408         40.0                9       0   No Failure  "
      ]
     },
     "execution_count": 116,
     "metadata": {},
     "output_type": "execute_result"
    }
   ],
   "source": [
    "df.replace({'M': 0, 'L': 1, 'H':2}, inplace=True)\n",
    "#Sobreescribe los datos en la misma columan\n",
    "df['Type'] = df['Type'].map({1: 1, 0: 0,2:2})#Sobreescribe los datos en la misma columan\n",
    "df.head()#Mostramos los primero 5 datos"
   ]
  },
  {
   "cell_type": "code",
   "execution_count": 117,
   "id": "1e884960",
   "metadata": {},
   "outputs": [],
   "source": [
    "X = df[['UDI', 'Type', 'Air temperature [K]', 'Process temperature [K]', 'Rotational speed [rpm]', 'Torque [Nm]', 'Tool wear [min]']]\n",
    "Y = df['Target']"
   ]
  },
  {
   "cell_type": "code",
   "execution_count": 118,
   "id": "090b6e2f",
   "metadata": {
    "scrolled": true
   },
   "outputs": [
    {
     "data": {
      "text/plain": [
       "((7000, 7), (3000, 7))"
      ]
     },
     "execution_count": 118,
     "metadata": {},
     "output_type": "execute_result"
    }
   ],
   "source": [
    "# let's separate the data into training and testing set\n",
    "X_train, X_test, y_train, y_test = train_test_split(X,\n",
    "                                                    Y,\n",
    "                                                    test_size=0.3,\n",
    "                                                    random_state=0)#Se separa el DataFrame en una parte para entrenar y otra para testear\n",
    "\n",
    "X_train.shape, X_test.shape"
   ]
  },
  {
   "cell_type": "code",
   "execution_count": 119,
   "id": "b0890bb7",
   "metadata": {},
   "outputs": [],
   "source": [
    "# the scaler - for min-max scaling\n",
    "from sklearn.preprocessing import MinMaxScaler\n",
    "# set up the scaler\n",
    "scaler = MinMaxScaler()\n",
    "\n",
    "# fit the scaler to the train set, it will learn the parameters\n",
    "scaler.fit(X_train)\n",
    "\n",
    "# transform train and test sets\n",
    "X_train_scaled = scaler.transform(X_train)#     Se aplica el escalado a los datos de entrenamiento\n",
    "X_test_scaled = scaler.transform(X_test)# Se aplica el escalado a los datos de entrenamiento y prueba"
   ]
  },
  {
   "cell_type": "code",
   "execution_count": 158,
   "id": "170bafa6",
   "metadata": {},
   "outputs": [],
   "source": [
    "X_train_scaled = pd.DataFrame(X_train_scaled, columns=X_train.columns)# Se crea un DataFrame con los datos de entrenamiento escalados \n",
    "X_test_scaled = pd.DataFrame(X_test_scaled, columns=X_test.columns)# Se crea un DataFrame con los datos de prueba escalados"
   ]
  },
  {
   "cell_type": "code",
   "execution_count": 159,
   "id": "bf5ba90a",
   "metadata": {
    "scrolled": true
   },
   "outputs": [
    {
     "data": {
      "text/html": [
       "<div>\n",
       "<style scoped>\n",
       "    .dataframe tbody tr th:only-of-type {\n",
       "        vertical-align: middle;\n",
       "    }\n",
       "\n",
       "    .dataframe tbody tr th {\n",
       "        vertical-align: top;\n",
       "    }\n",
       "\n",
       "    .dataframe thead th {\n",
       "        text-align: right;\n",
       "    }\n",
       "</style>\n",
       "<table border=\"1\" class=\"dataframe\">\n",
       "  <thead>\n",
       "    <tr style=\"text-align: right;\">\n",
       "      <th></th>\n",
       "      <th>UDI</th>\n",
       "      <th>Type</th>\n",
       "      <th>Air temperature [K]</th>\n",
       "      <th>Process temperature [K]</th>\n",
       "      <th>Rotational speed [rpm]</th>\n",
       "      <th>Torque [Nm]</th>\n",
       "      <th>Tool wear [min]</th>\n",
       "    </tr>\n",
       "  </thead>\n",
       "  <tbody>\n",
       "    <tr>\n",
       "      <th>count</th>\n",
       "      <td>7000.0</td>\n",
       "      <td>7000.0</td>\n",
       "      <td>7000.0</td>\n",
       "      <td>7000.0</td>\n",
       "      <td>7000.0</td>\n",
       "      <td>7000.0</td>\n",
       "      <td>7000.0</td>\n",
       "    </tr>\n",
       "    <tr>\n",
       "      <th>mean</th>\n",
       "      <td>5009.4</td>\n",
       "      <td>0.8</td>\n",
       "      <td>300.0</td>\n",
       "      <td>310.0</td>\n",
       "      <td>1538.9</td>\n",
       "      <td>40.0</td>\n",
       "      <td>107.6</td>\n",
       "    </tr>\n",
       "    <tr>\n",
       "      <th>std</th>\n",
       "      <td>2894.5</td>\n",
       "      <td>0.6</td>\n",
       "      <td>2.0</td>\n",
       "      <td>1.5</td>\n",
       "      <td>179.1</td>\n",
       "      <td>9.9</td>\n",
       "      <td>63.8</td>\n",
       "    </tr>\n",
       "    <tr>\n",
       "      <th>min</th>\n",
       "      <td>1.0</td>\n",
       "      <td>0.0</td>\n",
       "      <td>295.3</td>\n",
       "      <td>305.7</td>\n",
       "      <td>1181.0</td>\n",
       "      <td>3.8</td>\n",
       "      <td>0.0</td>\n",
       "    </tr>\n",
       "    <tr>\n",
       "      <th>25%</th>\n",
       "      <td>2514.8</td>\n",
       "      <td>0.0</td>\n",
       "      <td>298.3</td>\n",
       "      <td>308.8</td>\n",
       "      <td>1423.0</td>\n",
       "      <td>33.1</td>\n",
       "      <td>52.0</td>\n",
       "    </tr>\n",
       "    <tr>\n",
       "      <th>50%</th>\n",
       "      <td>5002.5</td>\n",
       "      <td>1.0</td>\n",
       "      <td>300.1</td>\n",
       "      <td>310.1</td>\n",
       "      <td>1504.0</td>\n",
       "      <td>40.1</td>\n",
       "      <td>107.0</td>\n",
       "    </tr>\n",
       "    <tr>\n",
       "      <th>75%</th>\n",
       "      <td>7522.2</td>\n",
       "      <td>1.0</td>\n",
       "      <td>301.5</td>\n",
       "      <td>311.0</td>\n",
       "      <td>1614.0</td>\n",
       "      <td>46.7</td>\n",
       "      <td>162.0</td>\n",
       "    </tr>\n",
       "    <tr>\n",
       "      <th>max</th>\n",
       "      <td>10000.0</td>\n",
       "      <td>2.0</td>\n",
       "      <td>304.5</td>\n",
       "      <td>313.8</td>\n",
       "      <td>2886.0</td>\n",
       "      <td>76.6</td>\n",
       "      <td>253.0</td>\n",
       "    </tr>\n",
       "  </tbody>\n",
       "</table>\n",
       "</div>"
      ],
      "text/plain": [
       "           UDI    Type  Air temperature [K]  Process temperature [K]  \\\n",
       "count   7000.0  7000.0               7000.0                   7000.0   \n",
       "mean    5009.4     0.8                300.0                    310.0   \n",
       "std     2894.5     0.6                  2.0                      1.5   \n",
       "min        1.0     0.0                295.3                    305.7   \n",
       "25%     2514.8     0.0                298.3                    308.8   \n",
       "50%     5002.5     1.0                300.1                    310.1   \n",
       "75%     7522.2     1.0                301.5                    311.0   \n",
       "max    10000.0     2.0                304.5                    313.8   \n",
       "\n",
       "       Rotational speed [rpm]  Torque [Nm]  Tool wear [min]  \n",
       "count                  7000.0       7000.0           7000.0  \n",
       "mean                   1538.9         40.0            107.6  \n",
       "std                     179.1          9.9             63.8  \n",
       "min                    1181.0          3.8              0.0  \n",
       "25%                    1423.0         33.1             52.0  \n",
       "50%                    1504.0         40.1            107.0  \n",
       "75%                    1614.0         46.7            162.0  \n",
       "max                    2886.0         76.6            253.0  "
      ]
     },
     "execution_count": 159,
     "metadata": {},
     "output_type": "execute_result"
    }
   ],
   "source": [
    "np.round(X_train.describe(), 1)"
   ]
  },
  {
   "cell_type": "code",
   "execution_count": 160,
   "id": "be4eddd8",
   "metadata": {
    "scrolled": true
   },
   "outputs": [
    {
     "data": {
      "text/html": [
       "<div>\n",
       "<style scoped>\n",
       "    .dataframe tbody tr th:only-of-type {\n",
       "        vertical-align: middle;\n",
       "    }\n",
       "\n",
       "    .dataframe tbody tr th {\n",
       "        vertical-align: top;\n",
       "    }\n",
       "\n",
       "    .dataframe thead th {\n",
       "        text-align: right;\n",
       "    }\n",
       "</style>\n",
       "<table border=\"1\" class=\"dataframe\">\n",
       "  <thead>\n",
       "    <tr style=\"text-align: right;\">\n",
       "      <th></th>\n",
       "      <th>UDI</th>\n",
       "      <th>Type</th>\n",
       "      <th>Air temperature [K]</th>\n",
       "      <th>Process temperature [K]</th>\n",
       "      <th>Rotational speed [rpm]</th>\n",
       "      <th>Torque [Nm]</th>\n",
       "      <th>Tool wear [min]</th>\n",
       "    </tr>\n",
       "  </thead>\n",
       "  <tbody>\n",
       "    <tr>\n",
       "      <th>count</th>\n",
       "      <td>7000.0</td>\n",
       "      <td>7000.0</td>\n",
       "      <td>7000.0</td>\n",
       "      <td>7000.0</td>\n",
       "      <td>7000.0</td>\n",
       "      <td>7000.0</td>\n",
       "      <td>7000.0</td>\n",
       "    </tr>\n",
       "    <tr>\n",
       "      <th>mean</th>\n",
       "      <td>0.5</td>\n",
       "      <td>0.4</td>\n",
       "      <td>0.5</td>\n",
       "      <td>0.5</td>\n",
       "      <td>0.2</td>\n",
       "      <td>0.5</td>\n",
       "      <td>0.4</td>\n",
       "    </tr>\n",
       "    <tr>\n",
       "      <th>std</th>\n",
       "      <td>0.3</td>\n",
       "      <td>0.3</td>\n",
       "      <td>0.2</td>\n",
       "      <td>0.2</td>\n",
       "      <td>0.1</td>\n",
       "      <td>0.1</td>\n",
       "      <td>0.3</td>\n",
       "    </tr>\n",
       "    <tr>\n",
       "      <th>min</th>\n",
       "      <td>0.0</td>\n",
       "      <td>0.0</td>\n",
       "      <td>0.0</td>\n",
       "      <td>0.0</td>\n",
       "      <td>0.0</td>\n",
       "      <td>0.0</td>\n",
       "      <td>0.0</td>\n",
       "    </tr>\n",
       "    <tr>\n",
       "      <th>25%</th>\n",
       "      <td>0.2</td>\n",
       "      <td>0.0</td>\n",
       "      <td>0.3</td>\n",
       "      <td>0.4</td>\n",
       "      <td>0.1</td>\n",
       "      <td>0.4</td>\n",
       "      <td>0.2</td>\n",
       "    </tr>\n",
       "    <tr>\n",
       "      <th>50%</th>\n",
       "      <td>0.5</td>\n",
       "      <td>0.5</td>\n",
       "      <td>0.5</td>\n",
       "      <td>0.5</td>\n",
       "      <td>0.2</td>\n",
       "      <td>0.5</td>\n",
       "      <td>0.4</td>\n",
       "    </tr>\n",
       "    <tr>\n",
       "      <th>75%</th>\n",
       "      <td>0.8</td>\n",
       "      <td>0.5</td>\n",
       "      <td>0.7</td>\n",
       "      <td>0.7</td>\n",
       "      <td>0.3</td>\n",
       "      <td>0.6</td>\n",
       "      <td>0.6</td>\n",
       "    </tr>\n",
       "    <tr>\n",
       "      <th>max</th>\n",
       "      <td>1.0</td>\n",
       "      <td>1.0</td>\n",
       "      <td>1.0</td>\n",
       "      <td>1.0</td>\n",
       "      <td>1.0</td>\n",
       "      <td>1.0</td>\n",
       "      <td>1.0</td>\n",
       "    </tr>\n",
       "  </tbody>\n",
       "</table>\n",
       "</div>"
      ],
      "text/plain": [
       "          UDI    Type  Air temperature [K]  Process temperature [K]  \\\n",
       "count  7000.0  7000.0               7000.0                   7000.0   \n",
       "mean      0.5     0.4                  0.5                      0.5   \n",
       "std       0.3     0.3                  0.2                      0.2   \n",
       "min       0.0     0.0                  0.0                      0.0   \n",
       "25%       0.2     0.0                  0.3                      0.4   \n",
       "50%       0.5     0.5                  0.5                      0.5   \n",
       "75%       0.8     0.5                  0.7                      0.7   \n",
       "max       1.0     1.0                  1.0                      1.0   \n",
       "\n",
       "       Rotational speed [rpm]  Torque [Nm]  Tool wear [min]  \n",
       "count                  7000.0       7000.0           7000.0  \n",
       "mean                      0.2          0.5              0.4  \n",
       "std                       0.1          0.1              0.3  \n",
       "min                       0.0          0.0              0.0  \n",
       "25%                       0.1          0.4              0.2  \n",
       "50%                       0.2          0.5              0.4  \n",
       "75%                       0.3          0.6              0.6  \n",
       "max                       1.0          1.0              1.0  "
      ]
     },
     "execution_count": 160,
     "metadata": {},
     "output_type": "execute_result"
    }
   ],
   "source": [
    "np.round(X_train_scaled.describe(), 1)# Muestra la descripción de los datos escalados"
   ]
  },
  {
   "cell_type": "code",
   "execution_count": 161,
   "id": "5c83732c",
   "metadata": {
    "scrolled": false
   },
   "outputs": [
    {
     "data": {
      "image/png": "[encoded data removed]",
      "text/plain": [
       "<Figure size 864x360 with 2 Axes>"
      ]
     },
     "metadata": {
      "needs_background": "light"
     },
     "output_type": "display_data"
    }
   ],
   "source": [
    "fig, (ax1, ax2) = plt.subplots(ncols=2, figsize=(12, 5))# Se crea una figura con dos gráficas en una misma página \n",
    "\n",
    "\n",
    "ax1.set_title('Before Scaling')\n",
    "sns.kdeplot(X_train['Type'], ax=ax1)\n",
    "sns.kdeplot(X_train['Air temperature [K]'], ax=ax1)\n",
    "sns.kdeplot(X_train['Process temperature [K]'], ax=ax1)\n",
    "sns.kdeplot(X_train_scaled['Rotational speed [rpm]'], ax=ax2)\n",
    "\n",
    "ax2.set_title('After Min-Max Scaling')\n",
    "sns.kdeplot(X_train_scaled['Type'], ax=ax2)\n",
    "sns.kdeplot(X_train_scaled['Air temperature [K]'], ax=ax2)\n",
    "sns.kdeplot(X_train_scaled['Process temperature [K]'], ax=ax2)\n",
    "sns.kdeplot(X_train_scaled['Rotational speed [rpm]'], ax=ax2)\n",
    "plt.show()"
   ]
  },
  {
   "cell_type": "markdown",
   "id": "f6aba9f4",
   "metadata": {},
   "source": [
    "**Aplicación de algoritmo PCA**"
   ]
  },
  {
   "cell_type": "code",
   "execution_count": 162,
   "id": "2fa79a7a",
   "metadata": {},
   "outputs": [
    {
     "ename": "TypeError",
     "evalue": "'DataFrame' object is not callable",
     "output_type": "error",
     "traceback": [
      "\u001b[1;31m---------------------------------------------------------------------------\u001b[0m",
      "\u001b[1;31mTypeError\u001b[0m                                 Traceback (most recent call last)",
      "Input \u001b[1;32mIn [162]\u001b[0m, in \u001b[0;36m<cell line: 9>\u001b[1;34m()\u001b[0m\n\u001b[0;32m      6\u001b[0m std_X_train \u001b[38;5;241m=\u001b[39m std\u001b[38;5;241m.\u001b[39mfit_transform(X_train)\n\u001b[0;32m      8\u001b[0m y \u001b[38;5;241m=\u001b[39m df[\u001b[38;5;124m\"\u001b[39m\u001b[38;5;124mTarget\u001b[39m\u001b[38;5;124m\"\u001b[39m]\n\u001b[1;32m----> 9\u001b[0m X \u001b[38;5;241m=\u001b[39m \u001b[43mdf\u001b[49m\u001b[43m(\u001b[49m\u001b[38;5;124;43m\"\u001b[39;49m\u001b[38;5;124;43mTarget\u001b[39;49m\u001b[38;5;124;43m\"\u001b[39;49m\u001b[43m,\u001b[49m\u001b[43m \u001b[49m\u001b[43maxis\u001b[49m\u001b[38;5;241;43m=\u001b[39;49m\u001b[38;5;241;43m1\u001b[39;49m\u001b[43m)\u001b[49m\n\u001b[0;32m     11\u001b[0m X_train, X_test, y_train, y_test \u001b[38;5;241m=\u001b[39m train_test_split(X, y, test_size\u001b[38;5;241m=\u001b[39m\u001b[38;5;241m0.3\u001b[39m)\n",
      "\u001b[1;31mTypeError\u001b[0m: 'DataFrame' object is not callable"
     ]
    }
   ],
   "source": [
    "# Importamos la libreria PCA de sklearn\n",
    "from sklearn.decomposition import PCA\n",
    "\n",
    "std = StandardScaler()\n",
    "# Normalizamos los datos de entrenamiento\n",
    "std_X_train = std.fit_transform(X_train)\n",
    "\n",
    "y = df[\"Target\"]\n",
    "X = df(\"Target\", axis=1)\n",
    "\n",
    "X_train, X_test, y_train, y_test = train_test_split(X, y, test_size=0.3)"
   ]
  },
  {
   "cell_type": "markdown",
   "id": "6cd89c64",
   "metadata": {},
   "source": [
    "# Preprocesamiento de los datos"
   ]
  },
  {
   "cell_type": "code",
   "execution_count": 100,
   "id": "0d44a716",
   "metadata": {},
   "outputs": [],
   "source": [
    "X = df[['UDI', 'Type', 'Air temperature [K]', 'Process temperature [K]', 'Rotational speed [rpm]', 'Torque [Nm]', 'Tool wear [min]']]\n",
    "Y = df['Target']"
   ]
  },
  {
   "cell_type": "markdown",
   "id": "dcca1959",
   "metadata": {},
   "source": [
    "# Estandarización de la data"
   ]
  },
  {
   "cell_type": "markdown",
   "id": "2f97d5dd",
   "metadata": {},
   "source": [
    "Aplicación del método Min_Max Scaling "
   ]
  },
  {
   "cell_type": "markdown",
   "id": "0f70f07c",
   "metadata": {},
   "source": [
    "## División del dataset en datos de entrenamiento y datos de test "
   ]
  },
  {
   "cell_type": "code",
   "execution_count": 124,
   "id": "34218c23",
   "metadata": {},
   "outputs": [
    {
     "data": {
      "text/plain": [
       "((7000, 7), (3000, 7))"
      ]
     },
     "execution_count": 124,
     "metadata": {},
     "output_type": "execute_result"
    }
   ],
   "source": [
    "#Código que realice la división en entrenamiento y test, de acuerdo con la estretgia de evaluación planeada. Describa cuál es.\n",
    "X_train, X_test, y_train, y_test = train_test_split(X, Y, test_size=0.3, random_state=0)\n",
    "\n",
    "#Visualizacion de los datos obtenidos\n",
    "X_train.shape, X_test.shape\n",
    "\n"
   ]
  },
  {
   "cell_type": "code",
   "execution_count": 125,
   "id": "aefced03",
   "metadata": {},
   "outputs": [],
   "source": [
    "X_train, X_test, y_train, y_test = train_test_split(X, Y, test_size=0.3, random_state=1)# Se separa el DataFrame en una parte para entrenar y otra para"
   ]
  },
  {
   "cell_type": "code",
   "execution_count": 127,
   "id": "d1e00f1f",
   "metadata": {},
   "outputs": [
    {
     "data": {
      "text/plain": [
       "array([9.999e+03, 2.000e+00, 3.045e+02, 3.138e+02, 2.886e+03, 7.660e+01,\n",
       "       2.530e+02])"
      ]
     },
     "execution_count": 127,
     "metadata": {},
     "output_type": "execute_result"
    }
   ],
   "source": [
    "# the scaler stores the maximum values of the features, learned from train set\n",
    "scaler.data_max_"
   ]
  },
  {
   "cell_type": "code",
   "execution_count": 128,
   "id": "cc07616e",
   "metadata": {},
   "outputs": [
    {
     "data": {
      "text/plain": [
       "array([-1.00020004e-04,  0.00000000e+00, -3.20978261e+01, -3.77407407e+01,\n",
       "       -6.92668622e-01, -5.21978022e-02,  0.00000000e+00])"
      ]
     },
     "execution_count": 128,
     "metadata": {},
     "output_type": "execute_result"
    }
   ],
   "source": [
    "# tthe scaler stores the minimum values of the features, learned from train set\n",
    "scaler.min_"
   ]
  },
  {
   "cell_type": "code",
   "execution_count": 129,
   "id": "7b03ccae",
   "metadata": {},
   "outputs": [
    {
     "data": {
      "text/plain": [
       "array([9.998e+03, 2.000e+00, 9.200e+00, 8.100e+00, 1.705e+03, 7.280e+01,\n",
       "       2.530e+02])"
      ]
     },
     "execution_count": 129,
     "metadata": {},
     "output_type": "execute_result"
    }
   ],
   "source": [
    "# the scaler also stores the value range (max -  min)\n",
    "\n",
    "scaler.data_range_"
   ]
  },
  {
   "cell_type": "code",
   "execution_count": 130,
   "id": "651500a4",
   "metadata": {},
   "outputs": [],
   "source": [
    "# let's transform the returned NumPy arrays to dataframes for the rest of\n",
    "# the demo\n",
    "\n",
    "X_train_scaled = pd.DataFrame(X_train_scaled, columns=X_train.columns)\n",
    "X_test_scaled = pd.DataFrame(X_test_scaled, columns=X_test.columns)"
   ]
  },
  {
   "cell_type": "code",
   "execution_count": 131,
   "id": "e984c7d9",
   "metadata": {},
   "outputs": [
    {
     "data": {
      "text/html": [
       "<div>\n",
       "<style scoped>\n",
       "    .dataframe tbody tr th:only-of-type {\n",
       "        vertical-align: middle;\n",
       "    }\n",
       "\n",
       "    .dataframe tbody tr th {\n",
       "        vertical-align: top;\n",
       "    }\n",
       "\n",
       "    .dataframe thead th {\n",
       "        text-align: right;\n",
       "    }\n",
       "</style>\n",
       "<table border=\"1\" class=\"dataframe\">\n",
       "  <thead>\n",
       "    <tr style=\"text-align: right;\">\n",
       "      <th></th>\n",
       "      <th>UDI</th>\n",
       "      <th>Type</th>\n",
       "      <th>Air temperature [K]</th>\n",
       "      <th>Process temperature [K]</th>\n",
       "      <th>Rotational speed [rpm]</th>\n",
       "      <th>Torque [Nm]</th>\n",
       "      <th>Tool wear [min]</th>\n",
       "    </tr>\n",
       "  </thead>\n",
       "  <tbody>\n",
       "    <tr>\n",
       "      <th>count</th>\n",
       "      <td>7000.0</td>\n",
       "      <td>7000.0</td>\n",
       "      <td>7000.0</td>\n",
       "      <td>7000.0</td>\n",
       "      <td>7000.0</td>\n",
       "      <td>7000.0</td>\n",
       "      <td>7000.0</td>\n",
       "    </tr>\n",
       "    <tr>\n",
       "      <th>mean</th>\n",
       "      <td>5009.4</td>\n",
       "      <td>0.8</td>\n",
       "      <td>300.0</td>\n",
       "      <td>310.0</td>\n",
       "      <td>1538.9</td>\n",
       "      <td>40.0</td>\n",
       "      <td>107.6</td>\n",
       "    </tr>\n",
       "    <tr>\n",
       "      <th>std</th>\n",
       "      <td>2894.5</td>\n",
       "      <td>0.6</td>\n",
       "      <td>2.0</td>\n",
       "      <td>1.5</td>\n",
       "      <td>179.1</td>\n",
       "      <td>9.9</td>\n",
       "      <td>63.8</td>\n",
       "    </tr>\n",
       "    <tr>\n",
       "      <th>min</th>\n",
       "      <td>1.0</td>\n",
       "      <td>0.0</td>\n",
       "      <td>295.3</td>\n",
       "      <td>305.7</td>\n",
       "      <td>1181.0</td>\n",
       "      <td>3.8</td>\n",
       "      <td>0.0</td>\n",
       "    </tr>\n",
       "    <tr>\n",
       "      <th>25%</th>\n",
       "      <td>2514.8</td>\n",
       "      <td>0.0</td>\n",
       "      <td>298.3</td>\n",
       "      <td>308.8</td>\n",
       "      <td>1423.0</td>\n",
       "      <td>33.1</td>\n",
       "      <td>52.0</td>\n",
       "    </tr>\n",
       "    <tr>\n",
       "      <th>50%</th>\n",
       "      <td>5002.5</td>\n",
       "      <td>1.0</td>\n",
       "      <td>300.1</td>\n",
       "      <td>310.1</td>\n",
       "      <td>1504.0</td>\n",
       "      <td>40.1</td>\n",
       "      <td>107.0</td>\n",
       "    </tr>\n",
       "    <tr>\n",
       "      <th>75%</th>\n",
       "      <td>7522.2</td>\n",
       "      <td>1.0</td>\n",
       "      <td>301.5</td>\n",
       "      <td>311.0</td>\n",
       "      <td>1614.0</td>\n",
       "      <td>46.7</td>\n",
       "      <td>162.0</td>\n",
       "    </tr>\n",
       "    <tr>\n",
       "      <th>max</th>\n",
       "      <td>10000.0</td>\n",
       "      <td>2.0</td>\n",
       "      <td>304.5</td>\n",
       "      <td>313.8</td>\n",
       "      <td>2886.0</td>\n",
       "      <td>76.6</td>\n",
       "      <td>253.0</td>\n",
       "    </tr>\n",
       "  </tbody>\n",
       "</table>\n",
       "</div>"
      ],
      "text/plain": [
       "           UDI    Type  Air temperature [K]  Process temperature [K]  \\\n",
       "count   7000.0  7000.0               7000.0                   7000.0   \n",
       "mean    5009.4     0.8                300.0                    310.0   \n",
       "std     2894.5     0.6                  2.0                      1.5   \n",
       "min        1.0     0.0                295.3                    305.7   \n",
       "25%     2514.8     0.0                298.3                    308.8   \n",
       "50%     5002.5     1.0                300.1                    310.1   \n",
       "75%     7522.2     1.0                301.5                    311.0   \n",
       "max    10000.0     2.0                304.5                    313.8   \n",
       "\n",
       "       Rotational speed [rpm]  Torque [Nm]  Tool wear [min]  \n",
       "count                  7000.0       7000.0           7000.0  \n",
       "mean                   1538.9         40.0            107.6  \n",
       "std                     179.1          9.9             63.8  \n",
       "min                    1181.0          3.8              0.0  \n",
       "25%                    1423.0         33.1             52.0  \n",
       "50%                    1504.0         40.1            107.0  \n",
       "75%                    1614.0         46.7            162.0  \n",
       "max                    2886.0         76.6            253.0  "
      ]
     },
     "execution_count": 131,
     "metadata": {},
     "output_type": "execute_result"
    }
   ],
   "source": [
    "# let's have a look at the original training dataset: min and max values\n",
    "# I use np.round to reduce the number of decimals to 1.\n",
    "\n",
    "np.round(X_train.describe(), 1)"
   ]
  },
  {
   "cell_type": "code",
   "execution_count": 132,
   "id": "5f16e667",
   "metadata": {},
   "outputs": [
    {
     "data": {
      "text/html": [
       "<div>\n",
       "<style scoped>\n",
       "    .dataframe tbody tr th:only-of-type {\n",
       "        vertical-align: middle;\n",
       "    }\n",
       "\n",
       "    .dataframe tbody tr th {\n",
       "        vertical-align: top;\n",
       "    }\n",
       "\n",
       "    .dataframe thead th {\n",
       "        text-align: right;\n",
       "    }\n",
       "</style>\n",
       "<table border=\"1\" class=\"dataframe\">\n",
       "  <thead>\n",
       "    <tr style=\"text-align: right;\">\n",
       "      <th></th>\n",
       "      <th>UDI</th>\n",
       "      <th>Type</th>\n",
       "      <th>Air temperature [K]</th>\n",
       "      <th>Process temperature [K]</th>\n",
       "      <th>Rotational speed [rpm]</th>\n",
       "      <th>Torque [Nm]</th>\n",
       "      <th>Tool wear [min]</th>\n",
       "    </tr>\n",
       "  </thead>\n",
       "  <tbody>\n",
       "    <tr>\n",
       "      <th>count</th>\n",
       "      <td>7000.0</td>\n",
       "      <td>7000.0</td>\n",
       "      <td>7000.0</td>\n",
       "      <td>7000.0</td>\n",
       "      <td>7000.0</td>\n",
       "      <td>7000.0</td>\n",
       "      <td>7000.0</td>\n",
       "    </tr>\n",
       "    <tr>\n",
       "      <th>mean</th>\n",
       "      <td>0.5</td>\n",
       "      <td>0.4</td>\n",
       "      <td>0.5</td>\n",
       "      <td>0.5</td>\n",
       "      <td>0.2</td>\n",
       "      <td>0.5</td>\n",
       "      <td>0.4</td>\n",
       "    </tr>\n",
       "    <tr>\n",
       "      <th>std</th>\n",
       "      <td>0.3</td>\n",
       "      <td>0.3</td>\n",
       "      <td>0.2</td>\n",
       "      <td>0.2</td>\n",
       "      <td>0.1</td>\n",
       "      <td>0.1</td>\n",
       "      <td>0.3</td>\n",
       "    </tr>\n",
       "    <tr>\n",
       "      <th>min</th>\n",
       "      <td>0.0</td>\n",
       "      <td>0.0</td>\n",
       "      <td>0.0</td>\n",
       "      <td>0.0</td>\n",
       "      <td>0.0</td>\n",
       "      <td>0.0</td>\n",
       "      <td>0.0</td>\n",
       "    </tr>\n",
       "    <tr>\n",
       "      <th>25%</th>\n",
       "      <td>0.2</td>\n",
       "      <td>0.0</td>\n",
       "      <td>0.3</td>\n",
       "      <td>0.4</td>\n",
       "      <td>0.1</td>\n",
       "      <td>0.4</td>\n",
       "      <td>0.2</td>\n",
       "    </tr>\n",
       "    <tr>\n",
       "      <th>50%</th>\n",
       "      <td>0.5</td>\n",
       "      <td>0.5</td>\n",
       "      <td>0.5</td>\n",
       "      <td>0.5</td>\n",
       "      <td>0.2</td>\n",
       "      <td>0.5</td>\n",
       "      <td>0.4</td>\n",
       "    </tr>\n",
       "    <tr>\n",
       "      <th>75%</th>\n",
       "      <td>0.8</td>\n",
       "      <td>0.5</td>\n",
       "      <td>0.7</td>\n",
       "      <td>0.7</td>\n",
       "      <td>0.3</td>\n",
       "      <td>0.6</td>\n",
       "      <td>0.6</td>\n",
       "    </tr>\n",
       "    <tr>\n",
       "      <th>max</th>\n",
       "      <td>1.0</td>\n",
       "      <td>1.0</td>\n",
       "      <td>1.0</td>\n",
       "      <td>1.0</td>\n",
       "      <td>1.0</td>\n",
       "      <td>1.0</td>\n",
       "      <td>1.0</td>\n",
       "    </tr>\n",
       "  </tbody>\n",
       "</table>\n",
       "</div>"
      ],
      "text/plain": [
       "          UDI    Type  Air temperature [K]  Process temperature [K]  \\\n",
       "count  7000.0  7000.0               7000.0                   7000.0   \n",
       "mean      0.5     0.4                  0.5                      0.5   \n",
       "std       0.3     0.3                  0.2                      0.2   \n",
       "min       0.0     0.0                  0.0                      0.0   \n",
       "25%       0.2     0.0                  0.3                      0.4   \n",
       "50%       0.5     0.5                  0.5                      0.5   \n",
       "75%       0.8     0.5                  0.7                      0.7   \n",
       "max       1.0     1.0                  1.0                      1.0   \n",
       "\n",
       "       Rotational speed [rpm]  Torque [Nm]  Tool wear [min]  \n",
       "count                  7000.0       7000.0           7000.0  \n",
       "mean                      0.2          0.5              0.4  \n",
       "std                       0.1          0.1              0.3  \n",
       "min                       0.0          0.0              0.0  \n",
       "25%                       0.1          0.4              0.2  \n",
       "50%                       0.2          0.5              0.4  \n",
       "75%                       0.3          0.6              0.6  \n",
       "max                       1.0          1.0              1.0  "
      ]
     },
     "execution_count": 132,
     "metadata": {},
     "output_type": "execute_result"
    }
   ],
   "source": [
    "# let's have a look at the scaled training dataset: min and max values\n",
    "# I use np.round to reduce the number of decimals to 1.\n",
    "\n",
    "np.round(X_train_scaled.describe(), 1)"
   ]
  },
  {
   "cell_type": "code",
   "execution_count": 133,
   "id": "d590c07d",
   "metadata": {},
   "outputs": [
    {
     "data": {
      "image/png": "[encoded data removed]",
      "text/plain": [
       "<Figure size 864x360 with 2 Axes>"
      ]
     },
     "metadata": {
      "needs_background": "light"
     },
     "output_type": "display_data"
    }
   ],
   "source": [
    "fig, (ax1, ax2) = plt.subplots(ncols=2, figsize=(12, 5))# Se crea una figura con dos gráficas en una misma página \n",
    "\n",
    "\n",
    "ax1.set_title('Before Scaling')\n",
    "sns.kdeplot(X_train['Type'], ax=ax1)\n",
    "sns.kdeplot(X_train['Air temperature [K]'], ax=ax1)\n",
    "sns.kdeplot(X_train['Process temperature [K]'], ax=ax1)\n",
    "sns.kdeplot(X_train_scaled['Rotational speed [rpm]'], ax=ax2)\n",
    "\n",
    "ax2.set_title('After Min-Max Scaling')\n",
    "sns.kdeplot(X_train_scaled['Type'], ax=ax2)\n",
    "sns.kdeplot(X_train_scaled['Air temperature [K]'], ax=ax2)\n",
    "sns.kdeplot(X_train_scaled['Process temperature [K]'], ax=ax2)\n",
    "sns.kdeplot(X_train_scaled['Rotational speed [rpm]'], ax=ax2)\n",
    "plt.show()"
   ]
  },
  {
   "cell_type": "code",
   "execution_count": 134,
   "id": "61b10f76",
   "metadata": {},
   "outputs": [
    {
     "name": "stdout",
     "output_type": "stream",
     "text": [
      "(7000, 7)\n",
      "(7000,)\n"
     ]
    }
   ],
   "source": [
    "print(X_train.shape)\n",
    "print(y_train.shape)"
   ]
  },
  {
   "cell_type": "markdown",
   "id": "7c668a48",
   "metadata": {},
   "source": [
    "**Interpretación**\n",
    "\n",
    "Como se puede observar en la gráfica se toma a consideración las características Rotational speed, Torque, Process temperature en donde se puede apreciar que antes de realizar el escalamiento no tenian una buena dispersión. Posterior a ello tras realizar el proceso de MinMax Scaling se puede identificar que la distribución torna en un intervalo de 0 a 1 lo que equivale como un modelo efectivo para la propuesta."
   ]
  },
  {
   "cell_type": "markdown",
   "id": "1b813882",
   "metadata": {},
   "source": [
    "# Naive Bayes"
   ]
  },
  {
   "cell_type": "code",
   "execution_count": 135,
   "id": "1d4e17fb",
   "metadata": {},
   "outputs": [],
   "source": [
    "# Instanciamos el algoritmo gauciano de Naive Bayes\n",
    "gnb = GaussianNB()"
   ]
  },
  {
   "cell_type": "code",
   "execution_count": 136,
   "id": "a37b686e",
   "metadata": {},
   "outputs": [],
   "source": [
    "# Alimentamos nuestro modelo con los datos de entrenamiento\n",
    "# y obtenemos la predicción\n",
    "y_pred_NB = gnb.fit(X_train, y_train.values.ravel()).predict(X_test)"
   ]
  },
  {
   "cell_type": "code",
   "execution_count": 137,
   "id": "fb19c78e",
   "metadata": {},
   "outputs": [
    {
     "name": "stdout",
     "output_type": "stream",
     "text": [
      "Accuracy Naive Bayes: 0.96\n",
      "Precision Naive Bayes: 0.6711571222644477\n",
      "Recall Naive Bayes: 0.6094285685560221\n"
     ]
    }
   ],
   "source": [
    "# Mostramos el accuracy del modelo Naive Bayes\n",
    "print(\"Accuracy Naive Bayes:\", metrics.accuracy_score(y_test, y_pred_NB))\n",
    "\n",
    "# Modelo de Precision de Naive Bayes\n",
    "print(\"Precision Naive Bayes:\", metrics.precision_score(y_test, y_pred_NB, average='macro'))\n",
    "\n",
    "# Modelo de Precision \n",
    "print(\"Recall Naive Bayes:\", metrics.recall_score(y_test, y_pred_NB, average='macro'))"
   ]
  },
  {
   "cell_type": "markdown",
   "id": "df6c2ccc",
   "metadata": {},
   "source": [
    "# Hidden Markov Model"
   ]
  },
  {
   "cell_type": "code",
   "execution_count": 138,
   "id": "dbd4c673",
   "metadata": {},
   "outputs": [
    {
     "data": {
      "text/plain": [
       "GaussianHMM(n_components=3, n_iter=50, random_state=42)"
      ]
     },
     "execution_count": 138,
     "metadata": {},
     "output_type": "execute_result"
    }
   ],
   "source": [
    "# Instanciamos el modelo Hidden Markov Model\n",
    "model = hmm.GaussianHMM(n_components = 3, covariance_type = \"diag\", n_iter = , random_state = 42)\n",
    "\n",
    "# Entrenamos el modelo con los datos de entrenamiento\n",
    "model.fit(X_train)"
   ]
  },
  {
   "cell_type": "code",
   "execution_count": 139,
   "id": "3ddac7c3",
   "metadata": {},
   "outputs": [],
   "source": [
    "# realizamos la prueba de predicción del model\n",
    "y_pred_HMM = model.predict(X_test)"
   ]
  },
  {
   "cell_type": "code",
   "execution_count": 140,
   "id": "a97488fa",
   "metadata": {},
   "outputs": [
    {
     "name": "stdout",
     "output_type": "stream",
     "text": [
      "Accuracy Hidden Markov Model: 0.302\n",
      "Precision Markov Model: 0.33317298277894164\n",
      "Recall Markov Model: 0.13545761545533658\n"
     ]
    },
    {
     "name": "stderr",
     "output_type": "stream",
     "text": [
      "C:\\Users\\enrik\\anaconda3\\lib\\site-packages\\sklearn\\metrics\\_classification.py:1318: UndefinedMetricWarning: Recall is ill-defined and being set to 0.0 in labels with no true samples. Use `zero_division` parameter to control this behavior.\n",
      "  _warn_prf(average, modifier, msg_start, len(result))\n"
     ]
    }
   ],
   "source": [
    "# Mostramos el accuracy del modelo Hidden Markov Model\n",
    "print(\"Accuracy Hidden Markov Model:\", metrics.accuracy_score(y_test, y_pred_HMM))\n",
    "\n",
    "# Model Precision: what percentage of positive tuples are labeled as such?\n",
    "print(\"Precision Markov Model:\", metrics.precision_score(y_test, y_pred_HMM, average='macro'))\n",
    "\n",
    "# Model Recall: what percentage of positive tuples are labelled as such?\n",
    "print(\"Recall Markov Model:\", metrics.recall_score(y_test, y_pred_HMM, average='macro'))"
   ]
  },
  {
   "cell_type": "markdown",
   "id": "385b0867",
   "metadata": {},
   "source": [
    "# Fuzzy Logic"
   ]
  },
  {
   "cell_type": "code",
   "execution_count": 142,
   "id": "951a0a9c",
   "metadata": {},
   "outputs": [],
   "source": [
    "X = df[['UDI', 'Type', 'Air temperature [K]', 'Process temperature [K]', 'Rotational speed [rpm]', 'Torque [Nm]', 'Tool wear [min]']]\n",
    "Y = df['Target']"
   ]
  },
  {
   "cell_type": "code",
   "execution_count": 143,
   "id": "ef92ef74",
   "metadata": {},
   "outputs": [],
   "source": [
    "from sklearn.preprocessing import StandardScaler\n",
    "# Formar objeto de scala para entradas\n",
    "VariablesEntradaScaler=StandardScaler()"
   ]
  },
  {
   "cell_type": "code",
   "execution_count": 144,
   "id": "253facdb",
   "metadata": {},
   "outputs": [],
   "source": [
    "#Aplicación de las variables de entrenamiento\n",
    "VariablesEntradaFit=VariablesEntradaScaler.fit(X)"
   ]
  },
  {
   "cell_type": "code",
   "execution_count": 145,
   "id": "810b7f18",
   "metadata": {},
   "outputs": [],
   "source": [
    "#Transformación\n",
    "X=VariablesEntradaFit.transform(X)"
   ]
  },
  {
   "cell_type": "code",
   "execution_count": 146,
   "id": "29c1e9fa",
   "metadata": {},
   "outputs": [],
   "source": [
    "#Aplicación del modelo fuzzy logic con un total de 6 grupos seleccionados\n",
    "modelo_fuzzy = FCM(n_clusters=6,init=1.7,random_state=0, fuzzifier=2) #Seleccionamos 6 cluster\n",
    "modelo_fuzzy.fit(X)"
   ]
  },
  {
   "cell_type": "code",
   "execution_count": 147,
   "id": "f92de8ab",
   "metadata": {},
   "outputs": [
    {
     "data": {
      "text/plain": [
       "array([0, 0, 0, ..., 1, 1, 1], dtype=int64)"
      ]
     },
     "execution_count": 147,
     "metadata": {},
     "output_type": "execute_result"
    }
   ],
   "source": [
    "#Toma de la variable y_pred\n",
    "centers = modelo_fuzzy.centers\n",
    "y_pred_fuzzy = modelo_fuzzy.predict(X)\n",
    "y_pred_fuzzy"
   ]
  },
  {
   "cell_type": "markdown",
   "id": "985015b1",
   "metadata": {},
   "source": [
    "# Evaluación"
   ]
  },
  {
   "cell_type": "code",
   "execution_count": 148,
   "id": "e21ed5f7",
   "metadata": {},
   "outputs": [
    {
     "name": "stdout",
     "output_type": "stream",
     "text": [
      "0.3105\n"
     ]
    }
   ],
   "source": [
    "#Imprimo el accuracy\n",
    "acc_score_fuzzy = accuracy_score(y, y_pred_fuzzy)\n",
    "print(acc_score_fuzzy)"
   ]
  },
  {
   "cell_type": "code",
   "execution_count": 149,
   "id": "8d94ea88",
   "metadata": {
    "scrolled": true
   },
   "outputs": [
    {
     "name": "stdout",
     "output_type": "stream",
     "text": [
      "[[3068 2240 4334   13    3    3]\n",
      " [  82   37  219    1    0    0]\n",
      " [   0    0    0    0    0    0]\n",
      " [   0    0    0    0    0    0]\n",
      " [   0    0    0    0    0    0]\n",
      " [   0    0    0    0    0    0]]\n"
     ]
    }
   ],
   "source": [
    "#Obtengo matriz de confusion \n",
    "cm_fuzzy = confusion_matrix(y, y_pred_fuzzy)\n",
    "print(cm_fuzzy)"
   ]
  },
  {
   "cell_type": "code",
   "execution_count": 150,
   "id": "6d471b54",
   "metadata": {},
   "outputs": [
    {
     "data": {
      "text/plain": [
       "<AxesSubplot:>"
      ]
     },
     "execution_count": 150,
     "metadata": {},
     "output_type": "execute_result"
    },
    {
     "data": {
      "image/png": "[encoded data removed]",
      "text/plain": [
       "<Figure size 432x288 with 2 Axes>"
      ]
     },
     "metadata": {
      "needs_background": "light"
     },
     "output_type": "display_data"
    }
   ],
   "source": [
    "sns.heatmap(confusion_matrix(y, y_pred_fuzzy), annot=True,cmap=\"Blues\")"
   ]
  },
  {
   "cell_type": "markdown",
   "id": "66e43dce",
   "metadata": {},
   "source": [
    "# Matriz de confusión (Naive Bayes)"
   ]
  },
  {
   "cell_type": "code",
   "execution_count": 151,
   "id": "c6b01f7a",
   "metadata": {},
   "outputs": [
    {
     "name": "stdout",
     "output_type": "stream",
     "text": [
      "[[2856   41]\n",
      " [  79   24]]\n"
     ]
    }
   ],
   "source": [
    "#Cramos la matriz de confusión\n",
    "print(confusion_matrix(y_test, y_pred_NB))"
   ]
  },
  {
   "cell_type": "code",
   "execution_count": 152,
   "id": "6a234fe2",
   "metadata": {
    "scrolled": true
   },
   "outputs": [
    {
     "data": {
      "text/plain": [
       "<AxesSubplot:>"
      ]
     },
     "execution_count": 152,
     "metadata": {},
     "output_type": "execute_result"
    },
    {
     "data": {
      "image/png": "[encoded data removed]",
      "text/plain": [
       "<Figure size 432x288 with 2 Axes>"
      ]
     },
     "metadata": {
      "needs_background": "light"
     },
     "output_type": "display_data"
    }
   ],
   "source": [
    "# Presentamos de forma estetica la matriz de confución\n",
    "sns.heatmap(confusion_matrix(y_test, y_pred_NB), annot=True)"
   ]
  },
  {
   "cell_type": "code",
   "execution_count": 153,
   "id": "382815bf",
   "metadata": {},
   "outputs": [
    {
     "data": {
      "text/plain": [
       "<AxesSubplot:>"
      ]
     },
     "execution_count": 153,
     "metadata": {},
     "output_type": "execute_result"
    },
    {
     "data": {
      "image/png": "[encoded data removed]",
      "text/plain": [
       "<Figure size 432x288 with 2 Axes>"
      ]
     },
     "metadata": {
      "needs_background": "light"
     },
     "output_type": "display_data"
    }
   ],
   "source": [
    "#Imprime la matriz de confusion de manera grafica \n",
    "sns.heatmap(confusion_matrix(y_test, y_pred_NB),cmap=\"Blues\", annot=True,annot_kws={\"size\": 15})"
   ]
  },
  {
   "cell_type": "markdown",
   "id": "f315bb41",
   "metadata": {},
   "source": [
    "# Matriz de confusión (Hidden Markov Model)\n"
   ]
  },
  {
   "cell_type": "code",
   "execution_count": 154,
   "id": "1b3d8dfa",
   "metadata": {},
   "outputs": [
    {
     "name": "stdout",
     "output_type": "stream",
     "text": [
      "[[ 896  483 1518]\n",
      " [  19   10   74]\n",
      " [   0    0    0]]\n"
     ]
    }
   ],
   "source": [
    "#Cramos la matriz de confusión\n",
    "print(confusion_matrix(y_test, y_pred_HMM))"
   ]
  },
  {
   "cell_type": "code",
   "execution_count": 155,
   "id": "3fedf489",
   "metadata": {},
   "outputs": [
    {
     "data": {
      "text/plain": [
       "<AxesSubplot:>"
      ]
     },
     "execution_count": 155,
     "metadata": {},
     "output_type": "execute_result"
    },
    {
     "data": {
      "image/png": "[encoded data removed]",
      "text/plain": [
       "<Figure size 432x288 with 2 Axes>"
      ]
     },
     "metadata": {
      "needs_background": "light"
     },
     "output_type": "display_data"
    }
   ],
   "source": [
    "# Presentamos de forma estetica la matriz de confución\n",
    "sns.heatmap(confusion_matrix(y_test, y_pred_HMM), annot=True)"
   ]
  },
  {
   "cell_type": "code",
   "execution_count": 89,
   "id": "c1ed47c9",
   "metadata": {},
   "outputs": [
    {
     "data": {
      "image/png": "[encoded data removed]",
      "text/plain": [
       "<Figure size 720x720 with 2 Axes>"
      ]
     },
     "metadata": {
      "needs_background": "light"
     },
     "output_type": "display_data"
    }
   ],
   "source": [
    "plt.figure(figsize=(10,10))\n",
    "\n",
    "Correlacion = df1.corr()\n",
    "sns.heatmap(Correlacion, cmap = 'Blues', linewidths = 0.3, linecolor = 'dodgerblue', annot = True,\n",
    "            vmin = -1, vmax = 1, cbar_kws = {'orientation':'vertical'}, square = True, cbar = True)\n",
    "plt.title('Correlación de las variables del Dataset')\n",
    "plt.show()"
   ]
  },
  {
   "cell_type": "code",
   "execution_count": null,
   "id": "4f48933f",
   "metadata": {},
   "outputs": [],
   "source": []
  }
 ],
 "metadata": {
  "kernelspec": {
   "display_name": "Python 3 (ipykernel)",
   "language": "python",
   "name": "python3"
  },
  "language_info": {
   "codemirror_mode": {
    "name": "ipython",
    "version": 3
   },
   "file_extension": ".py",
   "mimetype": "text/x-python",
   "name": "python",
   "nbconvert_exporter": "python",
   "pygments_lexer": "ipython3",
   "version": "3.9.12"
  }
 },
 "nbformat": 4,
 "nbformat_minor": 5
}
